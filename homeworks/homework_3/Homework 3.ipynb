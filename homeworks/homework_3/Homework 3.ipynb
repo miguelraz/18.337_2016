{
 "cells": [
  {
   "cell_type": "markdown",
   "metadata": {},
   "source": [
    "# Homework 3  (18.337, 2016)\n",
    "\n",
    "## Deadline: Wednesday, 24 October 2016"
   ]
  },
  {
   "cell_type": "markdown",
   "metadata": {},
   "source": [
    "Begin preparing your **mid-term project**.\n",
    "Recall that presentations will be in class\n",
    "on **October 24 and 26**.\n",
    "\n",
    "By Wednesday 12 October, please do the following:\n",
    "\n",
    "(i) Claim a video from one of the JuliaCon websites \n",
    "([JuliaCon 2016](https://www.youtube.com/playlist?list=PLP8iPy9hna6SQPwZUDtAM59-wPzCPyD_S)\n",
    "or [JuliaCon 2015](https://www.youtube.com/playlist?list=PLP8iPy9hna6Sdx4soiGrSefrmOPdUWixM)\n",
    ")\n",
    "by typing your name(s), together with the title and URL\n",
    "of the video on the \n",
    "[course Google doc](http://docs.google.com/document/d/1h_cCXOLomnLnGdz0LVsA8m9OgGdfDoDQy75M-y7A-x8/).\n",
    "You may not choose the same video as someone else, so get your choice in quickly!\n",
    "\n",
    "**OR** in place of a video, you can also choose a particularly\n",
    "interesting Julia package instead, even if there is no associated video.\n",
    "\n",
    "(ii) Give us an idea of how you plan to go beyond the video or package.\n",
    "This can mean implementing examples, extending codes,\n",
    "researching applications, etc. In all cases, you must show us code that you yourself have run\n",
    "(preferably, run it live in a notebook in the presentation).\n",
    "\n",
    "(iii) Submit a description, of about one page in length, of your planned\n",
    "midterm project to [mit.class.18337@gmail.com](mit.class.18337@gmail.com).\n",
    "\n",
    "(iv) Do something fun and creative with what you learn!\n",
    "\n"
   ]
  },
  {
   "cell_type": "markdown",
   "metadata": {},
   "source": [
    "\n",
    "Example: take the web apps video  (Shashi Gowda); summarize it for us,\n",
    "and then build a new web app using this tool that impresses us.\n"
   ]
  }
 ],
 "metadata": {
  "kernelspec": {
   "display_name": "Julia 0.5.0",
   "language": "julia",
   "name": "julia-0.5"
  },
  "language_info": {
   "file_extension": ".jl",
   "mimetype": "application/julia",
   "name": "julia",
   "version": "0.5.0"
  }
 },
 "nbformat": 4,
 "nbformat_minor": 1
}
