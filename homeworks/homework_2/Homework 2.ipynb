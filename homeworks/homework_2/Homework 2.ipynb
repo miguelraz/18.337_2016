{
 "cells": [
  {
   "cell_type": "markdown",
   "metadata": {},
   "source": [
    "# Homework 2 for 18.337, September 2016\n",
    "    \n",
    "Due at 11:59pm on **Monday 26 September 2016**.\n",
    "\n",
    "Please submit the homework to `mit.class.18337@gmail.com`"
   ]
  },
  {
   "cell_type": "markdown",
   "metadata": {},
   "source": [
    "### 1. Create your own matrix type"
   ]
  },
  {
   "cell_type": "markdown",
   "metadata": {},
   "source": [
    "In this question, we will explore Julia's type system in more detail, by defining a new type of matrix in three different ways.\n",
    "\n",
    "A symmetric [arrow (or arrowhead) matrix](https://en.wikipedia.org/wiki/Arrowhead_matrix) is a matrix whose elements are non-zero only on the diagonal and in the first row and (symmetrically) the first column:"
   ]
  },
  {
   "cell_type": "markdown",
   "metadata": {},
   "source": [
    "<img src=\"arrowhead.png\", width=250>"
   ]
  },
  {
   "cell_type": "markdown",
   "metadata": {},
   "source": [
    "(i) Use Julia's sparse matrix capabilities to define a symmetric arrow matrix: define vectors `I` and `J` containing the row ($i$) and column ($j$) coordinates of the non-zero entries, and a vector `V` of the corresponding values. Create the matrix with `sparse(I, J, V)`. [Note: be careful not to define the upper left entry more than once.]\n",
    "\n",
    "Fix a (largeish) arrow matrix that you will use throughout the question, and time how long the power method takes."
   ]
  },
  {
   "cell_type": "markdown",
   "metadata": {},
   "source": [
    "(ii) Implement a new Julia type, `SymArrowFloat`, that contains two vectors of `Float64`: 1. the diagonal entries; and 2. the first row or column (minus the first entry)."
   ]
  },
  {
   "cell_type": "markdown",
   "metadata": {},
   "source": [
    "Write the following functions acting on this type:\n",
    "- `full`, that creates a standard Julia matrix with the same contents\n",
    "- `+` for adding two arrow matrices\n",
    "- `*` for matrix-vector multiplication of a `SymArrowFloat` with a vector of `Float64`s\n",
    "- `show` to display the matrix in a clear way. \n",
    "[Import `Base.show` and then define `show(io::IO, A::SymArrowFloat)`.]\n",
    "\n",
    "Write tests to make sure that `*` works (using the `Base.Test` testing framework, as in homework 1).\n",
    "\n",
    "Find the largest eigenvalue of a symmetric arrow matrix using the `power_method` code, and check that it is correct. "
   ]
  },
  {
   "cell_type": "markdown",
   "metadata": {},
   "source": [
    "(iii) Now suppose that we need an arrow matrix with elements that are rationals, or complex numbers. We could define separate, new types for each of those possibilities (`SymArrowRational`, `SymArrowComplex`, etc.). However, Julia provides an alternative that provides, once more, for **generic code**:\n",
    "\n",
    "To make a new type `SymArrow` that can contain elements of an **arbitrary type** `T`, such as rationals or complex numbers, we use the following syntax:"
   ]
  },
  {
   "cell_type": "code",
   "execution_count": 1,
   "metadata": {
    "collapsed": false
   },
   "outputs": [],
   "source": [
    "type SymArrow{T}\n",
    "    diag::Vector{T}\n",
    "    first_row::Vector{T}  # without first entry\n",
    "end"
   ]
  },
  {
   "cell_type": "markdown",
   "metadata": {},
   "source": [
    "Here, `T` is a **type parameter**: we are defining a **template** for a new type that will contain elements of type `T`. \n",
    "\n",
    "Redefine `full`, `+` and `*`. These must also have type parameters, for example the signature of the `+` method will be\n",
    "\n",
    "    +{T}(A::SymArrow{T}, B::SymArrow{T}) = ⋯\n",
    "    \n",
    "Here, `T` can just be thought of as another parameter of the function."
   ]
  },
  {
   "cell_type": "markdown",
   "metadata": {},
   "source": [
    "Make sure that you can create objects of type `SymArrow` with 1. rational; 2. complex and 3. `BigFloat` elements."
   ]
  },
  {
   "cell_type": "markdown",
   "metadata": {},
   "source": [
    "(iv) An alternative way to define such a type is to use some of the built-in machinery that Julia provides for arrays. In order to do so, we will make a new `SymArrow2` type, which we will declare to be a **subtype** (`<:`) of the abstract type `AbstractMatrix`, as follows:"
   ]
  },
  {
   "cell_type": "code",
   "execution_count": 1,
   "metadata": {
    "collapsed": false
   },
   "outputs": [],
   "source": [
    "type SymArrow2{T} <: AbstractMatrix{T}\n",
    "    diag::Vector{T}\n",
    "    first_row::Vector{T}  # without first entry\n",
    "end"
   ]
  },
  {
   "cell_type": "markdown",
   "metadata": {},
   "source": [
    "[For a detailed discussion of parametric types, see the [Julia manual](http://docs.julialang.org/en/release-0.5/manual/types/#man-parametric-types) and the tutorial [notebooks](https://github.com/dpsanders/intermediate_julia) and [video](https://www.youtube.com/watch?v=rAxzR7lMGDM).]\n",
    "\n",
    "This will allow us to use many so-called \"fall-back methods\" that Julia provides, defined for types that to **automatically obtain functionality**, without explicitly providing it ourselves, as we had to in question (ii). **However, this may lead to less efficient code**, since the generic versions will not take advantage of the structure."
   ]
  },
  {
   "cell_type": "markdown",
   "metadata": {},
   "source": [
    "First, try defining a `SymArrow2`. What does the error message say? We see that in order to use the Julia-provided functionality, we must first define two methods for objects `A` of type `SymArrow2`:\n",
    "\n",
    "- `size(A)`, which returns, as a tuple, the size of the array (matrix) in each direction\n",
    "- `getindex(A, i, j)`, which defines what is returned when we query `A[i, j]`, i.e. access to the element at position `(i, j)`.\n",
    "\n",
    "This is done as follows; fill in the details for `getindex`:"
   ]
  },
  {
   "cell_type": "code",
   "execution_count": 6,
   "metadata": {
    "collapsed": false
   },
   "outputs": [
    {
     "data": {
      "text/plain": [
       "getindex (generic function with 123 methods)"
      ]
     },
     "execution_count": 6,
     "metadata": {},
     "output_type": "execute_result"
    }
   ],
   "source": [
    "import Base: size, getindex\n",
    "\n",
    "size{T}(A::SymArrow2{T}) = (length(A.diag), length(A.diag))\n",
    "\n",
    "function getindex{T}(A::SymArrow2{T}, i, j) \n",
    "    \n",
    "    i == j  ## fill this case in\n",
    "    i == 1  ## fill this case in\n",
    "    j == 1  ## fill this case in\n",
    "\n",
    "    return zero(T)  # otherwise return zero of type T\n",
    "end\n",
    "        "
   ]
  },
  {
   "cell_type": "markdown",
   "metadata": {},
   "source": [
    "Now check that `full` and `*` work **automatically** for this type, having defined only `size` and `getindex`.\n",
    "\n",
    "Time the power method for each version of the type. Which is fastest? Explain the trade-off between generic programming and execution speed."
   ]
  },
  {
   "cell_type": "markdown",
   "metadata": {},
   "source": [
    "## 2. Parallel prefix algorithm\n",
    "\n",
    "Show that the parallel prefix algorithm works through a recursive argument.\n",
    "Specifically:\n",
    "1. the first step performs the operation on odd-even pairs;\n",
    "2. the second step is a **recursive** prefix algorithm;\n",
    "3. the third step fills in the missing numbers.\n",
    "\n",
    "We want you to understand this by whatever means will satisfy you.\n",
    "This can be done via a computational experiment or mathematical proof."
   ]
  }
 ],
 "metadata": {
  "kernelspec": {
   "display_name": "Julia 0.4.6",
   "language": "julia",
   "name": "julia-0.4"
  },
  "language_info": {
   "file_extension": ".jl",
   "mimetype": "application/julia",
   "name": "julia",
   "version": "0.4.6"
  }
 },
 "nbformat": 4,
 "nbformat_minor": 0
}
