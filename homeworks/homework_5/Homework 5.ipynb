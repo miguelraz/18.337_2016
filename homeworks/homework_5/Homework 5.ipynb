{
 "cells": [
  {
   "cell_type": "markdown",
   "metadata": {},
   "source": [
    "# Homework 5  (18.337, 2016)\n",
    "\n",
    "## Deadline: Friday, 25 November 2016"
   ]
  },
  {
   "cell_type": "markdown",
   "metadata": {},
   "source": [
    "Begin preparing your **final project**.\n",
    "Recall that presentations will be in class\n",
    "on **December 7, 12 and 14, 2016**.\n",
    "\n",
    "Please do the following:\n",
    "\n",
    "(i) Write a brief description of your intended final project, preferably separated into 3 parts:\n",
    "\n",
    "- A **brief** description of the scientific context;\n",
    "- A **brief** description of the Julia code that you will implement, and/or which packages you will incorporate;\n",
    "- A **brief** description of the results that you hope to obtain.\n",
    "\n",
    "(ii) Submit the description, of about one page in length, of your planned\n",
    "final project to [mit.class.18337@gmail.com](mit.class.18337@gmail.com).\n",
    "\n"
   ]
  },
  {
   "cell_type": "markdown",
   "metadata": {},
   "source": [
    "# Requirements for the final project"
   ]
  },
  {
   "cell_type": "markdown",
   "metadata": {},
   "source": [
    "Please bear in mind the following points for the final project.\n",
    "\n",
    "\n",
    "The project will consist of a 12-minute oral presentation on December 7, 12 or 14.\n",
    "\n",
    "The presentation should be separated into three parts:\n",
    "- A **brief** description of the scientific context. \n",
    "\n",
    "Note that this should be aimed at your peers and professors in the course, who you should assume are **not experts** in your field. In particular, abbreviations should be defined, or, preferably, not used.\n",
    "\n",
    "- A **brief** description of the Julia code that you implemented, and/or the packages you used.\n",
    "- A **brief** description of the results you obtained / hoped to obtain / will obtain!\n",
    "\n",
    "The presentation should include a Jupyter notebook or similar in which you include relevant data, run your code, etc. \n",
    "Given the time constraints, it is not necessary to actually run the notebook during the presentation, but you should briefly show the complete notebook and/or Julia scripts that you used to obtain the results.\n",
    "\n",
    "The (brief) written description should provide the same information in a more narrative format. It can be e.g. in Jupyter notebook format. In particular, it is required to present a Jupyter notebook (or similar) that is runnable from start to finish and reproduces your results. (The exception is when the project involves cross-language gymnastics, in which case full instructions and runnable code should be provided.)"
   ]
  },
  {
   "cell_type": "markdown",
   "metadata": {},
   "source": [
    "The presentation can consist of just scrolling through a notebook and explaining the points; it does not need to be in slideshow format. Make sure to include suitable figures, though.\n",
    "\n",
    "It is also possible to use a notebook directly to make a (live) presentation using [the RISE extension](https://github.com/damianavila/RISE).\n",
    "\n",
    "If you wish to use Escher (which can also generate slides including LaTeX and graphics), we now have a way to host presentations on a publicly-available server, even if they need a running Julia process in the background."
   ]
  }
 ],
 "metadata": {
  "kernelspec": {
   "display_name": "Julia 0.5.0",
   "language": "julia",
   "name": "julia-0.5"
  },
  "language_info": {
   "file_extension": ".jl",
   "mimetype": "application/julia",
   "name": "julia",
   "version": "0.5.0"
  },
  "toc": {
   "nav_menu": {
    "height": "66px",
    "width": "252px"
   },
   "navigate_menu": true,
   "number_sections": true,
   "sideBar": true,
   "threshold": 4,
   "toc_cell": false,
   "toc_section_display": "block",
   "toc_window_display": false
  }
 },
 "nbformat": 4,
 "nbformat_minor": 1
}
