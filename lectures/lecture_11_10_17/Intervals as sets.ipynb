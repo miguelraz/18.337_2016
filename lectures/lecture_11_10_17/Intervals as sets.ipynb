{
 "cells": [
  {
   "cell_type": "code",
   "execution_count": 2,
   "metadata": {
    "collapsed": false
   },
   "outputs": [],
   "source": [
    "using ValidatedNumerics"
   ]
  },
  {
   "cell_type": "code",
   "execution_count": 3,
   "metadata": {
    "collapsed": false
   },
   "outputs": [
    {
     "data": {
      "text/plain": [
       "[1, 2]"
      ]
     },
     "execution_count": 3,
     "metadata": {},
     "output_type": "execute_result"
    }
   ],
   "source": [
    "a = 1..2"
   ]
  },
  {
   "cell_type": "markdown",
   "metadata": {},
   "source": [
    "This is the set of real numbers $\\{1 \\le x \\le 2 \\}$"
   ]
  },
  {
   "cell_type": "code",
   "execution_count": 4,
   "metadata": {
    "collapsed": false
   },
   "outputs": [
    {
     "data": {
      "text/plain": [
       "f (generic function with 1 method)"
      ]
     },
     "execution_count": 4,
     "metadata": {},
     "output_type": "execute_result"
    }
   ],
   "source": [
    "f(x) = x^2 - 2x"
   ]
  },
  {
   "cell_type": "code",
   "execution_count": 5,
   "metadata": {
    "collapsed": false
   },
   "outputs": [
    {
     "data": {
      "text/plain": [
       "[-3, 2]"
      ]
     },
     "execution_count": 5,
     "metadata": {},
     "output_type": "execute_result"
    }
   ],
   "source": [
    "f(a)"
   ]
  },
  {
   "cell_type": "code",
   "execution_count": 6,
   "metadata": {
    "collapsed": false
   },
   "outputs": [
    {
     "data": {
      "text/plain": [
       "[1, 10]"
      ]
     },
     "execution_count": 6,
     "metadata": {},
     "output_type": "execute_result"
    }
   ],
   "source": [
    "f(3..4)"
   ]
  },
  {
   "cell_type": "code",
   "execution_count": 7,
   "metadata": {
    "collapsed": false
   },
   "outputs": [
    {
     "data": {
      "text/plain": [
       "3"
      ]
     },
     "execution_count": 7,
     "metadata": {},
     "output_type": "execute_result"
    }
   ],
   "source": [
    "f(3)"
   ]
  },
  {
   "cell_type": "code",
   "execution_count": 8,
   "metadata": {
    "collapsed": false
   },
   "outputs": [
    {
     "name": "stderr",
     "output_type": "stream",
     "text": [
      "/Users/dpsanders/.julia/v0.5/Conda/deps/usr/lib/python2.7/site-packages/matplotlib/font_manager.py:273: UserWarning: Matplotlib is building the font cache using fc-list. This may take a moment.\n",
      "  warnings.warn('Matplotlib is building the font cache using fc-list. This may take a moment.')\n"
     ]
    }
   ],
   "source": [
    "using PyPlot"
   ]
  },
  {
   "cell_type": "code",
   "execution_count": 14,
   "metadata": {
    "collapsed": false
   },
   "outputs": [
    {
     "name": "stderr",
     "output_type": "stream",
     "text": [
      "WARNING: Method definition rectangle(Any, Any, Any, Any) in module Main at In[9]:5 overwritten at In[14]:5.\n",
      "WARNING: Method definition #rectangle(Array{Any, 1}, Main.#rectangle, Any, Any, Any, Any) in module Main overwritten.\n",
      "WARNING: Method definition rectangle(ValidatedNumerics.IntervalBox) in module Main at In[9]:12 overwritten at In[14]:12.\n",
      "WARNING: Method definition rectangle(ValidatedNumerics.IntervalBox, Any) in module Main at In[9]:12 overwritten at In[14]:12.\n",
      "WARNING: Method definition rectangle(ValidatedNumerics.IntervalBox, Any, Any) in module Main at In[9]:12 overwritten at In[14]:12.\n",
      "WARNING: Method definition rectangle(ValidatedNumerics.IntervalBox, Any, Any, Any) in module Main at In[9]:12 overwritten at In[14]:12.\n"
     ]
    },
    {
     "data": {
      "text/plain": [
       "rectangle (generic function with 5 methods)"
      ]
     },
     "execution_count": 14,
     "metadata": {},
     "output_type": "execute_result"
    }
   ],
   "source": [
    "using PyCall\n",
    "@pyimport matplotlib.patches as patches\n",
    "\n",
    "function rectangle(xlo, ylo, xhi, yhi; color=\"grey\", alpha=0.5, linewidth=0)\n",
    "    gca()[:add_patch](patches.Rectangle(\n",
    "        (xlo, ylo), xhi - xlo, yhi - ylo,\n",
    "        facecolor=color, alpha=alpha, linewidth=0, edgecolor=\"none\"\n",
    "    ))\n",
    "end\n",
    "\n",
    "function rectangle(X::IntervalBox, color=\"grey\", alpha=0.5, linewidth=0)\n",
    "    rectangle(X[1].lo, X[2].lo, X[1].hi, X[2].hi, color=color, alpha=alpha, linewidth=linewidth)\n",
    "end"
   ]
  },
  {
   "cell_type": "code",
   "execution_count": 19,
   "metadata": {
    "collapsed": false
   },
   "outputs": [
    {
     "data": {
      "image/png": "[encoded data removed]",
      "text/plain": [
       "PyPlot.Figure(PyObject <matplotlib.figure.Figure object at 0x32bace5d0>)"
      ]
     },
     "metadata": {},
     "output_type": "display_data"
    },
    {
     "data": {
      "text/plain": [
       "(-2.0,4.0,-3.0,8.0)"
      ]
     },
     "execution_count": 19,
     "metadata": {},
     "output_type": "execute_result"
    }
   ],
   "source": [
    "xx = -2:0.01:4\n",
    "plot(xx, f.(xx))\n",
    "\n",
    "rectangle(IntervalBox(x, y))\n",
    "\n",
    "axis(\"image\")"
   ]
  },
  {
   "cell_type": "code",
   "execution_count": 18,
   "metadata": {
    "collapsed": false
   },
   "outputs": [
    {
     "data": {
      "text/plain": [
       "[-3, 2]"
      ]
     },
     "execution_count": 18,
     "metadata": {},
     "output_type": "execute_result"
    }
   ],
   "source": [
    "x = 1..2\n",
    "y = f(x)"
   ]
  },
  {
   "cell_type": "code",
   "execution_count": 16,
   "metadata": {
    "collapsed": false
   },
   "outputs": [
    {
     "data": {
      "image/png": "[encoded data removed]",
      "text/plain": [
       "PyPlot.Figure(PyObject <matplotlib.figure.Figure object at 0x32bdf4d10>)"
      ]
     },
     "metadata": {},
     "output_type": "display_data"
    },
    {
     "data": {
      "text/plain": [
       "PyObject <matplotlib.patches.Rectangle object at 0x32bebb750>"
      ]
     },
     "execution_count": 16,
     "metadata": {},
     "output_type": "execute_result"
    },
    {
     "name": "stderr",
     "output_type": "stream",
     "text": [
      "WARNING: Base.writemime is deprecated.\n",
      "  likely near /Users/dpsanders/.julia/v0.5/IJulia/src/kernel.jl:31\n",
      "WARNING: Base.writemime is deprecated.\n",
      "  likely near /Users/dpsanders/.julia/v0.5/IJulia/src/kernel.jl:31\n",
      "WARNING: Base.writemime is deprecated.\n",
      "  likely near /Users/dpsanders/.julia/v0.5/IJulia/src/kernel.jl:31\n",
      "WARNING: Base.writemime is deprecated.\n",
      "  likely near /Users/dpsanders/.julia/v0.5/IJulia/src/kernel.jl:31\n",
      "WARNING: Base.writemime is deprecated.\n",
      "  likely near /Users/dpsanders/.julia/v0.5/IJulia/src/kernel.jl:31\n",
      "WARNING: Base.writemime is deprecated.\n",
      "  likely near /Users/dpsanders/.julia/v0.5/IJulia/src/kernel.jl:31\n",
      "WARNING: Base.writemime is deprecated.\n",
      "  likely near /Users/dpsanders/.julia/v0.5/IJulia/src/kernel.jl:31\n",
      "WARNING: Base.writemime is deprecated.\n",
      "  likely near /Users/dpsanders/.julia/v0.5/IJulia/src/kernel.jl:31\n",
      "WARNING: Base.writemime is deprecated.\n",
      "  likely near /Users/dpsanders/.julia/v0.5/IJulia/src/kernel.jl:31\n",
      "WARNING: Base.writemime is deprecated.\n",
      "  likely near /Users/dpsanders/.julia/v0.5/IJulia/src/kernel.jl:31\n",
      "WARNING: Base.writemime is deprecated.\n",
      "  likely near /Users/dpsanders/.julia/v0.5/IJulia/src/kernel.jl:31\n",
      "WARNING: Base.writemime is deprecated.\n",
      "  likely near /Users/dpsanders/.julia/v0.5/IJulia/src/kernel.jl:31\n",
      "WARNING: Base.writemime is deprecated.\n",
      "  likely near /Users/dpsanders/.julia/v0.5/IJulia/src/kernel.jl:31\n",
      "in show at /Users/dpsanders/.julia/v0.5/PyCall/src/PyCall.jl\n",
      "WARNING: Base.writemime is deprecated.\n",
      "  likely near /Users/dpsanders/.julia/v0.5/IJulia/src/kernel.jl:31\n",
      "in show at /Users/dpsanders/.julia/v0.5/PyCall/src/PyCall.jl\n",
      "WARNING: Base.writemime is deprecated.\n",
      "  likely near /Users/dpsanders/.julia/v0.5/IJulia/src/kernel.jl:31\n",
      "in show at /Users/dpsanders/.julia/v0.5/PyCall/src/PyCall.jl\n",
      "WARNING: Base.writemime is deprecated.\n",
      "  likely near /Users/dpsanders/.julia/v0.5/IJulia/src/kernel.jl:31\n",
      "in show at /Users/dpsanders/.julia/v0.5/PyCall/src/PyCall.jl\n",
      "WARNING: Base.writemime is deprecated.\n",
      "  likely near /Users/dpsanders/.julia/v0.5/IJulia/src/kernel.jl:31\n",
      "in show at /Users/dpsanders/.julia/v0.5/PyCall/src/PyCall.jl\n",
      "WARNING: Base.writemime is deprecated.\n",
      "  likely near /Users/dpsanders/.julia/v0.5/IJulia/src/kernel.jl:31\n",
      "in show at /Users/dpsanders/.julia/v0.5/PyCall/src/PyCall.jl\n",
      "WARNING: Base.writemime is deprecated.\n",
      "  likely near /Users/dpsanders/.julia/v0.5/IJulia/src/kernel.jl:31\n",
      "in show at /Users/dpsanders/.julia/v0.5/PyCall/src/PyCall.jl\n",
      "WARNING: Base.writemime is deprecated.\n",
      "  likely near /Users/dpsanders/.julia/v0.5/IJulia/src/kernel.jl:31\n",
      "in show at /Users/dpsanders/.julia/v0.5/PyCall/src/PyCall.jl\n",
      "WARNING: Base.writemime is deprecated.\n",
      "  likely near /Users/dpsanders/.julia/v0.5/IJulia/src/kernel.jl:31\n",
      "in show at /Users/dpsanders/.julia/v0.5/PyCall/src/PyCall.jl\n",
      "WARNING: Base.writemime is deprecated.\n",
      "  likely near /Users/dpsanders/.julia/v0.5/IJulia/src/kernel.jl:31\n",
      "in show at /Users/dpsanders/.julia/v0.5/PyCall/src/PyCall.jl\n",
      "WARNING: Base.writemime is deprecated.\n",
      "  likely near /Users/dpsanders/.julia/v0.5/IJulia/src/kernel.jl:31\n",
      "in show at /Users/dpsanders/.julia/v0.5/PyCall/src/PyCall.jl\n",
      "WARNING: Base.writemime is deprecated.\n",
      "  likely near /Users/dpsanders/.julia/v0.5/IJulia/src/kernel.jl:31\n",
      "in show at /Users/dpsanders/.julia/v0.5/PyCall/src/PyCall.jl\n"
     ]
    }
   ],
   "source": [
    "rectangle(IntervalBox(x, y))"
   ]
  },
  {
   "cell_type": "code",
   "execution_count": 20,
   "metadata": {
    "collapsed": false
   },
   "outputs": [
    {
     "data": {
      "image/png": "[encoded data removed]",
      "text/plain": [
       "PyPlot.Figure(PyObject <matplotlib.figure.Figure object at 0x32c032190>)"
      ]
     },
     "metadata": {},
     "output_type": "display_data"
    },
    {
     "data": {
      "text/plain": [
       "(-2.0,4.0,-1.0,10.0)"
      ]
     },
     "execution_count": 20,
     "metadata": {},
     "output_type": "execute_result"
    }
   ],
   "source": [
    "xx = -2:0.01:4\n",
    "plot(xx, f.(xx))\n",
    "\n",
    "x = 3..4\n",
    "rectangle(IntervalBox(x, f(x)))\n",
    "\n",
    "axis(\"image\")"
   ]
  },
  {
   "cell_type": "markdown",
   "metadata": {},
   "source": [
    "## Contractors:"
   ]
  },
  {
   "cell_type": "markdown",
   "metadata": {},
   "source": [
    "Take an IntervalBox and contract it:"
   ]
  },
  {
   "cell_type": "code",
   "execution_count": 22,
   "metadata": {
    "collapsed": false
   },
   "outputs": [
    {
     "data": {
      "text/plain": [
       "[1, 2] × [3, 4]"
      ]
     },
     "execution_count": 22,
     "metadata": {},
     "output_type": "execute_result"
    }
   ],
   "source": [
    "IntervalBox(1..2, 3..4)"
   ]
  },
  {
   "cell_type": "markdown",
   "metadata": {},
   "source": [
    "E.g. $y = x^2$:"
   ]
  },
  {
   "cell_type": "code",
   "execution_count": 23,
   "metadata": {
    "collapsed": false
   },
   "outputs": [
    {
     "data": {
      "text/plain": [
       "square_pos (generic function with 1 method)"
      ]
     },
     "execution_count": 23,
     "metadata": {},
     "output_type": "execute_result"
    }
   ],
   "source": [
    "function square_pos(X::IntervalBox)  # the bit where x is positive\n",
    "    x, y = X\n",
    "    \n",
    "    x = x ∩ (0..∞)  \n",
    "    y = y ∩ (x^2)\n",
    "\n",
    "    x = x ∩ √y\n",
    "    \n",
    "    return IntervalBox(x, y)\n",
    "    \n",
    "end"
   ]
  },
  {
   "cell_type": "code",
   "execution_count": 24,
   "metadata": {
    "collapsed": false
   },
   "outputs": [
    {
     "data": {
      "image/png": "[encoded data removed]",
      "text/plain": [
       "PyPlot.Figure(PyObject <matplotlib.figure.Figure object at 0x32f257950>)"
      ]
     },
     "metadata": {},
     "output_type": "display_data"
    },
    {
     "data": {
      "text/plain": [
       "(-2.0,4.0,-10.0,16.0)"
      ]
     },
     "execution_count": 24,
     "metadata": {},
     "output_type": "execute_result"
    }
   ],
   "source": [
    "xx = -2:0.01:4\n",
    "plot(xx, xx.^2)\n",
    "\n",
    "x = 1..2\n",
    "y = -10..10\n",
    "\n",
    "rectangle(IntervalBox(x, y))\n",
    "\n",
    "(x, y) = square_pos(IntervalBox(x, y))\n",
    "\n",
    "rectangle(IntervalBox(x, y), \"green\" )\n",
    "\n",
    "\n",
    "axis(\"image\")"
   ]
  },
  {
   "cell_type": "code",
   "execution_count": 25,
   "metadata": {
    "collapsed": false
   },
   "outputs": [
    {
     "data": {
      "text/plain": [
       "[1, 2] × [1, 4]"
      ]
     },
     "execution_count": 25,
     "metadata": {},
     "output_type": "execute_result"
    }
   ],
   "source": [
    "x = 1..2\n",
    "y = -10^8..10^8\n",
    "\n",
    "square_pos(IntervalBox(x,y))\n"
   ]
  },
  {
   "cell_type": "code",
   "execution_count": 28,
   "metadata": {
    "collapsed": false
   },
   "outputs": [
    {
     "name": "stderr",
     "output_type": "stream",
     "text": [
      "WARNING: Method definition add_one(ValidatedNumerics.IntervalBox) in module Main at In[26]:2 overwritten at In[28]:2.\n"
     ]
    },
    {
     "data": {
      "text/plain": [
       "add_one (generic function with 1 method)"
      ]
     },
     "execution_count": 28,
     "metadata": {},
     "output_type": "execute_result"
    }
   ],
   "source": [
    "function add_one(X::IntervalBox)  # the set y = x+1\n",
    "    x, y = X\n",
    "    \n",
    "    y = y ∩ (x + 1)\n",
    "    x = x ∩ (y - 1)\n",
    "    \n",
    "    return IntervalBox(x, y)\n",
    "end"
   ]
  },
  {
   "cell_type": "code",
   "execution_count": 31,
   "metadata": {
    "collapsed": false
   },
   "outputs": [
    {
     "data": {
      "image/png": "[encoded data removed]",
      "text/plain": [
       "PyPlot.Figure(PyObject <matplotlib.figure.Figure object at 0x32bfdad90>)"
      ]
     },
     "metadata": {},
     "output_type": "display_data"
    },
    {
     "data": {
      "text/plain": [
       "(-10.0,10.0,-10.0,16.0)"
      ]
     },
     "execution_count": 31,
     "metadata": {},
     "output_type": "execute_result"
    }
   ],
   "source": [
    "xx = -2:0.01:4\n",
    "plot(xx, xx.^2)\n",
    "plot(xx, xx+1)\n",
    "\n",
    "\n",
    "x = -10..10\n",
    "y = -10..10\n",
    "\n",
    "rectangle(IntervalBox(x, y))\n",
    "\n",
    "(x, y) = add_one(IntervalBox(x, y))\n",
    "(x, y) = square_pos(IntervalBox(x, y))\n",
    "\n",
    "\n",
    "rectangle(IntervalBox(x, y), \"green\" )\n",
    "\n",
    "\n",
    "axis(\"image\")"
   ]
  },
  {
   "cell_type": "code",
   "execution_count": 32,
   "metadata": {
    "collapsed": false
   },
   "outputs": [
    {
     "data": {
      "image/png": "[encoded data removed]",
      "text/plain": [
       "PyPlot.Figure(PyObject <matplotlib.figure.Figure object at 0x32f6c6410>)"
      ]
     },
     "metadata": {},
     "output_type": "display_data"
    },
    {
     "data": {
      "text/plain": [
       "(-2.0,4.0,-1.0,16.0)"
      ]
     },
     "execution_count": 32,
     "metadata": {},
     "output_type": "execute_result"
    }
   ],
   "source": [
    "xx = -2:0.01:4\n",
    "plot(xx, xx.^2)\n",
    "plot(xx, xx+1)\n",
    "\n",
    "\n",
    "x = -10..10\n",
    "y = -10..10\n",
    "\n",
    "#rectangle(IntervalBox(x, y))\n",
    "\n",
    "(x, y) = add_one(IntervalBox(x, y))\n",
    "(x, y) = square_pos(IntervalBox(x, y))\n",
    "\n",
    "rectangle(IntervalBox(x, y), \"green\" )\n",
    "\n",
    "\n",
    "(x, y) = add_one(IntervalBox(x, y))\n",
    "(x, y) = square_pos(IntervalBox(x, y))\n",
    "\n",
    "rectangle(IntervalBox(x, y), \"green\" )\n",
    "\n",
    "\n",
    "axis(\"image\")"
   ]
  },
  {
   "cell_type": "code",
   "execution_count": null,
   "metadata": {
    "collapsed": true
   },
   "outputs": [],
   "source": []
  }
 ],
 "metadata": {
  "kernelspec": {
   "display_name": "Julia 0.5.0",
   "language": "julia",
   "name": "julia-0.5"
  },
  "language_info": {
   "file_extension": ".jl",
   "mimetype": "application/julia",
   "name": "julia",
   "version": "0.5.0"
  }
 },
 "nbformat": 4,
 "nbformat_minor": 1
}
