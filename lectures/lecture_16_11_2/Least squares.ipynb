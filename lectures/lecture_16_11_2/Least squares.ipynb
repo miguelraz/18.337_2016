{
 "cells": [
  {
   "cell_type": "markdown",
   "metadata": {},
   "source": [
    "Tall and skinny matrix $A$, unknown short vector $x$, long vector $y$.\n",
    "\n",
    "Too many equations, not enough unknowns -- overdetermined.\n",
    "Solve $Ax \\approx y$."
   ]
  },
  {
   "cell_type": "markdown",
   "metadata": {},
   "source": [
    "Column space of $A$ (all combinations of columns of $A$) living in a hyperplane in a high-dimensional space: the space of all possible $Ax$s. The vector $y$ doesn't live in that space; project onto the column space."
   ]
  },
  {
   "cell_type": "markdown",
   "metadata": {},
   "source": [
    "In Julia, just type `A \\ x` and it does all the work for you, giving the least-squares solution."
   ]
  },
  {
   "cell_type": "markdown",
   "metadata": {},
   "source": [
    "**Applications**:"
   ]
  },
  {
   "cell_type": "markdown",
   "metadata": {},
   "source": [
    "Linear least squares (linear algebra is overkill):\n",
    "\n",
    "Given $\\{(x_i, y_i)\\}$, find the best-fit line.\n",
    "\n",
    "$$A = \\begin{pmatrix} 1 & x_1 \\\\ 1 & x_2 \\\\ \\vdots & \\vdots \\\\ 1 & xn \\end{pmatrix} \n",
    "\\begin{pmatrix} y_intercept \\\\ slope \\end{pmatrix} = \\begin{pmatrix} y_1 \\\\ \\vdots \\\\ y_n \\end{pmatrix} $$"
   ]
  },
  {
   "cell_type": "markdown",
   "metadata": {},
   "source": [
    "$$A^T A x = A^T y$$\n",
    "\n",
    "so $$x = (A^T A)^{-1} A^T y$$\n",
    "\n",
    "This is mathematically correct, but not how to actually compute.\n",
    "\n",
    "Rather, take $A = QR$ and $x = R^{-1} Q^T y$"
   ]
  },
  {
   "cell_type": "markdown",
   "metadata": {},
   "source": [
    "In this case, $A^T A = \\begin{pmatrix} n & \\sum x_i \\\\ \\sum x_i & \\sum_i x_i^2 \\end{pmatrix}$"
   ]
  },
  {
   "cell_type": "markdown",
   "metadata": {},
   "source": [
    "For nonlinear least squares, $A = \\begin{pmatrix} 1 & x_1 & x_1^2 \\\\ ... \\\\ 1 & x_n & x_n^2 \\end{pmatrix}$"
   ]
  },
  {
   "cell_type": "markdown",
   "metadata": {},
   "source": [
    "Or e.g. fit to $c_1 e^x + c_2 \\sin 3x + c_3 erf(x)$"
   ]
  },
  {
   "cell_type": "markdown",
   "metadata": {},
   "source": [
    "## Example"
   ]
  },
  {
   "cell_type": "code",
   "execution_count": 2,
   "metadata": {
    "collapsed": false
   },
   "outputs": [
    {
     "data": {
      "text/plain": [
       "61-element Array{Float64,1}:\n",
       " -0.14112 \n",
       " -0.239249\n",
       " -0.334988\n",
       " -0.42738 \n",
       " -0.515501\n",
       " -0.598472\n",
       " -0.675463\n",
       " -0.745705\n",
       " -0.808496\n",
       " -0.863209\n",
       " -0.909297\n",
       " -0.9463  \n",
       " -0.973848\n",
       "  ⋮       \n",
       "  0.9463  \n",
       "  0.909297\n",
       "  0.863209\n",
       "  0.808496\n",
       "  0.745705\n",
       "  0.675463\n",
       "  0.598472\n",
       "  0.515501\n",
       "  0.42738 \n",
       "  0.334988\n",
       "  0.239249\n",
       "  0.14112 "
      ]
     },
     "execution_count": 2,
     "metadata": {},
     "output_type": "execute_result"
    }
   ],
   "source": [
    "xx = -3:0.1:3\n",
    "yy = sin.(xx)"
   ]
  },
  {
   "cell_type": "code",
   "execution_count": 7,
   "metadata": {
    "collapsed": false
   },
   "outputs": [
    {
     "data": {
      "text/plain": [
       "61×3 Array{Float64,2}:\n",
       " 1.0  -3.0  9.0 \n",
       " 1.0  -2.9  8.41\n",
       " 1.0  -2.8  7.84\n",
       " 1.0  -2.7  7.29\n",
       " 1.0  -2.6  6.76\n",
       " 1.0  -2.5  6.25\n",
       " 1.0  -2.4  5.76\n",
       " 1.0  -2.3  5.29\n",
       " 1.0  -2.2  4.84\n",
       " 1.0  -2.1  4.41\n",
       " 1.0  -2.0  4.0 \n",
       " 1.0  -1.9  3.61\n",
       " 1.0  -1.8  3.24\n",
       " ⋮              \n",
       " 1.0   1.9  3.61\n",
       " 1.0   2.0  4.0 \n",
       " 1.0   2.1  4.41\n",
       " 1.0   2.2  4.84\n",
       " 1.0   2.3  5.29\n",
       " 1.0   2.4  5.76\n",
       " 1.0   2.5  6.25\n",
       " 1.0   2.6  6.76\n",
       " 1.0   2.7  7.29\n",
       " 1.0   2.8  7.84\n",
       " 1.0   2.9  8.41\n",
       " 1.0   3.0  9.0 "
      ]
     },
     "execution_count": 7,
     "metadata": {},
     "output_type": "execute_result"
    }
   ],
   "source": [
    "fs = [x -> x^i for i in 0:2]\n",
    "\n",
    "M = [f(x) for f in fs, x in xx]'"
   ]
  },
  {
   "cell_type": "code",
   "execution_count": 9,
   "metadata": {
    "collapsed": false
   },
   "outputs": [
    {
     "data": {
      "text/plain": [
       "3-element Array{Float64,1}:\n",
       "  6.39816e-17\n",
       "  0.331032   \n",
       " -1.57434e-17"
      ]
     },
     "execution_count": 9,
     "metadata": {},
     "output_type": "execute_result"
    }
   ],
   "source": [
    "M \\ yy"
   ]
  },
  {
   "cell_type": "code",
   "execution_count": 2,
   "metadata": {
    "collapsed": false
   },
   "outputs": [
    {
     "data": {
      "text/html": [
       "<div id=\"interact-js-shim\">\n",
       "    <script charset=\"utf-8\">\n",
       "(function (IPython, $, _, MathJax) {\n",
       "    $.event.special.destroyed = {\n",
       "\tremove: function(o) {\n",
       "\t    if (o.handler) {\n",
       "\t\to.handler.apply(this, arguments)\n",
       "\t    }\n",
       "\t}\n",
       "    }\n",
       "\n",
       "    var OutputArea = IPython.version >= \"4.0.0\" ? require(\"notebook/js/outputarea\").OutputArea : IPython.OutputArea;\n",
       "\n",
       "    var redrawValue = function (container, type, val) {\n",
       "\tvar selector = $(\"<div/>\");\n",
       "\tvar oa = new OutputArea(_.extend(selector, {\n",
       "\t    selector: selector,\n",
       "\t    prompt_area: true,\n",
       "\t    events: IPython.events,\n",
       "\t    keyboard_manager: IPython.keyboard_manager\n",
       "\t})); // Hack to work with IPython 2.1.0\n",
       "\n",
       "\tswitch (type) {\n",
       "\tcase \"image/png\":\n",
       "            var _src = 'data:' + type + ';base64,' + val;\n",
       "\t    $(container).find(\"img\").attr('src', _src);\n",
       "\t    break;\n",
       "\tdefault:\n",
       "\t    var toinsert = OutputArea.append_map[type].apply(\n",
       "\t\toa, [val, {}, selector]\n",
       "\t    );\n",
       "\t    $(container).empty().append(toinsert.contents());\n",
       "\t    selector.remove();\n",
       "\t}\n",
       "\tif (type === \"text/latex\" && MathJax) {\n",
       "\t    MathJax.Hub.Queue([\"Typeset\", MathJax.Hub, toinsert.get(0)]);\n",
       "\t}\n",
       "    }\n",
       "\n",
       "\n",
       "    $(document).ready(function() {\n",
       "\tfunction initComm(evt, data) {\n",
       "\t    var comm_manager = data.kernel.comm_manager;\n",
       "        //_.extend(comm_manager.targets, require(\"widgets/js/widget\"))\n",
       "\t    comm_manager.register_target(\"Signal\", function (comm) {\n",
       "            comm.on_msg(function (msg) {\n",
       "                //Widgets.log(\"message received\", msg);\n",
       "                var val = msg.content.data.value;\n",
       "                $(\".signal-\" + comm.comm_id).each(function() {\n",
       "                var type = $(this).data(\"type\");\n",
       "                if (val[type]) {\n",
       "                    redrawValue(this, type, val[type], type);\n",
       "                }\n",
       "                });\n",
       "                delete val;\n",
       "                delete msg.content.data.value;\n",
       "            });\n",
       "\t    });\n",
       "\n",
       "\t    // coordingate with Comm and redraw Signals\n",
       "\t    // XXX: Test using Reactive here to improve performance\n",
       "\t    $([IPython.events]).on(\n",
       "\t\t'output_appended.OutputArea', function (event, type, value, md, toinsert) {\n",
       "\t\t    if (md && md.reactive) {\n",
       "                // console.log(md.comm_id);\n",
       "                toinsert.addClass(\"signal-\" + md.comm_id);\n",
       "                toinsert.data(\"type\", type);\n",
       "                // Signal back indicating the mimetype required\n",
       "                var comm_manager = IPython.notebook.kernel.comm_manager;\n",
       "                var comm = comm_manager.comms[md.comm_id];\n",
       "                comm.then(function (c) {\n",
       "                    c.send({action: \"subscribe_mime\",\n",
       "                       mime: type});\n",
       "                    toinsert.bind(\"destroyed\", function() {\n",
       "                        c.send({action: \"unsubscribe_mime\",\n",
       "                               mime: type});\n",
       "                    });\n",
       "                })\n",
       "\t\t    }\n",
       "\t    });\n",
       "\t}\n",
       "\n",
       "\ttry {\n",
       "\t    // try to initialize right away. otherwise, wait on the status_started event.\n",
       "\t    initComm(undefined, IPython.notebook);\n",
       "\t} catch (e) {\n",
       "\t    $([IPython.events]).on('kernel_created.Kernel kernel_created.Session', initComm);\n",
       "\t}\n",
       "    });\n",
       "})(IPython, jQuery, _, MathJax);\n",
       "</script>\n",
       "    <script>\n",
       "        window.interactLoadedFlag = true\n",
       "       $(\"#interact-js-shim\").bind(\"destroyed\", function () {\n",
       "           if (window.interactLoadedFlag) {\n",
       "               console.warn(\"JavaScript required by Interact will be removed if you remove this cell or run using Interact more than once.\")\n",
       "           }\n",
       "       })\n",
       "       $([IPython.events]).on(\"kernel_starting.Kernel kernel_restarting.Kernel\", function () { window.interactLoadedFlag = false })\n",
       "   </script>\n",
       "</div>"
      ]
     },
     "metadata": {},
     "output_type": "display_data"
    }
   ],
   "source": [
    "using Plots, Interact"
   ]
  },
  {
   "cell_type": "code",
   "execution_count": 3,
   "metadata": {
    "collapsed": false
   },
   "outputs": [
    {
     "data": {
      "text/plain": [
       "* (generic function with 174 methods)"
      ]
     },
     "execution_count": 3,
     "metadata": {},
     "output_type": "execute_result"
    }
   ],
   "source": [
    "import Base: +, *\n",
    "\n",
    "+(f::Function, g::Function) = x -> f(x) + g(x)\n",
    "*(α::Number, f::Function) = x -> α*f(x)"
   ]
  },
  {
   "cell_type": "code",
   "execution_count": 4,
   "metadata": {
    "collapsed": false
   },
   "outputs": [
    {
     "data": {
      "text/plain": [
       "true"
      ]
     },
     "execution_count": 4,
     "metadata": {},
     "output_type": "execute_result"
    }
   ],
   "source": [
    "g = sin + 2cos\n",
    "g(3) == sin(3) + 2cos(3)"
   ]
  },
  {
   "cell_type": "code",
   "execution_count": 5,
   "metadata": {
    "collapsed": false
   },
   "outputs": [
    {
     "data": {
      "text/plain": [
       "-1.0:0.001:1.0"
      ]
     },
     "execution_count": 5,
     "metadata": {},
     "output_type": "execute_result"
    }
   ],
   "source": [
    "ff(x) = 1 / (1 + 25x^2)\n",
    "xx = -1:0.1:1\n",
    "yy = ff.(xx);\n",
    "\n",
    "xs = -1:0.001:1\n"
   ]
  },
  {
   "cell_type": "code",
   "execution_count": 1,
   "metadata": {
    "collapsed": false
   },
   "outputs": [
    {
     "ename": "LoadError",
     "evalue": "LoadError: UndefVarError: @manipulate not defined\nwhile loading In[1], in expression starting on line 1",
     "output_type": "error",
     "traceback": [
      "LoadError: UndefVarError: @manipulate not defined\nwhile loading In[1], in expression starting on line 1",
      ""
     ]
    }
   ],
   "source": [
    "@manipulate for d in 1:20\n",
    "    \n",
    "    fs = [x -> x^i for i in 0:d]\n",
    "    \n",
    "    # fs = [exp, x->log(abs(x)), x->tan(2x)]\n",
    "\n",
    "    M = [f(x) for f in fs[1:d], x in xx]'\n",
    "    \n",
    "    coeffs = M \\ yy\n",
    "    \n",
    "    f = sum(coeffs[i] * fs[i] for i in 1:d)\n",
    "\n",
    "        plot(xs, ff.(xs))\n",
    "        plot!(xs, f.(xs))\n",
    "        scatter!(xx, zeros(xx))\n",
    "end"
   ]
  },
  {
   "cell_type": "code",
   "execution_count": 13,
   "metadata": {
    "collapsed": false
   },
   "outputs": [
    {
     "ename": "LoadError",
     "evalue": "LoadError: UndefVarError: xs not defined\nwhile loading In[13], in expression starting on line 1",
     "output_type": "error",
     "traceback": [
      "LoadError: UndefVarError: xs not defined\nwhile loading In[13], in expression starting on line 1",
      ""
     ]
    }
   ],
   "source": [
    "xs"
   ]
  },
  {
   "cell_type": "code",
   "execution_count": null,
   "metadata": {
    "collapsed": true
   },
   "outputs": [],
   "source": []
  },
  {
   "cell_type": "code",
   "execution_count": null,
   "metadata": {
    "collapsed": true
   },
   "outputs": [],
   "source": []
  }
 ],
 "metadata": {
  "kernelspec": {
   "display_name": "Julia 0.5.0",
   "language": "julia",
   "name": "julia-0.5"
  },
  "language_info": {
   "file_extension": ".jl",
   "mimetype": "application/julia",
   "name": "julia",
   "version": "0.5.0"
  }
 },
 "nbformat": 4,
 "nbformat_minor": 1
}
