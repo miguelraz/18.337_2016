{
 "cells": [
  {
   "cell_type": "markdown",
   "metadata": {},
   "source": [
    "# Interval arithmetic "
   ]
  },
  {
   "cell_type": "markdown",
   "metadata": {},
   "source": [
    "The idea of interval arithmetic is to calculate with **sets** of real numbers, represented as intervals, $X = [a,b]$ (usually with closed end-points), and define an operation $\\circ$ between two intervals $X = [a, b]$ and $Y = [c,d]$ as\n",
    "\n",
    "$$X \\circ Y := \\{x \\circ y: x \\in X, y \\in Y\\},$$\n",
    "\n",
    "i.e. the result should contain **all possible** results for any pair of values, one from each interval.\n",
    "\n",
    "In this way, after doing a sequence of such calculations, the end result should contain **all possible results**, having started from the given initial value(s). Note that this may lead to (significant) over-estimate. The simplest example is $-$:"
   ]
  },
  {
   "cell_type": "markdown",
   "metadata": {},
   "source": [
    "$$[0, 1] - [0, 1] = [-1, 1]$$"
   ]
  },
  {
   "cell_type": "markdown",
   "metadata": {},
   "source": [
    "The above definition is not useful for calculation, but it can be reduced to basic operations, e.g.\n",
    "\n",
    "$$[a, b] + [c, d] = [a + c, b + d]$$\n",
    "$$[a, b] - [c, d] = [a - d, b - c]$$\n",
    "\n",
    "Multiplication is more complicated when the signs of the end-points differ."
   ]
  },
  {
   "cell_type": "markdown",
   "metadata": {},
   "source": [
    "## Implementing interval arithmetic"
   ]
  },
  {
   "cell_type": "markdown",
   "metadata": {},
   "source": [
    "We can now try to implement interval arithmetic in Julia:"
   ]
  },
  {
   "cell_type": "code",
   "execution_count": 50,
   "metadata": {
    "collapsed": true
   },
   "outputs": [],
   "source": [
    "workspace()"
   ]
  },
  {
   "cell_type": "code",
   "execution_count": 51,
   "metadata": {
    "collapsed": false
   },
   "outputs": [
    {
     "data": {
      "text/plain": [
       "+ (generic function with 178 methods)"
      ]
     },
     "execution_count": 51,
     "metadata": {},
     "output_type": "execute_result"
    }
   ],
   "source": [
    "immutable SimpleInterval{T}\n",
    "    lo::T\n",
    "    hi::T\n",
    "end\n",
    "\n",
    "SimpleInterval(a) = SimpleInterval(a, a)\n",
    "\n",
    "\n",
    "import Base.+\n",
    "\n",
    "+(X::SimpleInterval, Y::SimpleInterval) = SimpleInterval(X.lo + Y.lo, X.hi + Y.hi)"
   ]
  },
  {
   "cell_type": "code",
   "execution_count": 52,
   "metadata": {
    "collapsed": false
   },
   "outputs": [
    {
     "data": {
      "text/plain": [
       "SimpleInterval{Float64}(0.30000000000000004,0.30000000000000004)"
      ]
     },
     "execution_count": 52,
     "metadata": {},
     "output_type": "execute_result"
    }
   ],
   "source": [
    "a = SimpleInterval(0.1)\n",
    "b = SimpleInterval(0.2)\n",
    "\n",
    "a + b"
   ]
  },
  {
   "cell_type": "markdown",
   "metadata": {},
   "source": [
    "## Intervals with floating point"
   ]
  },
  {
   "cell_type": "markdown",
   "metadata": {},
   "source": [
    "The above actually works only if we are dealing with true real numbers. If we are using floating point end-points (as we must, in any actual implementation), then the operations $+$ etc. may introduce an additional rounding error. To counteract this, and to **guarantee** that the resulting bounds are correct, we must **fix the rounding** ourselves: the operation for the lower end-point must be rounded down ($\\nabla)$, and for the upper end-point must be rounded up ($\\Delta$). This is known as **directed rounding**:"
   ]
  },
  {
   "cell_type": "markdown",
   "metadata": {},
   "source": [
    "$$[a, b] + [c, d] = [\\nabla(a+c), \\Delta(b + d)]$$\n",
    "    "
   ]
  },
  {
   "cell_type": "markdown",
   "metadata": {},
   "source": [
    "These operations are implemented in IEEE arithmetic for the basic operations ($+$, $-$, $*$, $/$ and $\\sqrt{}$). This requires the calculations with floating point to use two extra bits internally to determine in which direction the final result should be rounded. \n",
    "\n",
    "In Julia, the rounding mode may be directly manipulated:"
   ]
  },
  {
   "cell_type": "code",
   "execution_count": 53,
   "metadata": {
    "collapsed": false
   },
   "outputs": [
    {
     "data": {
      "text/plain": [
       "+ (generic function with 179 methods)"
      ]
     },
     "execution_count": 53,
     "metadata": {},
     "output_type": "execute_result"
    }
   ],
   "source": [
    "immutable RoundedInterval{T}\n",
    "    lo::T\n",
    "    hi::T\n",
    "end\n",
    "\n",
    "RoundedInterval(a) = RoundedInterval(a, a)\n",
    "\n",
    "\n",
    "import Base.+\n",
    "function +{T}(X::RoundedInterval{T}, Y::RoundedInterval{T}) \n",
    "    a = setrounding(T, RoundDown) do\n",
    "        X.lo + Y.lo\n",
    "    end\n",
    "    \n",
    "    b = setrounding(T, RoundUp) do\n",
    "        X.hi + Y.hi\n",
    "    end\n",
    "    \n",
    "    return RoundedInterval(a, b)\n",
    "end"
   ]
  },
  {
   "cell_type": "code",
   "execution_count": 54,
   "metadata": {
    "collapsed": false
   },
   "outputs": [
    {
     "data": {
      "text/plain": [
       "RoundedInterval{Float64}(0.3,0.30000000000000004)"
      ]
     },
     "execution_count": 54,
     "metadata": {},
     "output_type": "execute_result"
    }
   ],
   "source": [
    "a = RoundedInterval(0.1)\n",
    "b = RoundedInterval(0.2)\n",
    "\n",
    "a + b"
   ]
  },
  {
   "cell_type": "markdown",
   "metadata": {},
   "source": [
    "Note that Julia implements an algorithm (called Grisu) that outputs floating-point numbers with the shortest representation such that inputting that representation recovers the same floating-point number. But **always recall that what you see is *not* what you get**:"
   ]
  },
  {
   "cell_type": "code",
   "execution_count": 49,
   "metadata": {
    "collapsed": false
   },
   "outputs": [
    {
     "data": {
      "text/plain": [
       "2.999999999999999888977697537484345957636833190917968750000000000000000000000000e-01"
      ]
     },
     "execution_count": 49,
     "metadata": {},
     "output_type": "execute_result"
    }
   ],
   "source": [
    "big(0.3)"
   ]
  },
  {
   "cell_type": "markdown",
   "metadata": {},
   "source": [
    "## ValidatedNumerics"
   ]
  },
  {
   "cell_type": "markdown",
   "metadata": {},
   "source": [
    "Interval arithmetic is implemented in the [https://github.com/dpsanders/ValidatedNumerics.jl](ValidatedNumerics.jl) package:"
   ]
  },
  {
   "cell_type": "code",
   "execution_count": null,
   "metadata": {
    "collapsed": true
   },
   "outputs": [],
   "source": [
    "Pkg.add(\"ValidatedNumerics\")  # install once"
   ]
  },
  {
   "cell_type": "code",
   "execution_count": 55,
   "metadata": {
    "collapsed": false
   },
   "outputs": [
    {
     "name": "stderr",
     "output_type": "stream",
     "text": [
      "WARNING: Method definition redirect_stdin(Function, Any) in module Compat at /Users/dpsanders/.julia/v0.5/Compat/src/Compat.jl:1597 overwritten in module Compat at /Users/dpsanders/.julia/v0.5/Compat/src/Compat.jl:1597.\n",
      "WARNING: Method definition redirect_stdout(Function, Any) in module Compat at /Users/dpsanders/.julia/v0.5/Compat/src/Compat.jl:1597 overwritten in module Compat at /Users/dpsanders/.julia/v0.5/Compat/src/Compat.jl:1597.\n",
      "WARNING: Method definition redirect_stderr(Function, Any) in module Compat at /Users/dpsanders/.julia/v0.5/Compat/src/Compat.jl:1597 overwritten in module Compat at /Users/dpsanders/.julia/v0.5/Compat/src/Compat.jl:1597.\n"
     ]
    }
   ],
   "source": [
    "using ValidatedNumerics   # in every session"
   ]
  },
  {
   "cell_type": "markdown",
   "metadata": {},
   "source": [
    "The basic type is `Interval`:"
   ]
  },
  {
   "cell_type": "code",
   "execution_count": 63,
   "metadata": {
    "collapsed": false
   },
   "outputs": [
    {
     "data": {
      "text/plain": [
       "[0.2, 0.200001]"
      ]
     },
     "execution_count": 63,
     "metadata": {},
     "output_type": "execute_result"
    }
   ],
   "source": [
    "a = Interval(0.1)\n",
    "b = Interval(0.2)"
   ]
  },
  {
   "cell_type": "code",
   "execution_count": 60,
   "metadata": {
    "collapsed": false
   },
   "outputs": [
    {
     "name": "stdout",
     "output_type": "stream",
     "text": [
      "RoundedInterval{Float64}(0.1,0.1)"
     ]
    }
   ],
   "source": [
    "showall(a)"
   ]
  },
  {
   "cell_type": "markdown",
   "metadata": {},
   "source": [
    "Note that the output by default is rounded; `showall` shows the full output."
   ]
  },
  {
   "cell_type": "markdown",
   "metadata": {},
   "source": [
    "Many functions are defined (overloaded) on intervals, with the guarantee that the result is an interval that contains the correct result for any values within the input intervals:"
   ]
  },
  {
   "cell_type": "code",
   "execution_count": 83,
   "metadata": {
    "collapsed": false
   },
   "outputs": [
    {
     "data": {
      "text/plain": [
       "[1, 2]"
      ]
     },
     "execution_count": 83,
     "metadata": {},
     "output_type": "execute_result"
    }
   ],
   "source": [
    "a = 1 .. 2   # short syntax to create an interval: the .. operator"
   ]
  },
  {
   "cell_type": "code",
   "execution_count": 76,
   "metadata": {
    "collapsed": false
   },
   "outputs": [
    {
     "data": {
      "text/plain": [
       "[1.19999, 2.20001]"
      ]
     },
     "execution_count": 76,
     "metadata": {},
     "output_type": "execute_result"
    }
   ],
   "source": [
    "a + b"
   ]
  },
  {
   "cell_type": "code",
   "execution_count": 77,
   "metadata": {
    "collapsed": false
   },
   "outputs": [
    {
     "data": {
      "text/plain": [
       "[0.2, 0.400001]"
      ]
     },
     "execution_count": 77,
     "metadata": {},
     "output_type": "execute_result"
    }
   ],
   "source": [
    "a * b"
   ]
  },
  {
   "cell_type": "code",
   "execution_count": 78,
   "metadata": {
    "collapsed": false
   },
   "outputs": [
    {
     "data": {
      "text/plain": [
       "[0.799999, 1.80001]"
      ]
     },
     "execution_count": 78,
     "metadata": {},
     "output_type": "execute_result"
    }
   ],
   "source": [
    "a - b"
   ]
  },
  {
   "cell_type": "code",
   "execution_count": 79,
   "metadata": {
    "collapsed": false
   },
   "outputs": [
    {
     "data": {
      "text/plain": [
       "[4.99999, 10]"
      ]
     },
     "execution_count": 79,
     "metadata": {},
     "output_type": "execute_result"
    }
   ],
   "source": [
    "a / b"
   ]
  },
  {
   "cell_type": "code",
   "execution_count": 80,
   "metadata": {
    "collapsed": false
   },
   "outputs": [
    {
     "data": {
      "text/plain": [
       "[1, 1.1487]"
      ]
     },
     "execution_count": 80,
     "metadata": {},
     "output_type": "execute_result"
    }
   ],
   "source": [
    "a^b"
   ]
  },
  {
   "cell_type": "code",
   "execution_count": 81,
   "metadata": {
    "collapsed": false
   },
   "outputs": [
    {
     "data": {
      "text/plain": [
       "[0.84147, 1]"
      ]
     },
     "execution_count": 81,
     "metadata": {},
     "output_type": "execute_result"
    }
   ],
   "source": [
    "sin(a)"
   ]
  },
  {
   "cell_type": "markdown",
   "metadata": {},
   "source": [
    "Thus you can define a standard Julia function, e.g."
   ]
  },
  {
   "cell_type": "code",
   "execution_count": 82,
   "metadata": {
    "collapsed": false
   },
   "outputs": [
    {
     "name": "stderr",
     "output_type": "stream",
     "text": [
      "WARNING: Method definition f(Any) in module Main at In[70]:1 overwritten at In[82]:1.\n"
     ]
    },
    {
     "data": {
      "text/plain": [
       "f (generic function with 1 method)"
      ]
     },
     "execution_count": 82,
     "metadata": {},
     "output_type": "execute_result"
    }
   ],
   "source": [
    "f(x) = x^2 - x^3"
   ]
  },
  {
   "cell_type": "markdown",
   "metadata": {},
   "source": [
    "and evaluate it on an interval to get a **guaranteed enclosure for the range of the function over the interval**:"
   ]
  },
  {
   "cell_type": "code",
   "execution_count": 72,
   "metadata": {
    "collapsed": false
   },
   "outputs": [
    {
     "data": {
      "text/plain": [
       "[-1, 1]"
      ]
     },
     "execution_count": 72,
     "metadata": {},
     "output_type": "execute_result"
    }
   ],
   "source": [
    "x = -1 .. 1"
   ]
  },
  {
   "cell_type": "code",
   "execution_count": 73,
   "metadata": {
    "collapsed": false
   },
   "outputs": [
    {
     "data": {
      "text/plain": [
       "[-1, 2]"
      ]
     },
     "execution_count": 73,
     "metadata": {},
     "output_type": "execute_result"
    }
   ],
   "source": [
    "f(x)"
   ]
  },
  {
   "cell_type": "code",
   "execution_count": 74,
   "metadata": {
    "collapsed": false
   },
   "outputs": [
    {
     "name": "stderr",
     "output_type": "stream",
     "text": [
      "/Users/dpsanders/.julia/v0.5/Conda/deps/usr/lib/python2.7/site-packages/matplotlib/font_manager.py:273: UserWarning: Matplotlib is building the font cache using fc-list. This may take a moment.\n",
      "  warnings.warn('Matplotlib is building the font cache using fc-list. This may take a moment.')\n"
     ]
    },
    {
     "data": {
      "image/png": "[encoded data removed]",
      "image/svg+xml": [
       "<?xml version=\"1.0\" encoding=\"utf-8\" standalone=\"no\"?>\n",
       "<!DOCTYPE svg PUBLIC \"-//W3C//DTD SVG 1.1//EN\"\n",
       "  \"http://www.w3.org/Graphics/SVG/1.1/DTD/svg11.dtd\">\n",
       "<!-- Created with matplotlib (http://matplotlib.org/) -->\n",
       "<svg height=\"288pt\" version=\"1.1\" viewBox=\"0 0 432 288\" width=\"432pt\" xmlns=\"http://www.w3.org/2000/svg\" xmlns:xlink=\"http://www.w3.org/1999/xlink\">\n",
       " <defs>\n",
       "  <style type=\"text/css\">\n",
       "*{stroke-linecap:butt;stroke-linejoin:round;stroke-miterlimit:100000;}\n",
       "  </style>\n",
       " </defs>\n",
       " <g id=\"figure_1\">\n",
       "  <g id=\"patch_1\">\n",
       "   <path d=\"M 0 288 \n",
       "L 432 288 \n",
       "L 432 0 \n",
       "L 0 0 \n",
       "z\n",
       "\" style=\"fill:#ffffff;\"/>\n",
       "  </g>\n",
       "  <g id=\"axes_1\">\n",
       "   <g id=\"patch_2\">\n",
       "    <path d=\"M 19.704646 273.965354 \n",
       "L 422.730354 273.965354 \n",
       "L 422.730354 6.434646 \n",
       "L 19.704646 6.434646 \n",
       "z\n",
       "\" style=\"fill:#ffffff;\"/>\n",
       "   </g>\n",
       "   <g id=\"matplotlib.axis_1\">\n",
       "    <g id=\"xtick_1\">\n",
       "     <g id=\"line2d_1\">\n",
       "      <path clip-path=\"url(#pebc7b24129)\" d=\"M 19.704646 273.965354 \n",
       "L 19.704646 6.434646 \n",
       "\" style=\"fill:none;stroke:#000000;stroke-dasharray:1.000000,3.000000;stroke-dashoffset:0.0;stroke-width:0.5;\"/>\n",
       "     </g>\n",
       "     <g id=\"line2d_2\">\n",
       "      <defs>\n",
       "       <path d=\"M 0 0 \n",
       "L 0 -4 \n",
       "\" id=\"mfadb93dcdf\" style=\"stroke:#000000;stroke-width:0.5;\"/>\n",
       "      </defs>\n",
       "      <g>\n",
       "       <use style=\"stroke:#000000;stroke-width:0.5;\" x=\"19.7046456693\" xlink:href=\"#mfadb93dcdf\" y=\"273.965354331\"/>\n",
       "      </g>\n",
       "     </g>\n",
       "     <g id=\"line2d_3\">\n",
       "      <defs>\n",
       "       <path d=\"M 0 0 \n",
       "L 0 4 \n",
       "\" id=\"mec171aefda\" style=\"stroke:#000000;stroke-width:0.5;\"/>\n",
       "      </defs>\n",
       "      <g>\n",
       "       <use style=\"stroke:#000000;stroke-width:0.5;\" x=\"19.7046456693\" xlink:href=\"#mec171aefda\" y=\"6.43464566929\"/>\n",
       "      </g>\n",
       "     </g>\n",
       "     <g id=\"text_1\">\n",
       "      <!-- -1.0 -->\n",
       "      <defs>\n",
       "       <path d=\"M 31.78125 66.40625 \n",
       "Q 24.171875 66.40625 20.328125 58.90625 \n",
       "Q 16.5 51.421875 16.5 36.375 \n",
       "Q 16.5 21.390625 20.328125 13.890625 \n",
       "Q 24.171875 6.390625 31.78125 6.390625 \n",
       "Q 39.453125 6.390625 43.28125 13.890625 \n",
       "Q 47.125 21.390625 47.125 36.375 \n",
       "Q 47.125 51.421875 43.28125 58.90625 \n",
       "Q 39.453125 66.40625 31.78125 66.40625 \n",
       "M 31.78125 74.21875 \n",
       "Q 44.046875 74.21875 50.515625 64.515625 \n",
       "Q 56.984375 54.828125 56.984375 36.375 \n",
       "Q 56.984375 17.96875 50.515625 8.265625 \n",
       "Q 44.046875 -1.421875 31.78125 -1.421875 \n",
       "Q 19.53125 -1.421875 13.0625 8.265625 \n",
       "Q 6.59375 17.96875 6.59375 36.375 \n",
       "Q 6.59375 54.828125 13.0625 64.515625 \n",
       "Q 19.53125 74.21875 31.78125 74.21875 \n",
       "\" id=\"BitstreamVeraSans-Roman-30\"/>\n",
       "       <path d=\"M 12.40625 8.296875 \n",
       "L 28.515625 8.296875 \n",
       "L 28.515625 63.921875 \n",
       "L 10.984375 60.40625 \n",
       "L 10.984375 69.390625 \n",
       "L 28.421875 72.90625 \n",
       "L 38.28125 72.90625 \n",
       "L 38.28125 8.296875 \n",
       "L 54.390625 8.296875 \n",
       "L 54.390625 0 \n",
       "L 12.40625 0 \n",
       "z\n",
       "\" id=\"BitstreamVeraSans-Roman-31\"/>\n",
       "       <path d=\"M 10.6875 12.40625 \n",
       "L 21 12.40625 \n",
       "L 21 0 \n",
       "L 10.6875 0 \n",
       "z\n",
       "\" id=\"BitstreamVeraSans-Roman-2e\"/>\n",
       "       <path d=\"M 4.890625 31.390625 \n",
       "L 31.203125 31.390625 \n",
       "L 31.203125 23.390625 \n",
       "L 4.890625 23.390625 \n",
       "z\n",
       "\" id=\"BitstreamVeraSans-Roman-2d\"/>\n",
       "      </defs>\n",
       "      <g transform=\"translate(11.9002706693 284.044104331)scale(0.08 -0.08)\">\n",
       "       <use xlink:href=\"#BitstreamVeraSans-Roman-2d\"/>\n",
       "       <use x=\"36.083984375\" xlink:href=\"#BitstreamVeraSans-Roman-31\"/>\n",
       "       <use x=\"99.70703125\" xlink:href=\"#BitstreamVeraSans-Roman-2e\"/>\n",
       "       <use x=\"131.494140625\" xlink:href=\"#BitstreamVeraSans-Roman-30\"/>\n",
       "      </g>\n",
       "     </g>\n",
       "    </g>\n",
       "    <g id=\"xtick_2\">\n",
       "     <g id=\"line2d_4\">\n",
       "      <path clip-path=\"url(#pebc7b24129)\" d=\"M 120.461073 273.965354 \n",
       "L 120.461073 6.434646 \n",
       "\" style=\"fill:none;stroke:#000000;stroke-dasharray:1.000000,3.000000;stroke-dashoffset:0.0;stroke-width:0.5;\"/>\n",
       "     </g>\n",
       "     <g id=\"line2d_5\">\n",
       "      <g>\n",
       "       <use style=\"stroke:#000000;stroke-width:0.5;\" x=\"120.461072835\" xlink:href=\"#mfadb93dcdf\" y=\"273.965354331\"/>\n",
       "      </g>\n",
       "     </g>\n",
       "     <g id=\"line2d_6\">\n",
       "      <g>\n",
       "       <use style=\"stroke:#000000;stroke-width:0.5;\" x=\"120.461072835\" xlink:href=\"#mec171aefda\" y=\"6.43464566929\"/>\n",
       "      </g>\n",
       "     </g>\n",
       "     <g id=\"text_2\">\n",
       "      <!-- -0.5 -->\n",
       "      <defs>\n",
       "       <path d=\"M 10.796875 72.90625 \n",
       "L 49.515625 72.90625 \n",
       "L 49.515625 64.59375 \n",
       "L 19.828125 64.59375 \n",
       "L 19.828125 46.734375 \n",
       "Q 21.96875 47.46875 24.109375 47.828125 \n",
       "Q 26.265625 48.1875 28.421875 48.1875 \n",
       "Q 40.625 48.1875 47.75 41.5 \n",
       "Q 54.890625 34.8125 54.890625 23.390625 \n",
       "Q 54.890625 11.625 47.5625 5.09375 \n",
       "Q 40.234375 -1.421875 26.90625 -1.421875 \n",
       "Q 22.3125 -1.421875 17.546875 -0.640625 \n",
       "Q 12.796875 0.140625 7.71875 1.703125 \n",
       "L 7.71875 11.625 \n",
       "Q 12.109375 9.234375 16.796875 8.0625 \n",
       "Q 21.484375 6.890625 26.703125 6.890625 \n",
       "Q 35.15625 6.890625 40.078125 11.328125 \n",
       "Q 45.015625 15.765625 45.015625 23.390625 \n",
       "Q 45.015625 31 40.078125 35.4375 \n",
       "Q 35.15625 39.890625 26.703125 39.890625 \n",
       "Q 22.75 39.890625 18.8125 39.015625 \n",
       "Q 14.890625 38.140625 10.796875 36.28125 \n",
       "z\n",
       "\" id=\"BitstreamVeraSans-Roman-35\"/>\n",
       "      </defs>\n",
       "      <g transform=\"translate(112.656697835 284.044104331)scale(0.08 -0.08)\">\n",
       "       <use xlink:href=\"#BitstreamVeraSans-Roman-2d\"/>\n",
       "       <use x=\"36.083984375\" xlink:href=\"#BitstreamVeraSans-Roman-30\"/>\n",
       "       <use x=\"99.70703125\" xlink:href=\"#BitstreamVeraSans-Roman-2e\"/>\n",
       "       <use x=\"131.494140625\" xlink:href=\"#BitstreamVeraSans-Roman-35\"/>\n",
       "      </g>\n",
       "     </g>\n",
       "    </g>\n",
       "    <g id=\"xtick_3\">\n",
       "     <g id=\"line2d_7\">\n",
       "      <path clip-path=\"url(#pebc7b24129)\" d=\"M 221.2175 273.965354 \n",
       "L 221.2175 6.434646 \n",
       "\" style=\"fill:none;stroke:#000000;stroke-dasharray:1.000000,3.000000;stroke-dashoffset:0.0;stroke-width:0.5;\"/>\n",
       "     </g>\n",
       "     <g id=\"line2d_8\">\n",
       "      <g>\n",
       "       <use style=\"stroke:#000000;stroke-width:0.5;\" x=\"221.2175\" xlink:href=\"#mfadb93dcdf\" y=\"273.965354331\"/>\n",
       "      </g>\n",
       "     </g>\n",
       "     <g id=\"line2d_9\">\n",
       "      <g>\n",
       "       <use style=\"stroke:#000000;stroke-width:0.5;\" x=\"221.2175\" xlink:href=\"#mec171aefda\" y=\"6.43464566929\"/>\n",
       "      </g>\n",
       "     </g>\n",
       "     <g id=\"text_3\">\n",
       "      <!-- 0.0 -->\n",
       "      <g transform=\"translate(214.85625 284.044104331)scale(0.08 -0.08)\">\n",
       "       <use xlink:href=\"#BitstreamVeraSans-Roman-30\"/>\n",
       "       <use x=\"63.623046875\" xlink:href=\"#BitstreamVeraSans-Roman-2e\"/>\n",
       "       <use x=\"95.41015625\" xlink:href=\"#BitstreamVeraSans-Roman-30\"/>\n",
       "      </g>\n",
       "     </g>\n",
       "    </g>\n",
       "    <g id=\"xtick_4\">\n",
       "     <g id=\"line2d_10\">\n",
       "      <path clip-path=\"url(#pebc7b24129)\" d=\"M 321.973927 273.965354 \n",
       "L 321.973927 6.434646 \n",
       "\" style=\"fill:none;stroke:#000000;stroke-dasharray:1.000000,3.000000;stroke-dashoffset:0.0;stroke-width:0.5;\"/>\n",
       "     </g>\n",
       "     <g id=\"line2d_11\">\n",
       "      <g>\n",
       "       <use style=\"stroke:#000000;stroke-width:0.5;\" x=\"321.973927165\" xlink:href=\"#mfadb93dcdf\" y=\"273.965354331\"/>\n",
       "      </g>\n",
       "     </g>\n",
       "     <g id=\"line2d_12\">\n",
       "      <g>\n",
       "       <use style=\"stroke:#000000;stroke-width:0.5;\" x=\"321.973927165\" xlink:href=\"#mec171aefda\" y=\"6.43464566929\"/>\n",
       "      </g>\n",
       "     </g>\n",
       "     <g id=\"text_4\">\n",
       "      <!-- 0.5 -->\n",
       "      <g transform=\"translate(315.612677165 284.044104331)scale(0.08 -0.08)\">\n",
       "       <use xlink:href=\"#BitstreamVeraSans-Roman-30\"/>\n",
       "       <use x=\"63.623046875\" xlink:href=\"#BitstreamVeraSans-Roman-2e\"/>\n",
       "       <use x=\"95.41015625\" xlink:href=\"#BitstreamVeraSans-Roman-35\"/>\n",
       "      </g>\n",
       "     </g>\n",
       "    </g>\n",
       "    <g id=\"xtick_5\">\n",
       "     <g id=\"line2d_13\">\n",
       "      <path clip-path=\"url(#pebc7b24129)\" d=\"M 422.730354 273.965354 \n",
       "L 422.730354 6.434646 \n",
       "\" style=\"fill:none;stroke:#000000;stroke-dasharray:1.000000,3.000000;stroke-dashoffset:0.0;stroke-width:0.5;\"/>\n",
       "     </g>\n",
       "     <g id=\"line2d_14\">\n",
       "      <g>\n",
       "       <use style=\"stroke:#000000;stroke-width:0.5;\" x=\"422.730354331\" xlink:href=\"#mfadb93dcdf\" y=\"273.965354331\"/>\n",
       "      </g>\n",
       "     </g>\n",
       "     <g id=\"line2d_15\">\n",
       "      <g>\n",
       "       <use style=\"stroke:#000000;stroke-width:0.5;\" x=\"422.730354331\" xlink:href=\"#mec171aefda\" y=\"6.43464566929\"/>\n",
       "      </g>\n",
       "     </g>\n",
       "     <g id=\"text_5\">\n",
       "      <!-- 1.0 -->\n",
       "      <g transform=\"translate(416.369104331 284.044104331)scale(0.08 -0.08)\">\n",
       "       <use xlink:href=\"#BitstreamVeraSans-Roman-31\"/>\n",
       "       <use x=\"63.623046875\" xlink:href=\"#BitstreamVeraSans-Roman-2e\"/>\n",
       "       <use x=\"95.41015625\" xlink:href=\"#BitstreamVeraSans-Roman-30\"/>\n",
       "      </g>\n",
       "     </g>\n",
       "    </g>\n",
       "   </g>\n",
       "   <g id=\"matplotlib.axis_2\">\n",
       "    <g id=\"ytick_1\">\n",
       "     <g id=\"line2d_16\">\n",
       "      <path clip-path=\"url(#pebc7b24129)\" d=\"M 19.704646 273.965354 \n",
       "L 422.730354 273.965354 \n",
       "\" style=\"fill:none;stroke:#000000;stroke-dasharray:1.000000,3.000000;stroke-dashoffset:0.0;stroke-width:0.5;\"/>\n",
       "     </g>\n",
       "     <g id=\"line2d_17\">\n",
       "      <defs>\n",
       "       <path d=\"M 0 0 \n",
       "L 4 0 \n",
       "\" id=\"m1fd783ff82\" style=\"stroke:#000000;stroke-width:0.5;\"/>\n",
       "      </defs>\n",
       "      <g>\n",
       "       <use style=\"stroke:#000000;stroke-width:0.5;\" x=\"19.7046456693\" xlink:href=\"#m1fd783ff82\" y=\"273.965354331\"/>\n",
       "      </g>\n",
       "     </g>\n",
       "     <g id=\"line2d_18\">\n",
       "      <defs>\n",
       "       <path d=\"M 0 0 \n",
       "L -4 0 \n",
       "\" id=\"mb3580f8dfc\" style=\"stroke:#000000;stroke-width:0.5;\"/>\n",
       "      </defs>\n",
       "      <g>\n",
       "       <use style=\"stroke:#000000;stroke-width:0.5;\" x=\"422.730354331\" xlink:href=\"#mb3580f8dfc\" y=\"273.965354331\"/>\n",
       "      </g>\n",
       "     </g>\n",
       "     <g id=\"text_6\">\n",
       "      <!-- 0.0 -->\n",
       "      <g transform=\"translate(2.98214566929 276.172854331)scale(0.08 -0.08)\">\n",
       "       <use xlink:href=\"#BitstreamVeraSans-Roman-30\"/>\n",
       "       <use x=\"63.623046875\" xlink:href=\"#BitstreamVeraSans-Roman-2e\"/>\n",
       "       <use x=\"95.41015625\" xlink:href=\"#BitstreamVeraSans-Roman-30\"/>\n",
       "      </g>\n",
       "     </g>\n",
       "    </g>\n",
       "    <g id=\"ytick_2\">\n",
       "     <g id=\"line2d_19\">\n",
       "      <path clip-path=\"url(#pebc7b24129)\" d=\"M 19.704646 207.082677 \n",
       "L 422.730354 207.082677 \n",
       "\" style=\"fill:none;stroke:#000000;stroke-dasharray:1.000000,3.000000;stroke-dashoffset:0.0;stroke-width:0.5;\"/>\n",
       "     </g>\n",
       "     <g id=\"line2d_20\">\n",
       "      <g>\n",
       "       <use style=\"stroke:#000000;stroke-width:0.5;\" x=\"19.7046456693\" xlink:href=\"#m1fd783ff82\" y=\"207.082677165\"/>\n",
       "      </g>\n",
       "     </g>\n",
       "     <g id=\"line2d_21\">\n",
       "      <g>\n",
       "       <use style=\"stroke:#000000;stroke-width:0.5;\" x=\"422.730354331\" xlink:href=\"#mb3580f8dfc\" y=\"207.082677165\"/>\n",
       "      </g>\n",
       "     </g>\n",
       "     <g id=\"text_7\">\n",
       "      <!-- 0.5 -->\n",
       "      <g transform=\"translate(2.98214566929 209.290177165)scale(0.08 -0.08)\">\n",
       "       <use xlink:href=\"#BitstreamVeraSans-Roman-30\"/>\n",
       "       <use x=\"63.623046875\" xlink:href=\"#BitstreamVeraSans-Roman-2e\"/>\n",
       "       <use x=\"95.41015625\" xlink:href=\"#BitstreamVeraSans-Roman-35\"/>\n",
       "      </g>\n",
       "     </g>\n",
       "    </g>\n",
       "    <g id=\"ytick_3\">\n",
       "     <g id=\"line2d_22\">\n",
       "      <path clip-path=\"url(#pebc7b24129)\" d=\"M 19.704646 140.2 \n",
       "L 422.730354 140.2 \n",
       "\" style=\"fill:none;stroke:#000000;stroke-dasharray:1.000000,3.000000;stroke-dashoffset:0.0;stroke-width:0.5;\"/>\n",
       "     </g>\n",
       "     <g id=\"line2d_23\">\n",
       "      <g>\n",
       "       <use style=\"stroke:#000000;stroke-width:0.5;\" x=\"19.7046456693\" xlink:href=\"#m1fd783ff82\" y=\"140.2\"/>\n",
       "      </g>\n",
       "     </g>\n",
       "     <g id=\"line2d_24\">\n",
       "      <g>\n",
       "       <use style=\"stroke:#000000;stroke-width:0.5;\" x=\"422.730354331\" xlink:href=\"#mb3580f8dfc\" y=\"140.2\"/>\n",
       "      </g>\n",
       "     </g>\n",
       "     <g id=\"text_8\">\n",
       "      <!-- 1.0 -->\n",
       "      <g transform=\"translate(2.98214566929 142.4075)scale(0.08 -0.08)\">\n",
       "       <use xlink:href=\"#BitstreamVeraSans-Roman-31\"/>\n",
       "       <use x=\"63.623046875\" xlink:href=\"#BitstreamVeraSans-Roman-2e\"/>\n",
       "       <use x=\"95.41015625\" xlink:href=\"#BitstreamVeraSans-Roman-30\"/>\n",
       "      </g>\n",
       "     </g>\n",
       "    </g>\n",
       "    <g id=\"ytick_4\">\n",
       "     <g id=\"line2d_25\">\n",
       "      <path clip-path=\"url(#pebc7b24129)\" d=\"M 19.704646 73.317323 \n",
       "L 422.730354 73.317323 \n",
       "\" style=\"fill:none;stroke:#000000;stroke-dasharray:1.000000,3.000000;stroke-dashoffset:0.0;stroke-width:0.5;\"/>\n",
       "     </g>\n",
       "     <g id=\"line2d_26\">\n",
       "      <g>\n",
       "       <use style=\"stroke:#000000;stroke-width:0.5;\" x=\"19.7046456693\" xlink:href=\"#m1fd783ff82\" y=\"73.3173228346\"/>\n",
       "      </g>\n",
       "     </g>\n",
       "     <g id=\"line2d_27\">\n",
       "      <g>\n",
       "       <use style=\"stroke:#000000;stroke-width:0.5;\" x=\"422.730354331\" xlink:href=\"#mb3580f8dfc\" y=\"73.3173228346\"/>\n",
       "      </g>\n",
       "     </g>\n",
       "     <g id=\"text_9\">\n",
       "      <!-- 1.5 -->\n",
       "      <g transform=\"translate(2.98214566929 75.5248228346)scale(0.08 -0.08)\">\n",
       "       <use xlink:href=\"#BitstreamVeraSans-Roman-31\"/>\n",
       "       <use x=\"63.623046875\" xlink:href=\"#BitstreamVeraSans-Roman-2e\"/>\n",
       "       <use x=\"95.41015625\" xlink:href=\"#BitstreamVeraSans-Roman-35\"/>\n",
       "      </g>\n",
       "     </g>\n",
       "    </g>\n",
       "    <g id=\"ytick_5\">\n",
       "     <g id=\"line2d_28\">\n",
       "      <path clip-path=\"url(#pebc7b24129)\" d=\"M 19.704646 6.434646 \n",
       "L 422.730354 6.434646 \n",
       "\" style=\"fill:none;stroke:#000000;stroke-dasharray:1.000000,3.000000;stroke-dashoffset:0.0;stroke-width:0.5;\"/>\n",
       "     </g>\n",
       "     <g id=\"line2d_29\">\n",
       "      <g>\n",
       "       <use style=\"stroke:#000000;stroke-width:0.5;\" x=\"19.7046456693\" xlink:href=\"#m1fd783ff82\" y=\"6.43464566929\"/>\n",
       "      </g>\n",
       "     </g>\n",
       "     <g id=\"line2d_30\">\n",
       "      <g>\n",
       "       <use style=\"stroke:#000000;stroke-width:0.5;\" x=\"422.730354331\" xlink:href=\"#mb3580f8dfc\" y=\"6.43464566929\"/>\n",
       "      </g>\n",
       "     </g>\n",
       "     <g id=\"text_10\">\n",
       "      <!-- 2.0 -->\n",
       "      <defs>\n",
       "       <path d=\"M 19.1875 8.296875 \n",
       "L 53.609375 8.296875 \n",
       "L 53.609375 0 \n",
       "L 7.328125 0 \n",
       "L 7.328125 8.296875 \n",
       "Q 12.9375 14.109375 22.625 23.890625 \n",
       "Q 32.328125 33.6875 34.8125 36.53125 \n",
       "Q 39.546875 41.84375 41.421875 45.53125 \n",
       "Q 43.3125 49.21875 43.3125 52.78125 \n",
       "Q 43.3125 58.59375 39.234375 62.25 \n",
       "Q 35.15625 65.921875 28.609375 65.921875 \n",
       "Q 23.96875 65.921875 18.8125 64.3125 \n",
       "Q 13.671875 62.703125 7.8125 59.421875 \n",
       "L 7.8125 69.390625 \n",
       "Q 13.765625 71.78125 18.9375 73 \n",
       "Q 24.125 74.21875 28.421875 74.21875 \n",
       "Q 39.75 74.21875 46.484375 68.546875 \n",
       "Q 53.21875 62.890625 53.21875 53.421875 \n",
       "Q 53.21875 48.921875 51.53125 44.890625 \n",
       "Q 49.859375 40.875 45.40625 35.40625 \n",
       "Q 44.1875 33.984375 37.640625 27.21875 \n",
       "Q 31.109375 20.453125 19.1875 8.296875 \n",
       "\" id=\"BitstreamVeraSans-Roman-32\"/>\n",
       "      </defs>\n",
       "      <g transform=\"translate(2.98214566929 8.64214566929)scale(0.08 -0.08)\">\n",
       "       <use xlink:href=\"#BitstreamVeraSans-Roman-32\"/>\n",
       "       <use x=\"63.623046875\" xlink:href=\"#BitstreamVeraSans-Roman-2e\"/>\n",
       "       <use x=\"95.41015625\" xlink:href=\"#BitstreamVeraSans-Roman-30\"/>\n",
       "      </g>\n",
       "     </g>\n",
       "    </g>\n",
       "   </g>\n",
       "   <g id=\"line2d_31\">\n",
       "    <path clip-path=\"url(#pebc7b24129)\" d=\"M 19.704646 6.434646 \n",
       "L 23.775612 19.72903 \n",
       "L 27.846579 32.593292 \n",
       "L 31.917546 45.034048 \n",
       "L 35.988513 57.057916 \n",
       "L 40.059479 68.671512 \n",
       "L 44.130446 79.881455 \n",
       "L 48.201413 90.69436 \n",
       "L 52.27238 101.116847 \n",
       "L 56.343346 111.155532 \n",
       "L 60.414313 120.817031 \n",
       "L 64.48528 130.107964 \n",
       "L 68.556247 139.034946 \n",
       "L 72.627213 147.604595 \n",
       "L 76.69818 155.823528 \n",
       "L 80.769147 163.698363 \n",
       "L 84.840114 171.235717 \n",
       "L 88.91108 178.442207 \n",
       "L 92.982047 185.324451 \n",
       "L 97.053014 191.889065 \n",
       "L 101.123981 198.142667 \n",
       "L 105.194948 204.091875 \n",
       "L 109.265914 209.743305 \n",
       "L 113.336881 215.103575 \n",
       "L 117.407848 220.179302 \n",
       "L 121.478815 224.977103 \n",
       "L 125.549781 229.503596 \n",
       "L 129.620748 233.765398 \n",
       "L 133.691715 237.769126 \n",
       "L 137.762682 241.521398 \n",
       "L 141.833648 245.02883 \n",
       "L 145.904615 248.298041 \n",
       "L 149.975582 251.335646 \n",
       "L 154.046549 254.148265 \n",
       "L 158.117515 256.742513 \n",
       "L 162.188482 259.125008 \n",
       "L 166.259449 261.302368 \n",
       "L 170.330416 263.28121 \n",
       "L 174.401382 265.06815 \n",
       "L 178.472349 266.669807 \n",
       "L 182.543316 268.092797 \n",
       "L 186.614283 269.343738 \n",
       "L 190.685249 270.429247 \n",
       "L 194.756216 271.355942 \n",
       "L 198.827183 272.130439 \n",
       "L 202.89815 272.759356 \n",
       "L 206.969116 273.24931 \n",
       "L 211.040083 273.606919 \n",
       "L 215.11105 273.838799 \n",
       "L 219.182017 273.951568 \n",
       "L 223.252983 273.951844 \n",
       "L 227.32395 273.846243 \n",
       "L 231.394917 273.641383 \n",
       "L 235.465884 273.343882 \n",
       "L 239.53685 272.960355 \n",
       "L 243.607817 272.497422 \n",
       "L 247.678784 271.961698 \n",
       "L 251.749751 271.359802 \n",
       "L 255.820717 270.69835 \n",
       "L 259.891684 269.983959 \n",
       "L 263.962651 269.223248 \n",
       "L 268.033618 268.422834 \n",
       "L 272.104584 267.589332 \n",
       "L 276.175551 266.729362 \n",
       "L 280.246518 265.84954 \n",
       "L 284.317485 264.956483 \n",
       "L 288.388451 264.05681 \n",
       "L 292.459418 263.157136 \n",
       "L 296.530385 262.264079 \n",
       "L 300.601352 261.384257 \n",
       "L 304.672318 260.524287 \n",
       "L 308.743285 259.690786 \n",
       "L 312.814252 258.890371 \n",
       "L 316.885219 258.12966 \n",
       "L 320.956185 257.415269 \n",
       "L 325.027152 256.753818 \n",
       "L 329.098119 256.151921 \n",
       "L 333.169086 255.616197 \n",
       "L 337.240052 255.153264 \n",
       "L 341.311019 254.769737 \n",
       "L 345.381986 254.472236 \n",
       "L 349.452953 254.267376 \n",
       "L 353.52392 254.161775 \n",
       "L 357.594886 254.162051 \n",
       "L 361.665853 254.27482 \n",
       "L 365.73682 254.506701 \n",
       "L 369.807787 254.864309 \n",
       "L 373.878753 255.354263 \n",
       "L 377.94972 255.98318 \n",
       "L 382.020687 256.757678 \n",
       "L 386.091654 257.684372 \n",
       "L 390.16262 258.769881 \n",
       "L 394.233587 260.020822 \n",
       "L 398.304554 261.443812 \n",
       "L 402.375521 263.045469 \n",
       "L 406.446487 264.83241 \n",
       "L 410.517454 266.811251 \n",
       "L 414.588421 268.988611 \n",
       "L 418.659388 271.371106 \n",
       "L 422.730354 273.965354 \n",
       "\" style=\"fill:none;stroke:#009afa;stroke-linecap:round;\"/>\n",
       "   </g>\n",
       "   <g id=\"patch_3\">\n",
       "    <path d=\"M 19.704646 6.434646 \n",
       "L 422.730354 6.434646 \n",
       "\" style=\"fill:none;stroke:#000000;stroke-linecap:square;stroke-linejoin:miter;\"/>\n",
       "   </g>\n",
       "   <g id=\"patch_4\">\n",
       "    <path d=\"M 422.730354 273.965354 \n",
       "L 422.730354 6.434646 \n",
       "\" style=\"fill:none;stroke:#000000;stroke-linecap:square;stroke-linejoin:miter;\"/>\n",
       "   </g>\n",
       "   <g id=\"patch_5\">\n",
       "    <path d=\"M 19.704646 273.965354 \n",
       "L 422.730354 273.965354 \n",
       "\" style=\"fill:none;stroke:#000000;stroke-linecap:square;stroke-linejoin:miter;\"/>\n",
       "   </g>\n",
       "   <g id=\"patch_6\">\n",
       "    <path d=\"M 19.704646 273.965354 \n",
       "L 19.704646 6.434646 \n",
       "\" style=\"fill:none;stroke:#000000;stroke-linecap:square;stroke-linejoin:miter;\"/>\n",
       "   </g>\n",
       "   <g id=\"legend_1\">\n",
       "    <g id=\"patch_7\">\n",
       "     <path d=\"M 380.105354 24.577146 \n",
       "L 418.730354 24.577146 \n",
       "L 418.730354 10.434646 \n",
       "L 380.105354 10.434646 \n",
       "z\n",
       "\" style=\"fill:#ffffff;stroke:#000000;stroke-linejoin:miter;\"/>\n",
       "    </g>\n",
       "    <g id=\"line2d_32\">\n",
       "     <path d=\"M 385.705354 16.913396 \n",
       "L 396.905354 16.913396 \n",
       "\" style=\"fill:none;stroke:#009afa;stroke-linecap:round;\"/>\n",
       "    </g>\n",
       "    <g id=\"line2d_33\"/>\n",
       "    <g id=\"text_11\">\n",
       "     <!-- y1 -->\n",
       "     <defs>\n",
       "      <path d=\"M 32.171875 -5.078125 \n",
       "Q 28.375 -14.84375 24.75 -17.8125 \n",
       "Q 21.140625 -20.796875 15.09375 -20.796875 \n",
       "L 7.90625 -20.796875 \n",
       "L 7.90625 -13.28125 \n",
       "L 13.1875 -13.28125 \n",
       "Q 16.890625 -13.28125 18.9375 -11.515625 \n",
       "Q 21 -9.765625 23.484375 -3.21875 \n",
       "L 25.09375 0.875 \n",
       "L 2.984375 54.6875 \n",
       "L 12.5 54.6875 \n",
       "L 29.59375 11.921875 \n",
       "L 46.6875 54.6875 \n",
       "L 56.203125 54.6875 \n",
       "z\n",
       "\" id=\"BitstreamVeraSans-Roman-79\"/>\n",
       "     </defs>\n",
       "     <g transform=\"translate(405.705354331 19.7133956693)scale(0.08 -0.08)\">\n",
       "      <use xlink:href=\"#BitstreamVeraSans-Roman-79\"/>\n",
       "      <use x=\"59.1796875\" xlink:href=\"#BitstreamVeraSans-Roman-31\"/>\n",
       "     </g>\n",
       "    </g>\n",
       "   </g>\n",
       "  </g>\n",
       " </g>\n",
       " <defs>\n",
       "  <clipPath id=\"pebc7b24129\">\n",
       "   <rect height=\"267.530708661\" width=\"403.025708661\" x=\"19.7046456693\" y=\"6.43464566929\"/>\n",
       "  </clipPath>\n",
       " </defs>\n",
       "</svg>\n"
      ],
      "text/html": [
       "<img src=\"data:image/png;base64,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\" />"
      ],
      "text/plain": []
     },
     "execution_count": 74,
     "metadata": {},
     "output_type": "execute_result"
    },
    {
     "name": "stderr",
     "output_type": "stream",
     "text": [
      "/Users/dpsanders/.julia/v0.5/Conda/deps/usr/lib/python2.7/site-packages/matplotlib/font_manager.py:1288: UserWarning: findfont: Font family [u'Helvetica'] not found. Falling back to Bitstream Vera Sans\n",
      "  (prop.get_family(), self.defaultFamily[fontext]))\n",
      "WARNING: _show is not defined for this backend. m=text/plain\n"
     ]
    }
   ],
   "source": [
    "using Plots\n",
    "plot(f, -1, 1)"
   ]
  },
  {
   "cell_type": "markdown",
   "metadata": {},
   "source": [
    "Note, however, that the result is an **over-estimate**, since the true range of the function is $[0, 2]$, not $[-1, 2]$. This will, in general, be the case with interval arithmetic, due to the **dependency problem** (the fact that `x` is repeated twice in the expression, and it does not know that the `x`s are the same).\n",
    "\n",
    "**Exercise:** How can we reduce this over-estimate?"
   ]
  },
  {
   "cell_type": "markdown",
   "metadata": {},
   "source": [
    "Note that"
   ]
  },
  {
   "cell_type": "code",
   "execution_count": 85,
   "metadata": {
    "collapsed": false
   },
   "outputs": [
    {
     "data": {
      "text/plain": [
       "[0.1, 0.100001]"
      ]
     },
     "execution_count": 85,
     "metadata": {},
     "output_type": "execute_result"
    }
   ],
   "source": [
    "a = Interval(0.1)"
   ]
  },
  {
   "cell_type": "code",
   "execution_count": 86,
   "metadata": {
    "collapsed": false
   },
   "outputs": [
    {
     "name": "stdout",
     "output_type": "stream",
     "text": [
      "Interval(0.1, 0.1)"
     ]
    }
   ],
   "source": [
    "showall(a)"
   ]
  },
  {
   "cell_type": "markdown",
   "metadata": {},
   "source": [
    "does *not* round $0.1$, so that this interval **does not contain the true real number $0.1$**"
   ]
  },
  {
   "cell_type": "markdown",
   "metadata": {},
   "source": [
    "Instead, we use the `@interval` macro:"
   ]
  },
  {
   "cell_type": "code",
   "execution_count": 89,
   "metadata": {
    "collapsed": false
   },
   "outputs": [
    {
     "data": {
      "text/plain": [
       "[0.0999999, 0.100001]"
      ]
     },
     "execution_count": 89,
     "metadata": {},
     "output_type": "execute_result"
    }
   ],
   "source": [
    "b = @interval(0.1)"
   ]
  },
  {
   "cell_type": "code",
   "execution_count": 90,
   "metadata": {
    "collapsed": false
   },
   "outputs": [
    {
     "name": "stdout",
     "output_type": "stream",
     "text": [
      "Interval(0.09999999999999999, 0.1)"
     ]
    }
   ],
   "source": [
    "showall(b)"
   ]
  },
  {
   "cell_type": "markdown",
   "metadata": {},
   "source": [
    "We can also do e.g."
   ]
  },
  {
   "cell_type": "code",
   "execution_count": 92,
   "metadata": {
    "collapsed": false
   },
   "outputs": [
    {
     "data": {
      "text/plain": [
       "[0.0587785, 0.0587786]"
      ]
     },
     "execution_count": 92,
     "metadata": {},
     "output_type": "execute_result"
    }
   ],
   "source": [
    "@interval 0.1 * sin(0.2π)"
   ]
  },
  {
   "cell_type": "markdown",
   "metadata": {},
   "source": [
    "Recall that macros like `@interval` have access to the expression that they are passed. We can find out what they do:"
   ]
  },
  {
   "cell_type": "code",
   "execution_count": 93,
   "metadata": {
    "collapsed": false
   },
   "outputs": [
    {
     "data": {
      "text/plain": [
       ":((ValidatedNumerics.convert)(Interval{parameters.precision_type},0.1) * sin((ValidatedNumerics.convert)(Interval{parameters.precision_type},0.2) * (ValidatedNumerics.convert)(Interval{parameters.precision_type},π)))"
      ]
     },
     "execution_count": 93,
     "metadata": {},
     "output_type": "execute_result"
    }
   ],
   "source": [
    "macroexpand(:(@interval 0.1 * sin(0.2π)))"
   ]
  },
  {
   "cell_type": "markdown",
   "metadata": {},
   "source": [
    "Basically it wraps all literals like `0.1` into `convert(Interval{T}, 0.1)`, where `T` is the current global interval type (that may be changed using e.g. `setprecision(Interval, 100)`)."
   ]
  },
  {
   "cell_type": "code",
   "execution_count": 95,
   "metadata": {
    "collapsed": false
   },
   "outputs": [
    {
     "data": {
      "text/plain": [
       "[0.0999999, 0.100001]"
      ]
     },
     "execution_count": 95,
     "metadata": {},
     "output_type": "execute_result"
    }
   ],
   "source": [
    "convert(Interval{Float64}, 0.1)"
   ]
  },
  {
   "cell_type": "code",
   "execution_count": null,
   "metadata": {
    "collapsed": true
   },
   "outputs": [],
   "source": []
  }
 ],
 "metadata": {
  "kernelspec": {
   "display_name": "Julia 0.5.0",
   "language": "julia",
   "name": "julia-0.5"
  },
  "language_info": {
   "file_extension": ".jl",
   "mimetype": "application/julia",
   "name": "julia",
   "version": "0.5.0"
  }
 },
 "nbformat": 4,
 "nbformat_minor": 1
}
