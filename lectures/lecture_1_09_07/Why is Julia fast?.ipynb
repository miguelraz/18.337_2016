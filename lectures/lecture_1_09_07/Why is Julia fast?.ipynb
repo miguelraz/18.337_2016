{
 "cells": [
  {
   "cell_type": "markdown",
   "metadata": {},
   "source": [
    "# What makes a computing language go fast?\n",
    "<br>\n",
    "Is it that it is compiled? <br>\n",
    "Is it that it is jitted? <br>\n",
    "Is it that it is vectorized? <br>\n",
    "Is it that the user declares types? <br>\n",
    "<br> <br> <br><br> <br> <br>\n",
    "<br> <br> <br><br> <br> <br>\n",
    "Julia is fast because of multiple dispatch <br>\n",
    "Julia is fast because we the designers wanted it to be fast <br>\n",
    "Julia is fast because all the pieces fit together just right <br>\n",
    "<br> <br> <br><br> <br> <br>\n",
    "<br> <br> <br><br> <br> <br>\n",
    "# What makes an algorithm fast?\n",
    "Does not waste time with unnecessary computations. <br>\n",
    "Takes advantage of structure.\n",
    "<br> <br> <br><br> <br> <br>\n",
    "<br> <br> <br><br> <br> <br>\n",
    "### Computers run fast when they can execute without extra baggage\n",
    "Clocks are the ultimate measure of fast, but .... <br>\n",
    "it does not help us visualize what fast looks like\n"
   ]
  },
  {
   "cell_type": "code",
   "execution_count": 52,
   "metadata": {
    "collapsed": false
   },
   "outputs": [
    {
     "data": {
      "text/plain": [
       "f (generic function with 1 method)"
      ]
     },
     "execution_count": 52,
     "metadata": {},
     "output_type": "execute_result"
    }
   ],
   "source": [
    "f(x)=x+5"
   ]
  },
  {
   "cell_type": "code",
   "execution_count": 53,
   "metadata": {
    "collapsed": false
   },
   "outputs": [
    {
     "data": {
      "text/plain": [
       "4-element Array{Int64,1}:\n",
       " 6\n",
       " 7\n",
       " 8\n",
       " 9"
      ]
     },
     "execution_count": 53,
     "metadata": {},
     "output_type": "execute_result"
    }
   ],
   "source": [
    "# We ask a lot from f(x) ....\n",
    "x=[1,2,3,4]\n",
    "f(x)"
   ]
  },
  {
   "cell_type": "code",
   "execution_count": 54,
   "metadata": {
    "collapsed": false
   },
   "outputs": [
    {
     "name": "stdout",
     "output_type": "stream",
     "text": [
      "\t.section\t__TEXT,__text,regular,pure_instructions\n",
      "Filename: In[52]\n",
      "Source line: 1\n",
      "\tpush\tRBP\n",
      "\tmov\tRBP, RSP\n",
      "Source line: 1\n",
      "\tlea\tRAX, QWORD PTR [RDI + 5]\n",
      "\tpop\tRBP\n",
      "\tret\n"
     ]
    }
   ],
   "source": [
    "x=3;\n",
    "@code_native f(x)"
   ]
  },
  {
   "cell_type": "markdown",
   "metadata": {},
   "source": [
    "Looking at assembly can give a clue. <br>\n",
    "Some guides if you absolutely must decipher the assembly: (not recommended but if you just have to know) <br>\n",
    "https://en.wikipedia.org/wiki/X86_instruction_listings <br>\n",
    "http://docs.oracle.com/cd/E36784_01/pdf/E36859.pdf  <br> <br>\n",
    "It's not exactly the reason code runs fast, but at least it's the reason it's not slow"
   ]
  },
  {
   "cell_type": "code",
   "execution_count": 55,
   "metadata": {
    "collapsed": false
   },
   "outputs": [
    {
     "name": "stdout",
     "output_type": "stream",
     "text": [
      "\t.section\t__TEXT,__text,regular,pure_instructions\n",
      "Filename: In[55]\n",
      "Source line: 1\n",
      "\tpush\tRBP\n",
      "\tmov\tRBP, RSP\n",
      "\tmov\tEAX, 15\n",
      "Source line: 1\n",
      "\tpop\tRBP\n",
      "\tret\n"
     ]
    }
   ],
   "source": [
    "g()=f(10)\n",
    "@code_native g()"
   ]
  },
  {
   "cell_type": "code",
   "execution_count": 56,
   "metadata": {
    "collapsed": false
   },
   "outputs": [
    {
     "name": "stdout",
     "output_type": "stream",
     "text": [
      "\t.section\t__TEXT,__text,regular,pure_instructions\n",
      "Filename: In[52]\n",
      "Source line: 1\n",
      "\tpush\tRBP\n",
      "\tmov\tRBP, RSP\n",
      "\tmovabs\tRAX, 4797279296\n",
      "Source line: 1\n",
      "\taddsd\tXMM0, QWORD PTR [RAX]\n",
      "\tpop\tRBP\n",
      "\tret\n"
     ]
    }
   ],
   "source": [
    "x=10.0\n",
    "@code_native f(x)"
   ]
  },
  {
   "cell_type": "markdown",
   "metadata": {},
   "source": [
    "See http://blog.leahhanson.us/julia-introspects.html about Julia's ability to introspect."
   ]
  },
  {
   "cell_type": "markdown",
   "metadata": {},
   "source": [
    "## Python's addition is really C code\n",
    "\n",
    "\n",
    "Python's code must check what kind of type <br>\n",
    "Handles all promotions and integer semantics at run time <br>\n",
    "(key point is that julia doesn't do more than it has to).  <br>\n",
    "\n",
    "Julia is *not* a front end to C, Julia is often Julia all the way down\n",
    "\n",
    "(code below not meant to be read)"
   ]
  },
  {
   "cell_type": "code",
   "execution_count": 57,
   "metadata": {
    "collapsed": false
   },
   "outputs": [
    {
     "ename": "LoadError",
     "evalue": "syntax: extra token \"PyLongObject\" after end of expression\nwhile loading In[57], in expression starting on line 1",
     "output_type": "error",
     "traceback": [
      "syntax: extra token \"PyLongObject\" after end of expression\nwhile loading In[57], in expression starting on line 1",
      ""
     ]
    }
   ],
   "source": [
    "static PyLongObject *\n",
    "long_normalize(PyLongObject *v)\n",
    "{\n",
    "    Py_ssize_t j = Py_ABS(Py_SIZE(v));\n",
    "    Py_ssize_t i = j;\n",
    "\n",
    "    while (i > 0 && v->ob_digit[i-1] == 0)\n",
    "        --i;\n",
    "    if (i != j)\n",
    "        Py_SIZE(v) = (Py_SIZE(v) < 0) ? -(i) : i;\n",
    "    return v;\n",
    "}\n",
    "\n",
    "static PyLongObject *\n",
    "x_add(PyLongObject *a, PyLongObject *b)\n",
    "{\n",
    "    Py_ssize_t size_a = Py_ABS(Py_SIZE(a)), size_b = Py_ABS(Py_SIZE(b));\n",
    "    PyLongObject *z;\n",
    "    Py_ssize_t i;\n",
    "    digit carry = 0;\n",
    "\n",
    "    /* Ensure a is the larger of the two: */\n",
    "    if (size_a < size_b) {\n",
    "        { PyLongObject *temp = a; a = b; b = temp; }\n",
    "        { Py_ssize_t size_temp = size_a;\n",
    "            size_a = size_b;\n",
    "            size_b = size_temp; }\n",
    "    }\n",
    "    z = _PyLong_New(size_a+1);\n",
    "    if (z == NULL)\n",
    "        return NULL;\n",
    "    for (i = 0; i < size_b; ++i) {\n",
    "        carry += a->ob_digit[i] + b->ob_digit[i];\n",
    "        z->ob_digit[i] = carry & PyLong_MASK;\n",
    "        carry >>= PyLong_SHIFT;\n",
    "    }\n",
    "    for (; i < size_a; ++i) {\n",
    "        carry += a->ob_digit[i];\n",
    "        z->ob_digit[i] = carry & PyLong_MASK;\n",
    "        carry >>= PyLong_SHIFT;\n",
    "    }\n",
    "    z->ob_digit[i] = carry;\n",
    "    return long_normalize(z);\n",
    "}\n",
    "\n",
    "static PyLongObject *\n",
    "x_sub(PyLongObject *a, PyLongObject *b)\n",
    "{\n",
    "    Py_ssize_t size_a = Py_ABS(Py_SIZE(a)), size_b = Py_ABS(Py_SIZE(b));\n",
    "    PyLongObject *z;\n",
    "    Py_ssize_t i;\n",
    "    int sign = 1;\n",
    "    digit borrow = 0;\n",
    "\n",
    "    /* Ensure a is the larger of the two: */\n",
    "    if (size_a < size_b) {\n",
    "        sign = -1;\n",
    "        { PyLongObject *temp = a; a = b; b = temp; }\n",
    "        { Py_ssize_t size_temp = size_a;\n",
    "            size_a = size_b;\n",
    "            size_b = size_temp; }\n",
    "    }\n",
    "    else if (size_a == size_b) {\n",
    "        /* Find highest digit where a and b differ: */\n",
    "        i = size_a;\n",
    "        while (--i >= 0 && a->ob_digit[i] == b->ob_digit[i])\n",
    "            ;\n",
    "        if (i < 0)\n",
    "            return (PyLongObject *)PyLong_FromLong(0);\n",
    "        if (a->ob_digit[i] < b->ob_digit[i]) {\n",
    "            sign = -1;\n",
    "            { PyLongObject *temp = a; a = b; b = temp; }\n",
    "        }\n",
    "        size_a = size_b = i+1;\n",
    "    }\n",
    "    z = _PyLong_New(size_a);\n",
    "    if (z == NULL)\n",
    "        return NULL;\n",
    "    for (i = 0; i < size_b; ++i) {\n",
    "        /* The following assumes unsigned arithmetic\n",
    "           works module 2**N for some N>PyLong_SHIFT. */\n",
    "        borrow = a->ob_digit[i] - b->ob_digit[i] - borrow;\n",
    "        z->ob_digit[i] = borrow & PyLong_MASK;\n",
    "        borrow >>= PyLong_SHIFT;\n",
    "        borrow &= 1; /* Keep only one sign bit */\n",
    "    }\n",
    "    for (; i < size_a; ++i) {\n",
    "        borrow = a->ob_digit[i] - borrow;\n",
    "        z->ob_digit[i] = borrow & PyLong_MASK;\n",
    "        borrow >>= PyLong_SHIFT;\n",
    "        borrow &= 1; /* Keep only one sign bit */\n",
    "    }\n",
    "    assert(borrow == 0);\n",
    "    if (sign < 0) {\n",
    "        _PyLong_Negate(&z);\n",
    "        if (z == NULL)\n",
    "            return NULL;\n",
    "    }\n",
    "    return long_normalize(z);\n",
    "}\n",
    "\n",
    "static PyObject *\n",
    "long_add(PyLongObject *a, PyLongObject *b)\n",
    "{\n",
    "    PyLongObject *z;\n",
    "\n",
    "    CHECK_BINOP(a, b);\n",
    "\n",
    "    if (Py_ABS(Py_SIZE(a)) <= 1 && Py_ABS(Py_SIZE(b)) <= 1) {\n",
    "        PyObject *result = PyLong_FromLong(MEDIUM_VALUE(a) +\n",
    "                                          MEDIUM_VALUE(b));\n",
    "        return result;\n",
    "    }\n",
    "    if (Py_SIZE(a) < 0) {\n",
    "        if (Py_SIZE(b) < 0) {\n",
    "            z = x_add(a, b);\n",
    "            if (z != NULL && Py_SIZE(z) != 0)\n",
    "                Py_SIZE(z) = -(Py_SIZE(z));\n",
    "        }\n",
    "        else\n",
    "            z = x_sub(b, a);\n",
    "    }\n",
    "    else {\n",
    "        if (Py_SIZE(b) < 0)\n",
    "            z = x_sub(a, b);\n",
    "        else\n",
    "            z = x_add(a, b);\n",
    "    }\n",
    "    return (PyObject *)z;\n",
    "}\n",
    "\n",
    "Py_LOCAL_INLINE(void)\n",
    "_PyLong_Negate(PyLongObject **x_p)\n",
    "{\n",
    "    PyLongObject *x;\n",
    "\n",
    "    x = (PyLongObject *)*x_p;\n",
    "    if (Py_REFCNT(x) == 1) {\n",
    "        Py_SIZE(x) = -Py_SIZE(x);\n",
    "        return;\n",
    "    }\n",
    "\n",
    "    *x_p = (PyLongObject *)PyLong_FromLong(-MEDIUM_VALUE(x));\n",
    "    Py_DECREF(x);\n",
    "}\n",
    "\n",
    "PyObject *\n",
    "PyLong_FromLong(long ival)\n",
    "{\n",
    "    PyLongObject *v;\n",
    "    unsigned long abs_ival;\n",
    "    unsigned long t;  /* unsigned so >> doesn't propagate sign bit */\n",
    "    int ndigits = 0;\n",
    "    int sign = 1;\n",
    "\n",
    "    CHECK_SMALL_INT(ival);\n",
    "\n",
    "    if (ival < 0) {\n",
    "        /* negate: can't write this as abs_ival = -ival since that\n",
    "           invokes undefined behaviour when ival is LONG_MIN */\n",
    "        abs_ival = 0U-(unsigned long)ival;\n",
    "        sign = -1;\n",
    "    }\n",
    "    else {\n",
    "        abs_ival = (unsigned long)ival;\n",
    "    }\n",
    "\n",
    "    /* Fast path for single-digit ints */\n",
    "    if (!(abs_ival >> PyLong_SHIFT)) {\n",
    "        v = _PyLong_New(1);\n",
    "        if (v) {\n",
    "            Py_SIZE(v) = sign;\n",
    "            v->ob_digit[0] = Py_SAFE_DOWNCAST(\n",
    "                abs_ival, unsigned long, digit);\n",
    "        }\n",
    "        return (PyObject*)v;\n",
    "    }\n",
    "\n",
    "#if PyLong_SHIFT==15\n",
    "    /* 2 digits */\n",
    "    if (!(abs_ival >> 2*PyLong_SHIFT)) {\n",
    "        v = _PyLong_New(2);\n",
    "        if (v) {\n",
    "            Py_SIZE(v) = 2*sign;\n",
    "            v->ob_digit[0] = Py_SAFE_DOWNCAST(\n",
    "                abs_ival & PyLong_MASK, unsigned long, digit);\n",
    "            v->ob_digit[1] = Py_SAFE_DOWNCAST(\n",
    "                  abs_ival >> PyLong_SHIFT, unsigned long, digit);\n",
    "        }\n",
    "        return (PyObject*)v;\n",
    "    }\n",
    "#endif\n",
    "\n",
    "    /* Larger numbers: loop to determine number of digits */\n",
    "    t = abs_ival;\n",
    "    while (t) {\n",
    "        ++ndigits;\n",
    "        t >>= PyLong_SHIFT;\n",
    "    }\n",
    "    v = _PyLong_New(ndigits);\n",
    "    if (v != NULL) {\n",
    "        digit *p = v->ob_digit;\n",
    "        Py_SIZE(v) = ndigits*sign;\n",
    "        t = abs_ival;\n",
    "        while (t) {\n",
    "            *p++ = Py_SAFE_DOWNCAST(\n",
    "                t & PyLong_MASK, unsigned long, digit);\n",
    "            t >>= PyLong_SHIFT;\n",
    "        }\n",
    "    }\n",
    "    return (PyObject *)v;\n",
    "}"
   ]
  },
  {
   "cell_type": "markdown",
   "metadata": {},
   "source": [
    "## Python Assembler Dump\n",
    "\n",
    "(not meant to be read)"
   ]
  },
  {
   "cell_type": "code",
   "execution_count": 58,
   "metadata": {
    "collapsed": false
   },
   "outputs": [
    {
     "ename": "LoadError",
     "evalue": "syntax: extra token \"of\" after end of expression\nwhile loading In[58], in expression starting on line 1",
     "output_type": "error",
     "traceback": [
      "syntax: extra token \"of\" after end of expression\nwhile loading In[58], in expression starting on line 1",
      ""
     ]
    }
   ],
   "source": [
    "Dump of assembler code for function long_add:\n",
    "   0x0000000000079050 <+0>:\tsub    $0x38,%rsp\n",
    "   0x0000000000079054 <+4>:\tlea    0x20(%rsp),%rcx\n",
    "   0x0000000000079059 <+9>:\tlea    0x18(%rsp),%rdx\n",
    "   0x000000000007905e <+14>:\tmov    %fs:0x28,%rax\n",
    "   0x0000000000079067 <+23>:\tmov    %rax,0x28(%rsp)\n",
    "   0x000000000007906c <+28>:\txor    %eax,%eax\n",
    "   0x000000000007906e <+30>:\tcallq  0x78ea0 <convert_binop>\n",
    "   0x0000000000079073 <+35>:\ttest   %eax,%eax\n",
    "   0x0000000000079075 <+37>:\tje     0x790f0 <long_add+160>\n",
    "   0x0000000000079077 <+39>:\tmov    0x18(%rsp),%rdi\n",
    "   0x000000000007907c <+44>:\tcmpq   $0x0,0x10(%rdi)\n",
    "   0x0000000000079081 <+49>:\tjs     0x79100 <long_add+176>\n",
    "   0x0000000000079083 <+51>:\tmov    0x20(%rsp),%rsi\n",
    "   0x0000000000079088 <+56>:\tcmpq   $0x0,0x10(%rsi)\n",
    "   0x000000000007908d <+61>:\tjs     0x79140 <long_add+240>\n",
    "   0x0000000000079093 <+67>:\tcallq  0x774a0 <x_add>\n",
    "   0x0000000000079098 <+72>:\tmov    0x18(%rsp),%rcx\n",
    "   0x000000000007909d <+77>:\tmov    (%rcx),%rsi\n",
    "   0x00000000000790a0 <+80>:\tlea    -0x1(%rsi),%rdx\n",
    "   0x00000000000790a4 <+84>:\ttest   %rdx,%rdx\n",
    "   0x00000000000790a7 <+87>:\tmov    %rdx,(%rcx)\n",
    "   0x00000000000790aa <+90>:\tje     0x79120 <long_add+208>\n",
    "   0x00000000000790ac <+92>:\tmov    0x20(%rsp),%rcx\n",
    "   0x00000000000790b1 <+97>:\tmov    (%rcx),%rsi\n",
    "   0x00000000000790b4 <+100>:\tlea    -0x1(%rsi),%rdx\n",
    "   0x00000000000790b8 <+104>:\ttest   %rdx,%rdx\n",
    "   0x00000000000790bb <+107>:\tmov    %rdx,(%rcx)\n",
    "   0x00000000000790be <+110>:\tjne    0x790d6 <long_add+134>\n",
    "   0x00000000000790c0 <+112>:\tmov    0x20(%rsp),%rdi\n",
    "   0x00000000000790c5 <+117>:\tmov    %rax,0x8(%rsp)\n",
    "   0x00000000000790ca <+122>:\tmov    0x8(%rdi),%rdx\n",
    "   0x00000000000790ce <+126>:\tcallq  *0x30(%rdx)\n",
    "   0x00000000000790d1 <+129>:\tmov    0x8(%rsp),%rax\n",
    "   0x00000000000790d6 <+134>:\tmov    0x28(%rsp),%rcx\n",
    "   0x00000000000790db <+139>:\txor    %fs:0x28,%rcx\n",
    "   0x00000000000790e4 <+148>:\tjne    0x7917a <long_add+298>\n",
    "   0x00000000000790ea <+154>:\tadd    $0x38,%rsp\n",
    "   0x00000000000790ee <+158>:\tretq   \n",
    "   0x00000000000790ef <+159>:\tnop\n",
    "   0x00000000000790f0 <+160>:\tmov    0x301919(%rip),%rax        # 0x37aa10\n",
    "   0x00000000000790f7 <+167>:\taddq   $0x1,(%rax)\n",
    "   0x00000000000790fb <+171>:\tjmp    0x790d6 <long_add+134>\n",
    "   0x00000000000790fd <+173>:\tnopl   (%rax)\n",
    "   0x0000000000079100 <+176>:\tmov    0x20(%rsp),%rax\n",
    "   0x0000000000079105 <+181>:\tcmpq   $0x0,0x10(%rax)\n",
    "   0x000000000007910a <+186>:\tjs     0x79150 <long_add+256>\n",
    "   0x000000000007910c <+188>:\tmov    %rdi,%rsi\n",
    "   0x000000000007910f <+191>:\tmov    %rax,%rdi\n",
    "   0x0000000000079112 <+194>:\tcallq  0x78100 <x_sub>\n",
    "   0x0000000000079117 <+199>:\tjmpq   0x79098 <long_add+72>\n",
    "   0x000000000007911c <+204>:\tnopl   0x0(%rax)\n",
    "   0x0000000000079120 <+208>:\tmov    0x18(%rsp),%rdi\n",
    "   0x0000000000079125 <+213>:\tmov    %rax,0x8(%rsp)\n",
    "   0x000000000007912a <+218>:\tmov    0x8(%rdi),%rdx\n",
    "   0x000000000007912e <+222>:\tcallq  *0x30(%rdx)\n",
    "   0x0000000000079131 <+225>:\tmov    0x8(%rsp),%rax\n",
    "   0x0000000000079136 <+230>:\tjmpq   0x790ac <long_add+92>\n",
    "   0x000000000007913b <+235>:\tnopl   0x0(%rax,%rax,1)\n",
    "   0x0000000000079140 <+240>:\tcallq  0x78100 <x_sub>\n",
    "   0x0000000000079145 <+245>:\tjmpq   0x79098 <long_add+72>\n",
    "   0x000000000007914a <+250>:\tnopw   0x0(%rax,%rax,1)\n",
    "   0x0000000000079150 <+256>:\tmov    %rax,%rsi\n",
    "   0x0000000000079153 <+259>:\tcallq  0x774a0 <x_add>\n",
    "   0x0000000000079158 <+264>:\ttest   %rax,%rax\n",
    "   0x000000000007915b <+267>:\tje     0x79098 <long_add+72>\n",
    "   0x0000000000079161 <+273>:\tmov    0x10(%rax),%rdx\n",
    "   0x0000000000079165 <+277>:\ttest   %rdx,%rdx\n",
    "   0x0000000000079168 <+280>:\tje     0x79098 <long_add+72>\n",
    "   0x000000000007916e <+286>:\tneg    %rdx\n",
    "   0x0000000000079171 <+289>:\tmov    %rdx,0x10(%rax)\n",
    "   0x0000000000079175 <+293>:\tjmpq   0x79098 <long_add+72>\n",
    "   0x000000000007917a <+298>:\tcallq  0x3c8b0 <__stack_chk_fail@plt>\n",
    "End of assembler dump.\n",
    "Dump of assembler code for function x_add:\n",
    "   0x00000000000774a0 <+0>:\tpush   %r13\n",
    "   0x00000000000774a2 <+2>:\tpush   %r12\n",
    "   0x00000000000774a4 <+4>:\tmov    %rsi,%r13\n",
    "   0x00000000000774a7 <+7>:\tpush   %rbp\n",
    "   0x00000000000774a8 <+8>:\tpush   %rbx\n",
    "   0x00000000000774a9 <+9>:\tmov    %rdi,%rbp\n",
    "   0x00000000000774ac <+12>:\tsub    $0x8,%rsp\n",
    "   0x00000000000774b0 <+16>:\tmov    0x10(%rdi),%rax\n",
    "   0x00000000000774b4 <+20>:\tsar    $0x3f,%rax\n",
    "   0x00000000000774b8 <+24>:\tmov    %rax,%r12\n",
    "   0x00000000000774bb <+27>:\txor    0x10(%rdi),%r12\n",
    "   0x00000000000774bf <+31>:\tsub    %rax,%r12\n",
    "   0x00000000000774c2 <+34>:\tmov    0x10(%rsi),%rax\n",
    "   0x00000000000774c6 <+38>:\tsar    $0x3f,%rax\n",
    "   0x00000000000774ca <+42>:\tmov    %rax,%rbx\n",
    "   0x00000000000774cd <+45>:\txor    0x10(%rsi),%rbx\n",
    "   0x00000000000774d1 <+49>:\tsub    %rax,%rbx\n",
    "   0x00000000000774d4 <+52>:\tcmp    %rbx,%r12\n",
    "   0x00000000000774d7 <+55>:\tjge    0x774e8 <x_add+72>\n",
    "   0x00000000000774d9 <+57>:\tmov    %r12,%rax\n",
    "   0x00000000000774dc <+60>:\tmov    %rsi,%rbp\n",
    "   0x00000000000774df <+63>:\tmov    %rbx,%r12\n",
    "   0x00000000000774e2 <+66>:\tmov    %rdi,%r13\n",
    "   0x00000000000774e5 <+69>:\tmov    %rax,%rbx\n",
    "   0x00000000000774e8 <+72>:\tlea    0x1(%r12),%rdi\n",
    "   0x00000000000774ed <+77>:\tcallq  0x3c280 <_PyLong_New@plt>\n",
    "   0x00000000000774f2 <+82>:\ttest   %rax,%rax\n",
    "   0x00000000000774f5 <+85>:\tmov    %rax,%r8\n",
    "   0x00000000000774f8 <+88>:\tje     0x775e8 <x_add+328>\n",
    "   0x00000000000774fe <+94>:\txor    %edx,%edx\n",
    "   0x0000000000077500 <+96>:\ttest   %rbx,%rbx\n",
    "   0x0000000000077503 <+99>:\tje     0x77533 <x_add+147>\n",
    "   0x0000000000077505 <+101>:\txor    %ecx,%ecx\n",
    "   0x0000000000077507 <+103>:\tnopw   0x0(%rax,%rax,1)\n",
    "   0x0000000000077510 <+112>:\tmov    0x18(%r13,%rcx,4),%edi\n",
    "   0x0000000000077515 <+117>:\tadd    0x18(%rbp,%rcx,4),%edi\n",
    "   0x0000000000077519 <+121>:\tadd    %edi,%edx\n",
    "   0x000000000007751b <+123>:\tmov    %edx,%eax\n",
    "   0x000000000007751d <+125>:\tshr    $0x1e,%edx\n",
    "   0x0000000000077520 <+128>:\tand    $0x3fffffff,%eax\n",
    "   0x0000000000077525 <+133>:\tmov    %eax,0x18(%r8,%rcx,4)\n",
    "   0x000000000007752a <+138>:\tadd    $0x1,%rcx\n",
    "   0x000000000007752e <+142>:\tcmp    %rcx,%rbx\n",
    "   0x0000000000077531 <+145>:\tjne    0x77510 <x_add+112>\n",
    "   0x0000000000077533 <+147>:\tcmp    %rbx,%r12\n",
    "   0x0000000000077536 <+150>:\tjle    0x775db <x_add+315>\n",
    "   0x000000000007753c <+156>:\tmov    %rbx,%rcx\n",
    "   0x000000000007753f <+159>:\tnop\n",
    "   0x0000000000077540 <+160>:\tadd    0x18(%rbp,%rcx,4),%edx\n",
    "   0x0000000000077544 <+164>:\tmov    %edx,%eax\n",
    "   0x0000000000077546 <+166>:\tshr    $0x1e,%edx\n",
    "   0x0000000000077549 <+169>:\tand    $0x3fffffff,%eax\n",
    "   0x000000000007754e <+174>:\tmov    %eax,0x18(%r8,%rcx,4)\n",
    "   0x0000000000077553 <+179>:\tadd    $0x1,%rcx\n",
    "   0x0000000000077557 <+183>:\tcmp    %rcx,%r12\n",
    "   0x000000000007755a <+186>:\tjne    0x77540 <x_add+160>\n",
    "   0x000000000007755c <+188>:\tmov    %edx,0x18(%r8,%r12,4)\n",
    "   0x0000000000077561 <+193>:\tmov    0x10(%r8),%rsi\n",
    "   0x0000000000077565 <+197>:\tmov    %rsi,%rax\n",
    "   0x0000000000077568 <+200>:\tsar    $0x3f,%rax\n",
    "   0x000000000007756c <+204>:\tmov    %rax,%rcx\n",
    "   0x000000000007756f <+207>:\txor    %rsi,%rcx\n",
    "   0x0000000000077572 <+210>:\tsub    %rax,%rcx\n",
    "   0x0000000000077575 <+213>:\tje     0x775e3 <x_add+323>\n",
    "   0x0000000000077577 <+215>:\tmov    0x14(%r8,%rcx,4),%r9d\n",
    "   0x000000000007757c <+220>:\tlea    -0x1(%rcx),%rdx\n",
    "   0x0000000000077580 <+224>:\ttest   %r9d,%r9d\n",
    "   0x0000000000077583 <+227>:\tje     0x775a0 <x_add+256>\n",
    "   0x0000000000077585 <+229>:\tjmp    0x775e3 <x_add+323>\n",
    "   0x0000000000077587 <+231>:\tnopw   0x0(%rax,%rax,1)\n",
    "   0x0000000000077590 <+240>:\tlea    -0x1(%rdx),%rax\n",
    "   0x0000000000077594 <+244>:\tmov    0x18(%r8,%rax,4),%edi\n",
    "   0x0000000000077599 <+249>:\ttest   %edi,%edi\n",
    "   0x000000000007759b <+251>:\tjne    0x775c8 <x_add+296>\n",
    "   0x000000000007759d <+253>:\tmov    %rax,%rdx\n",
    "   0x00000000000775a0 <+256>:\ttest   %rdx,%rdx\n",
    "   0x00000000000775a3 <+259>:\tjne    0x77590 <x_add+240>\n",
    "   0x00000000000775a5 <+261>:\tmov    %rdx,%rax\n",
    "   0x00000000000775a8 <+264>:\tneg    %rax\n",
    "   0x00000000000775ab <+267>:\ttest   %rsi,%rsi\n",
    "   0x00000000000775ae <+270>:\tcmovs  %rax,%rdx\n",
    "   0x00000000000775b2 <+274>:\tmov    %r8,%rax\n",
    "   0x00000000000775b5 <+277>:\tmov    %rdx,0x10(%r8)\n",
    "   0x00000000000775b9 <+281>:\tadd    $0x8,%rsp\n",
    "   0x00000000000775bd <+285>:\tpop    %rbx\n",
    "   0x00000000000775be <+286>:\tpop    %rbp\n",
    "   0x00000000000775bf <+287>:\tpop    %r12\n",
    "   0x00000000000775c1 <+289>:\tpop    %r13\n",
    "   0x00000000000775c3 <+291>:\tretq   \n",
    "   0x00000000000775c4 <+292>:\tnopl   0x0(%rax)\n",
    "   0x00000000000775c8 <+296>:\tcmp    %rdx,%rcx\n",
    "   0x00000000000775cb <+299>:\tmov    %r8,%rax\n",
    "   0x00000000000775ce <+302>:\tjne    0x775a5 <x_add+261>\n",
    "   0x00000000000775d0 <+304>:\tadd    $0x8,%rsp\n",
    "   0x00000000000775d4 <+308>:\tpop    %rbx\n",
    "   0x00000000000775d5 <+309>:\tpop    %rbp\n",
    "   0x00000000000775d6 <+310>:\tpop    %r12\n",
    "   0x00000000000775d8 <+312>:\tpop    %r13\n",
    "   0x00000000000775da <+314>:\tretq   \n",
    "   0x00000000000775db <+315>:\tmov    %rbx,%r12\n",
    "   0x00000000000775de <+318>:\tjmpq   0x7755c <x_add+188>\n",
    "   0x00000000000775e3 <+323>:\tmov    %r8,%rax\n",
    "   0x00000000000775e6 <+326>:\tjmp    0x775b9 <x_add+281>\n",
    "   0x00000000000775e8 <+328>:\txor    %eax,%eax\n",
    "   0x00000000000775ea <+330>:\tjmp    0x775b9 <x_add+281>\n",
    "End of assembler dump.\n",
    "Dump of assembler code for function x_sub:\n",
    "   0x0000000000078100 <+0>:\tpush   %r14\n",
    "   0x0000000000078102 <+2>:\tpush   %r13\n",
    "   0x0000000000078104 <+4>:\tmov    %rsi,%r14\n",
    "   0x0000000000078107 <+7>:\tpush   %r12\n",
    "   0x0000000000078109 <+9>:\tpush   %rbp\n",
    "   0x000000000007810a <+10>:\tmov    %rdi,%r12\n",
    "   0x000000000007810d <+13>:\tpush   %rbx\n",
    "   0x000000000007810e <+14>:\tmov    0x10(%rdi),%rax\n",
    "   0x0000000000078112 <+18>:\tsar    $0x3f,%rax\n",
    "   0x0000000000078116 <+22>:\tmov    %rax,%r13\n",
    "   0x0000000000078119 <+25>:\txor    0x10(%rdi),%r13\n",
    "   0x000000000007811d <+29>:\tsub    %rax,%r13\n",
    "   0x0000000000078120 <+32>:\tmov    0x10(%rsi),%rax\n",
    "   0x0000000000078124 <+36>:\tsar    $0x3f,%rax\n",
    "   0x0000000000078128 <+40>:\tmov    %rax,%rbp\n",
    "   0x000000000007812b <+43>:\txor    0x10(%rsi),%rbp\n",
    "   0x000000000007812f <+47>:\tsub    %rax,%rbp\n",
    "   0x0000000000078132 <+50>:\tcmp    %rbp,%r13\n",
    "   0x0000000000078135 <+53>:\tjl     0x78278 <x_sub+376>\n",
    "   0x000000000007813b <+59>:\tmov    $0x1,%ebx\n",
    "   0x0000000000078140 <+64>:\tje     0x7823f <x_sub+319>\n",
    "   0x0000000000078146 <+70>:\tmov    %r13,%rdi\n",
    "   0x0000000000078149 <+73>:\tcallq  0x3c280 <_PyLong_New@plt>\n",
    "   0x000000000007814e <+78>:\ttest   %rax,%rax\n",
    "   0x0000000000078151 <+81>:\tmov    %rax,%r8\n",
    "   0x0000000000078154 <+84>:\tje     0x782d0 <x_sub+464>\n",
    "   0x000000000007815a <+90>:\txor    %edx,%edx\n",
    "   0x000000000007815c <+92>:\ttest   %rbp,%rbp\n",
    "   0x000000000007815f <+95>:\tjle    0x782c9 <x_sub+457>\n",
    "   0x0000000000078165 <+101>:\txor    %edi,%edi\n",
    "   0x0000000000078167 <+103>:\tnopw   0x0(%rax,%rax,1)\n",
    "   0x0000000000078170 <+112>:\tmov    0x18(%r12,%rdi,4),%ecx\n",
    "   0x0000000000078175 <+117>:\tsub    0x18(%r14,%rdi,4),%ecx\n",
    "   0x000000000007817a <+122>:\tsub    %edx,%ecx\n",
    "   0x000000000007817c <+124>:\tmov    %ecx,%eax\n",
    "   0x000000000007817e <+126>:\tmov    %ecx,%edx\n",
    "   0x0000000000078180 <+128>:\tand    $0x3fffffff,%eax\n",
    "   0x0000000000078185 <+133>:\tshr    $0x1e,%edx\n",
    "   0x0000000000078188 <+136>:\tmov    %eax,0x18(%r8,%rdi,4)\n",
    "   0x000000000007818d <+141>:\tadd    $0x1,%rdi\n",
    "   0x0000000000078191 <+145>:\tand    $0x1,%edx\n",
    "   0x0000000000078194 <+148>:\tcmp    %rdi,%rbp\n",
    "   0x0000000000078197 <+151>:\tjne    0x78170 <x_sub+112>\n",
    "   0x0000000000078199 <+153>:\tcmp    %rbp,%r13\n",
    "   0x000000000007819c <+156>:\tjle    0x781c2 <x_sub+194>\n",
    "   0x000000000007819e <+158>:\txchg   %ax,%ax\n",
    "   0x00000000000781a0 <+160>:\tmov    0x18(%r12,%rbp,4),%eax\n",
    "   0x00000000000781a5 <+165>:\tsub    %edx,%eax\n",
    "   0x00000000000781a7 <+167>:\tmov    %eax,%edx\n",
    "   0x00000000000781a9 <+169>:\tand    $0x3fffffff,%eax\n",
    "   0x00000000000781ae <+174>:\tshr    $0x1e,%edx\n",
    "   0x00000000000781b1 <+177>:\tmov    %eax,0x18(%r8,%rbp,4)\n",
    "   0x00000000000781b6 <+182>:\tadd    $0x1,%rbp\n",
    "   0x00000000000781ba <+186>:\tand    $0x1,%edx\n",
    "   0x00000000000781bd <+189>:\tcmp    %rbp,%r13\n",
    "   0x00000000000781c0 <+192>:\tjne    0x781a0 <x_sub+160>\n",
    "   0x00000000000781c2 <+194>:\tcmp    $0xffffffff,%ebx\n",
    "   0x00000000000781c5 <+197>:\tje     0x78298 <x_sub+408>\n",
    "   0x00000000000781cb <+203>:\tmov    0x10(%r8),%rsi\n",
    "   0x00000000000781cf <+207>:\tmov    %rsi,%rax\n",
    "   0x00000000000781d2 <+210>:\tsar    $0x3f,%rax\n",
    "   0x00000000000781d6 <+214>:\tmov    %rax,%rcx\n",
    "   0x00000000000781d9 <+217>:\txor    %rsi,%rcx\n",
    "   0x00000000000781dc <+220>:\tsub    %rax,%rcx\n",
    "   0x00000000000781df <+223>:\tje     0x7821e <x_sub+286>\n",
    "   0x00000000000781e1 <+225>:\tmov    0x14(%r8,%rcx,4),%r9d\n",
    "   0x00000000000781e6 <+230>:\tlea    -0x1(%rcx),%rdx\n",
    "   0x00000000000781ea <+234>:\ttest   %r9d,%r9d\n",
    "   0x00000000000781ed <+237>:\tje     0x78208 <x_sub+264>\n",
    "   0x00000000000781ef <+239>:\tjmp    0x7821e <x_sub+286>\n",
    "   0x00000000000781f1 <+241>:\tnopl   0x0(%rax)\n",
    "   0x00000000000781f8 <+248>:\tlea    -0x1(%rdx),%rax\n",
    "   0x00000000000781fc <+252>:\tmov    0x18(%r8,%rax,4),%edi\n",
    "   0x0000000000078201 <+257>:\ttest   %edi,%edi\n",
    "   0x0000000000078203 <+259>:\tjne    0x78260 <x_sub+352>\n",
    "   0x0000000000078205 <+261>:\tmov    %rax,%rdx\n",
    "   0x0000000000078208 <+264>:\ttest   %rdx,%rdx\n",
    "   0x000000000007820b <+267>:\tjne    0x781f8 <x_sub+248>\n",
    "   0x000000000007820d <+269>:\tmov    %rdx,%rax\n",
    "   0x0000000000078210 <+272>:\tneg    %rax\n",
    "   0x0000000000078213 <+275>:\ttest   %rsi,%rsi\n",
    "   0x0000000000078216 <+278>:\tcmovs  %rax,%rdx\n",
    "   0x000000000007821a <+282>:\tmov    %rdx,0x10(%r8)\n",
    "   0x000000000007821e <+286>:\tmov    %r8,%rax\n",
    "   0x0000000000078221 <+289>:\tpop    %rbx\n",
    "   0x0000000000078222 <+290>:\tpop    %rbp\n",
    "   0x0000000000078223 <+291>:\tpop    %r12\n",
    "   0x0000000000078225 <+293>:\tpop    %r13\n",
    "   0x0000000000078227 <+295>:\tpop    %r14\n",
    "   0x0000000000078229 <+297>:\tretq   \n",
    "   0x000000000007822a <+298>:\tnopw   0x0(%rax,%rax,1)\n",
    "   0x0000000000078230 <+304>:\tmov    0x18(%r14,%rax,4),%ebx\n",
    "   0x0000000000078235 <+309>:\tcmp    %ebx,0x18(%r12,%rax,4)\n",
    "   0x000000000007823a <+314>:\tjne    0x782a8 <x_sub+424>\n",
    "   0x000000000007823c <+316>:\tmov    %rax,%r13\n",
    "   0x000000000007823f <+319>:\tlea    -0x1(%r13),%rax\n",
    "   0x0000000000078243 <+323>:\tcmp    $0xffffffffffffffff,%rax\n",
    "   0x0000000000078247 <+327>:\tjne    0x78230 <x_sub+304>\n",
    "   0x0000000000078249 <+329>:\tpop    %rbx\n",
    "   0x000000000007824a <+330>:\tpop    %rbp\n",
    "   0x000000000007824b <+331>:\tpop    %r12\n",
    "   0x000000000007824d <+333>:\tpop    %r13\n",
    "   0x000000000007824f <+335>:\tpop    %r14\n",
    "   0x0000000000078251 <+337>:\txor    %edi,%edi\n",
    "   0x0000000000078253 <+339>:\tjmpq   0x3c280 <_PyLong_New@plt>\n",
    "   0x0000000000078258 <+344>:\tnopl   0x0(%rax,%rax,1)\n",
    "   0x0000000000078260 <+352>:\tcmp    %rdx,%rcx\n",
    "   0x0000000000078263 <+355>:\tmov    %r8,%rax\n",
    "   0x0000000000078266 <+358>:\tjne    0x7820d <x_sub+269>\n",
    "   0x0000000000078268 <+360>:\tpop    %rbx\n",
    "   0x0000000000078269 <+361>:\tpop    %rbp\n",
    "   0x000000000007826a <+362>:\tpop    %r12\n",
    "   0x000000000007826c <+364>:\tpop    %r13\n",
    "   0x000000000007826e <+366>:\tpop    %r14\n",
    "   0x0000000000078270 <+368>:\tretq   \n",
    "   0x0000000000078271 <+369>:\tnopl   0x0(%rax)\n",
    "   0x0000000000078278 <+376>:\tmov    %r13,%rax\n",
    "   0x000000000007827b <+379>:\tmov    %rsi,%r12\n",
    "   0x000000000007827e <+382>:\tmov    %rbp,%r13\n",
    "   0x0000000000078281 <+385>:\tmov    %rdi,%r14\n",
    "   0x0000000000078284 <+388>:\tmov    %rax,%rbp\n",
    "   0x0000000000078287 <+391>:\tmov    $0xffffffff,%ebx\n",
    "   0x000000000007828c <+396>:\tjmpq   0x78146 <x_sub+70>\n",
    "   0x0000000000078291 <+401>:\tnopl   0x0(%rax)\n",
    "   0x0000000000078298 <+408>:\tmov    0x10(%r8),%rsi\n",
    "   0x000000000007829c <+412>:\tneg    %rsi\n",
    "   0x000000000007829f <+415>:\tmov    %rsi,0x10(%r8)\n",
    "   0x00000000000782a3 <+419>:\tjmpq   0x781cf <x_sub+207>\n",
    "   0x00000000000782a8 <+424>:\tmov    %r13,%rbp\n",
    "   0x00000000000782ab <+427>:\tmov    $0x1,%ebx\n",
    "   0x00000000000782b0 <+432>:\tjae    0x78146 <x_sub+70>\n",
    "   0x00000000000782b6 <+438>:\tmov    %r12,%rax\n",
    "   0x00000000000782b9 <+441>:\tmov    $0xffffffff,%ebx\n",
    "   0x00000000000782be <+446>:\tmov    %r14,%r12\n",
    "   0x00000000000782c1 <+449>:\tmov    %rax,%r14\n",
    "   0x00000000000782c4 <+452>:\tjmpq   0x78146 <x_sub+70>\n",
    "   0x00000000000782c9 <+457>:\txor    %ebp,%ebp\n",
    "   0x00000000000782cb <+459>:\tjmpq   0x78199 <x_sub+153>\n",
    "   0x00000000000782d0 <+464>:\txor    %eax,%eax\n",
    "   0x00000000000782d2 <+466>:\tjmpq   0x78221 <x_sub+289>\n",
    "End of assembler dump.\n",
    "Dump of assembler code for function convert_binop:\n",
    "   0x0000000000078ea0 <+0>:\tsub    $0x28,%rsp\n",
    "   0x0000000000078ea4 <+4>:\tmov    0x8(%rdi),%rax\n",
    "   0x0000000000078ea8 <+8>:\tmov    0xa8(%rax),%rax\n",
    "   0x0000000000078eaf <+15>:\ttest   $0x1000000,%eax\n",
    "   0x0000000000078eb4 <+20>:\tje     0x78ef0 <convert_binop+80>\n",
    "   0x0000000000078eb6 <+22>:\tmov    %rdi,(%rdx)\n",
    "   0x0000000000078eb9 <+25>:\taddq   $0x1,(%rdi)\n",
    "   0x0000000000078ebd <+29>:\tmov    0x8(%rsi),%rax\n",
    "   0x0000000000078ec1 <+33>:\tmov    0xa8(%rax),%rax\n",
    "   0x0000000000078ec8 <+40>:\ttest   $0x1000000,%eax\n",
    "   0x0000000000078ecd <+45>:\tjne    0x78f28 <convert_binop+136>\n",
    "   0x0000000000078ecf <+47>:\ttest   $0x800000,%eax\n",
    "   0x0000000000078ed4 <+52>:\tjne    0x78f50 <convert_binop+176>\n",
    "   0x0000000000078ed6 <+54>:\tmov    (%rdx),%rcx\n",
    "   0x0000000000078ed9 <+57>:\tsubq   $0x1,(%rcx)\n",
    "   0x0000000000078edd <+61>:\tje     0x78f40 <convert_binop+160>\n",
    "   0x0000000000078edf <+63>:\txor    %eax,%eax\n",
    "   0x0000000000078ee1 <+65>:\tadd    $0x28,%rsp\n",
    "   0x0000000000078ee5 <+69>:\tretq   \n",
    "   0x0000000000078ee6 <+70>:\tnopw   %cs:0x0(%rax,%rax,1)\n",
    "   0x0000000000078ef0 <+80>:\ttest   $0x800000,%eax\n",
    "   0x0000000000078ef5 <+85>:\tje     0x78edf <convert_binop+63>\n",
    "   0x0000000000078ef7 <+87>:\tmov    0x10(%rdi),%rdi\n",
    "   0x0000000000078efb <+91>:\tmov    %rcx,0x18(%rsp)\n",
    "   0x0000000000078f00 <+96>:\tmov    %rdx,0x10(%rsp)\n",
    "   0x0000000000078f05 <+101>:\tmov    %rsi,0x8(%rsp)\n",
    "   0x0000000000078f0a <+106>:\tcallq  0x3d2c0 <PyLong_FromLong@plt>\n",
    "   0x0000000000078f0f <+111>:\tmov    0x10(%rsp),%rdx\n",
    "   0x0000000000078f14 <+116>:\tmov    0x18(%rsp),%rcx\n",
    "   0x0000000000078f19 <+121>:\tmov    0x8(%rsp),%rsi\n",
    "   0x0000000000078f1e <+126>:\tmov    %rax,(%rdx)\n",
    "   0x0000000000078f21 <+129>:\tjmp    0x78ebd <convert_binop+29>\n",
    "   0x0000000000078f23 <+131>:\tnopl   0x0(%rax,%rax,1)\n",
    "   0x0000000000078f28 <+136>:\tmov    %rsi,(%rcx)\n",
    "   0x0000000000078f2b <+139>:\tmov    $0x1,%eax\n",
    "   0x0000000000078f30 <+144>:\taddq   $0x1,(%rsi)\n",
    "   0x0000000000078f34 <+148>:\tadd    $0x28,%rsp\n",
    "   0x0000000000078f38 <+152>:\tretq   \n",
    "   0x0000000000078f39 <+153>:\tnopl   0x0(%rax)\n",
    "   0x0000000000078f40 <+160>:\tmov    (%rdx),%rdi\n",
    "   0x0000000000078f43 <+163>:\tmov    0x8(%rdi),%rax\n",
    "   0x0000000000078f47 <+167>:\tcallq  *0x30(%rax)\n",
    "   0x0000000000078f4a <+170>:\tjmp    0x78edf <convert_binop+63>\n",
    "   0x0000000000078f4c <+172>:\tnopl   0x0(%rax)\n",
    "   0x0000000000078f50 <+176>:\tmov    0x10(%rsi),%rdi\n",
    "   0x0000000000078f54 <+180>:\tmov    %rcx,0x8(%rsp)\n",
    "   0x0000000000078f59 <+185>:\tcallq  0x3d2c0 <PyLong_FromLong@plt>\n",
    "   0x0000000000078f5e <+190>:\tmov    0x8(%rsp),%rcx\n",
    "   0x0000000000078f63 <+195>:\tmov    %rax,(%rcx)\n",
    "   0x0000000000078f66 <+198>:\tmov    $0x1,%eax\n",
    "   0x0000000000078f6b <+203>:\tjmpq   0x78ee1 <convert_binop+65>\n",
    "End of assembler dump.\n",
    "Dump of assembler code for function PyLong_FromLong:\n",
    "   0x0000000000078de0 <+0>:\tpush   %r13\n",
    "   0x0000000000078de2 <+2>:\tpush   %r12\n",
    "   0x0000000000078de4 <+4>:\tpush   %rbp\n",
    "   0x0000000000078de5 <+5>:\tpush   %rbx\n",
    "   0x0000000000078de6 <+6>:\tsub    $0x8,%rsp\n",
    "   0x0000000000078dea <+10>:\ttest   %rdi,%rdi\n",
    "   0x0000000000078ded <+13>:\tjs     0x78e60 <PyLong_FromLong+128>\n",
    "   0x0000000000078def <+15>:\txor    %r12d,%r12d\n",
    "   0x0000000000078df2 <+18>:\ttest   %rdi,%rdi\n",
    "   0x0000000000078df5 <+21>:\tmov    %rdi,%rbx\n",
    "   0x0000000000078df8 <+24>:\tje     0x78e6e <PyLong_FromLong+142>\n",
    "   0x0000000000078dfa <+26>:\tmov    %rbx,%rax\n",
    "   0x0000000000078dfd <+29>:\txor    %ebp,%ebp\n",
    "   0x0000000000078dff <+31>:\tnop\n",
    "   0x0000000000078e00 <+32>:\tshr    $0x1e,%rax\n",
    "   0x0000000000078e04 <+36>:\tadd    $0x1,%ebp\n",
    "   0x0000000000078e07 <+39>:\ttest   %rax,%rax\n",
    "   0x0000000000078e0a <+42>:\tjne    0x78e00 <PyLong_FromLong+32>\n",
    "   0x0000000000078e0c <+44>:\tmovslq %ebp,%r13\n",
    "   0x0000000000078e0f <+47>:\tmov    %r13,%rdi\n",
    "   0x0000000000078e12 <+50>:\tcallq  0x3c280 <_PyLong_New@plt>\n",
    "   0x0000000000078e17 <+55>:\ttest   %rax,%rax\n",
    "   0x0000000000078e1a <+58>:\tje     0x78e48 <PyLong_FromLong+104>\n",
    "   0x0000000000078e1c <+60>:\ttest   %r12d,%r12d\n",
    "   0x0000000000078e1f <+63>:\tlea    0x18(%rax),%rdx\n",
    "   0x0000000000078e23 <+67>:\tjne    0x78e58 <PyLong_FromLong+120>\n",
    "   0x0000000000078e25 <+69>:\ttest   %rbx,%rbx\n",
    "   0x0000000000078e28 <+72>:\tmov    %r13,0x10(%rax)\n",
    "   0x0000000000078e2c <+76>:\tje     0x78e48 <PyLong_FromLong+104>\n",
    "   0x0000000000078e2e <+78>:\txchg   %ax,%ax\n",
    "   0x0000000000078e30 <+80>:\tmov    %ebx,%ecx\n",
    "   0x0000000000078e32 <+82>:\tshr    $0x1e,%rbx\n",
    "   0x0000000000078e36 <+86>:\tadd    $0x4,%rdx\n",
    "   0x0000000000078e3a <+90>:\tand    $0x3fffffff,%ecx\n",
    "   0x0000000000078e40 <+96>:\ttest   %rbx,%rbx\n",
    "   0x0000000000078e43 <+99>:\tmov    %ecx,-0x4(%rdx)\n",
    "   0x0000000000078e46 <+102>:\tjne    0x78e30 <PyLong_FromLong+80>\n",
    "   0x0000000000078e48 <+104>:\tadd    $0x8,%rsp\n",
    "   0x0000000000078e4c <+108>:\tpop    %rbx\n",
    "   0x0000000000078e4d <+109>:\tpop    %rbp\n",
    "   0x0000000000078e4e <+110>:\tpop    %r12\n",
    "   0x0000000000078e50 <+112>:\tpop    %r13\n",
    "   0x0000000000078e52 <+114>:\tretq   \n",
    "   0x0000000000078e53 <+115>:\tnopl   0x0(%rax,%rax,1)\n",
    "   0x0000000000078e58 <+120>:\tneg    %ebp\n",
    "   0x0000000000078e5a <+122>:\tmovslq %ebp,%r13\n",
    "   0x0000000000078e5d <+125>:\tjmp    0x78e25 <PyLong_FromLong+69>\n",
    "   0x0000000000078e5f <+127>:\tnop\n",
    "   0x0000000000078e60 <+128>:\tneg    %rdi\n",
    "   0x0000000000078e63 <+131>:\tmov    $0x1,%r12d\n",
    "   0x0000000000078e69 <+137>:\tmov    %rdi,%rbx\n",
    "   0x0000000000078e6c <+140>:\tjmp    0x78dfa <PyLong_FromLong+26>\n",
    "   0x0000000000078e6e <+142>:\txor    %r13d,%r13d\n",
    "   0x0000000000078e71 <+145>:\txor    %ebp,%ebp\n",
    "   0x0000000000078e73 <+147>:\tjmp    0x78e0f <PyLong_FromLong+47>\n",
    "End of assembler dump."
   ]
  },
  {
   "cell_type": "markdown",
   "metadata": {},
   "source": [
    "## Does Julia eliminate all this complexity?\n",
    "No, the complexity is inherent to computing.  Any language may have to manage ints, floats, rationals, bignums, etc. <br>\n",
    "\n",
    "Any numerical language must manage sparse and dense matrices and many other structures.\n",
    "Julia organizes the complexity so that at execution time there is no \"baggage.\" <br>\n",
    "\n",
    "# <center <center> Demmel/Dongarra <br>\n",
    "<img width=800 src=demmel.png>  <align=\"left\" ><br>\n",
    "\n",
    "\n",
    "Any Julia user can \"lookup\" the complexity any time. It's not hidden. <br>\n",
    "Any Julia user can \"drill down\""
   ]
  },
  {
   "cell_type": "code",
   "execution_count": 59,
   "metadata": {
    "collapsed": false
   },
   "outputs": [
    {
     "ename": "LoadError",
     "evalue": "box not defined\nwhile loading In[59], in expression starting on line 1",
     "output_type": "error",
     "traceback": [
      "box not defined\nwhile loading In[59], in expression starting on line 1",
      ""
     ]
    }
   ],
   "source": [
    "box(3.0)"
   ]
  },
  {
   "cell_type": "code",
   "execution_count": 60,
   "metadata": {
    "collapsed": false
   },
   "outputs": [
    {
     "data": {
      "text/html": [
       "+(x::<b>Number</b>,y::<b>Number</b>) at <a href=\"https://github.com/JuliaLang/julia/tree/483dbf5279efe29f94cf35d42de0ab0a673fb34e/base/promotion.jl#L158\" target=\"_blank\">promotion.jl:158</a>"
      ],
      "text/plain": [
       "+(x::Number,y::Number) at promotion.jl:158"
      ]
     },
     "execution_count": 60,
     "metadata": {},
     "output_type": "execute_result"
    }
   ],
   "source": [
    "x=1.0; y=1;\n",
    "\n",
    "@which(x+y)"
   ]
  },
  {
   "cell_type": "code",
   "execution_count": 61,
   "metadata": {
    "collapsed": false
   },
   "outputs": [
    {
     "name": "stdout",
     "output_type": "stream",
     "text": [
      "\t.section\t__TEXT,__text,regular,pure_instructions\n",
      "Filename: int.jl\n",
      "Source line: 33\n",
      "\tpush\tRBP\n",
      "\tmov\tRBP, RSP\n",
      "Source line: 33\n",
      "\tadd\tRDI, RSI\n",
      "\tmov\tRAX, RDI\n",
      "\tpop\tRBP\n",
      "\tret\n"
     ]
    }
   ],
   "source": [
    "x=int64(1);y=int64(1)\n",
    "@code_native(x+y)"
   ]
  },
  {
   "cell_type": "code",
   "execution_count": 62,
   "metadata": {
    "collapsed": false
   },
   "outputs": [
    {
     "name": "stdout",
     "output_type": "stream",
     "text": [
      "\t.section\t__TEXT,__text,regular,pure_instructions\n",
      "Filename: int.jl\n",
      "Source line: 35\n",
      "\tpush\tRBP\n",
      "\tmov\tRBP, RSP\n",
      "Source line: 35\n",
      "\tadd\tRDI, RDX\n",
      "\tadc\tRSI, RCX\n",
      "\tmov\tRAX, RDI\n",
      "\tmov\tRDX, RSI\n",
      "\tpop\tRBP\n",
      "\tret\n"
     ]
    }
   ],
   "source": [
    "x=int128(1);y=int128(1)\n",
    "x+y\n",
    "@code_native(x+y)"
   ]
  },
  {
   "cell_type": "code",
   "execution_count": 63,
   "metadata": {
    "collapsed": false
   },
   "outputs": [
    {
     "name": "stdout",
     "output_type": "stream",
     "text": [
      "\t.section\t__TEXT,__text,regular,pure_instructions\n",
      "Filename: promotion.jl\n",
      "Source line: 158\n",
      "\tpush\tRBP\n",
      "\tmov\tRBP, RSP\n",
      "Source line: 158\n",
      "\tcvtsi2sd\tXMM1, RDI\n",
      "\taddsd\tXMM1, XMM0\n",
      "\tmovaps\tXMM0, XMM1\n",
      "\tpop\tRBP\n",
      "\tret\n"
     ]
    }
   ],
   "source": [
    "x=1; y=1.0;\n",
    "x+y\n",
    "@code_native(x+y)"
   ]
  },
  {
   "cell_type": "code",
   "execution_count": 64,
   "metadata": {
    "collapsed": false
   },
   "outputs": [
    {
     "name": "stdout",
     "output_type": "stream",
     "text": [
      "\t.section\t__TEXT,__text,regular,pure_instructions\n",
      "Filename: promotion.jl\n",
      "Source line: 158\n",
      "\tpush\tRBP\n",
      "\tmov\tRBP, RSP\n",
      "Source line: 158\n",
      "\tcvtsi2sd\tXMM1, RDI\n",
      "\taddsd\tXMM1, XMM0\n",
      "\tmovaps\tXMM0, XMM1\n",
      "\tpop\tRBP\n",
      "\tret\n"
     ]
    }
   ],
   "source": [
    "x=1.0; y=1;\n",
    "@code_native(x+y)"
   ]
  },
  {
   "cell_type": "code",
   "execution_count": 65,
   "metadata": {
    "collapsed": false
   },
   "outputs": [
    {
     "name": "stderr",
     "output_type": "stream",
     "text": [
      "Warning: Unable to find function pointer\n"
     ]
    },
    {
     "ename": "LoadError",
     "evalue": "no method found for the specified argument types\nwhile loading In[65], in expression starting on line 2",
     "output_type": "error",
     "traceback": [
      "no method found for the specified argument types\nwhile loading In[65], in expression starting on line 2",
      "",
      " in code_native at reflection.jl:159"
     ]
    }
   ],
   "source": [
    "x=1.0; y=1.0;\n",
    "@code_native(x+y)"
   ]
  },
  {
   "cell_type": "markdown",
   "metadata": {},
   "source": [
    "## Desired Goal might be viewed as:  Get efficient assembler\n",
    "Traditional Approaches: <br>\n",
    "Compiler:  Preprocess all you like, taking your time precomputing <br>\n",
    "Interpreted Languages: Concern with human time primarily, and maybe run time secondary.  Big blockbuster algorithms written in compiled languages and may amortize calling costs. <br>\n",
    "<br>\n",
    "Julia: Assumption that codes are more than just a few BLAS3 calls, and needs to strike a different balance\n",
    "between human and computer.\n",
    "<br>\n",
    "<br>  Note Julia programmers rarely look at assembler.... but you can!!!\n"
   ]
  },
  {
   "cell_type": "markdown",
   "metadata": {},
   "source": [
    "## This begs the question of how one gets efficient assembler."
   ]
  },
  {
   "cell_type": "code",
   "execution_count": 66,
   "metadata": {
    "collapsed": false
   },
   "outputs": [
    {
     "data": {
      "text/plain": [
       "3"
      ]
     },
     "execution_count": 66,
     "metadata": {},
     "output_type": "execute_result"
    }
   ],
   "source": [
    "1+2   # Hitting LLVM bottom"
   ]
  },
  {
   "cell_type": "code",
   "execution_count": 67,
   "metadata": {
    "collapsed": false
   },
   "outputs": [
    {
     "data": {
      "text/plain": [
       "(intrinsic function #3)"
      ]
     },
     "execution_count": 67,
     "metadata": {},
     "output_type": "execute_result"
    }
   ],
   "source": [
    "Core.Intrinsics.add_int"
   ]
  },
  {
   "cell_type": "code",
   "execution_count": 68,
   "metadata": {
    "collapsed": false
   },
   "outputs": [
    {
     "data": {
      "text/plain": [
       "(intrinsic function #12)"
      ]
     },
     "execution_count": 68,
     "metadata": {},
     "output_type": "execute_result"
    }
   ],
   "source": [
    "Core.Intrinsics.add_float"
   ]
  },
  {
   "cell_type": "code",
   "execution_count": 69,
   "metadata": {
    "collapsed": false
   },
   "outputs": [
    {
     "name": "stdout",
     "output_type": "stream",
     "text": [
      "\n",
      "define i64 @\"julia_+_21499\"(i64, i64) {\n",
      "top:\n",
      "  %2 = add i64 %1, %0, !dbg !4439\n",
      "  ret i64 %2, !dbg !4439\n",
      "}\n"
     ]
    }
   ],
   "source": [
    "x=5; y=4\n",
    "@code_llvm(x+y)"
   ]
  },
  {
   "cell_type": "code",
   "execution_count": 70,
   "metadata": {
    "collapsed": false
   },
   "outputs": [
    {
     "name": "stdout",
     "output_type": "stream",
     "text": [
      "\n",
      "declare double @\"julia_+2705\"(double, double)\n"
     ]
    }
   ],
   "source": [
    "x=5.0; y=4.0\n",
    "@code_llvm(x+y)"
   ]
  },
  {
   "cell_type": "code",
   "execution_count": 71,
   "metadata": {
    "collapsed": false
   },
   "outputs": [
    {
     "name": "stdout",
     "output_type": "stream",
     "text": [
      "\n",
      "define double @\"julia_+_21500\"(i64, double) {\n",
      "top:\n",
      "  %2 = sitofp i64 %0 to double, !dbg !4442\n",
      "  %3 = fadd double %2, %1, !dbg !4442\n",
      "  ret double %3, !dbg !4442\n",
      "}\n"
     ]
    }
   ],
   "source": [
    "x=5; y=4.0;\n",
    "x+y\n",
    "@code_llvm(x+y)"
   ]
  },
  {
   "cell_type": "code",
   "execution_count": 72,
   "metadata": {
    "collapsed": false
   },
   "outputs": [
    {
     "data": {
      "text/plain": [
       "1-element Array{Any,1}:\n",
       " :($(Expr(:lambda, {:x,:y}, {{},{{:x,Int64,0},{:y,Float64,0}},{}}, :(begin  # promotion.jl, line 158:\n",
       "        return box(Float64,add_float(box(Float64,sitofp(Float64,x::Int64))::Float64,y::Float64))::Float64\n",
       "    end::Float64))))"
      ]
     },
     "execution_count": 72,
     "metadata": {},
     "output_type": "execute_result"
    }
   ],
   "source": [
    "@code_typed(x+y)"
   ]
  },
  {
   "cell_type": "code",
   "execution_count": 73,
   "metadata": {
    "collapsed": false
   },
   "outputs": [
    {
     "name": "stdout",
     "output_type": "stream",
     "text": [
      "\n",
      "declare double @\"julia_+2705\"(double, double)\n"
     ]
    }
   ],
   "source": [
    "x=5.0;y=1.0;\n",
    "@code_llvm(x+y)"
   ]
  },
  {
   "cell_type": "code",
   "execution_count": 74,
   "metadata": {
    "collapsed": false
   },
   "outputs": [
    {
     "data": {
      "text/plain": [
       "1-element Array{Any,1}:\n",
       " :($(Expr(:lambda, {:x,:y}, {{},{{:x,Float64,0},{:y,Float64,0}},{}}, :(begin  # float.jl, line 120:\n",
       "        return box(Float64,add_float(x::Float64,y::Float64))::Float64\n",
       "    end::Float64))))"
      ]
     },
     "execution_count": 74,
     "metadata": {},
     "output_type": "execute_result"
    }
   ],
   "source": [
    "@code_typed(x+y)"
   ]
  },
  {
   "cell_type": "code",
   "execution_count": 75,
   "metadata": {
    "collapsed": false
   },
   "outputs": [
    {
     "data": {
      "text/html": [
       "+(x::<b>Float64</b>,y::<b>Float64</b>) at <a href=\"https://github.com/JuliaLang/julia/tree/483dbf5279efe29f94cf35d42de0ab0a673fb34e/base/float.jl#L120\" target=\"_blank\">float.jl:120</a>"
      ],
      "text/plain": [
       "+(x::Float64,y::Float64) at float.jl:120"
      ]
     },
     "execution_count": 75,
     "metadata": {},
     "output_type": "execute_result"
    }
   ],
   "source": [
    "x=1.0; y=2.0;\n",
    "@which(x+y)"
   ]
  },
  {
   "cell_type": "markdown",
   "metadata": {},
   "source": [
    "Why does the user not have to declare x and y to be floats and ints? <br>\n",
    "This is the beauty of the combo of type inference and multiple dispatch."
   ]
  },
  {
   "cell_type": "markdown",
   "metadata": {},
   "source": [
    "# <img width=500 src=http://1.bp.blogspot.com/-Zi5Pwx9zH0M/UdlvM0PMDEI/AAAAAAAAPE8/9-neT6ybTTM/s1600/Tropical+beaches.jpg>  <align=\"left\" ><br><center <center> Tropical Numbers  <br>"
   ]
  },
  {
   "cell_type": "markdown",
   "metadata": {},
   "source": [
    "References <br>\n",
    "[1] <a href=\"http://www.maths.manchester.ac.uk/~mheil/LMS_Prospects/pdfs/Tisseur.pdf\"> Slides by Françoise Tisseur (Dec 2012)</a> <br>\n",
    "[2] <a href=\"http://www.mit.edu/~kepner/pubs/JuliaSemiring_HPEC2013_Paper.pdf\"> Novel Algebras for Advanced Analytics in Julia </a>\n",
    "<br>\n",
    "Comment: Inspired by Françoise's lovely talk at Householder IX (2014) <br>"
   ]
  },
  {
   "cell_type": "code",
   "execution_count": 1,
   "metadata": {
    "collapsed": false
   },
   "outputs": [
    {
     "data": {
      "text/plain": [
       "⊗ (generic function with 1 method)"
      ]
     },
     "execution_count": 1,
     "metadata": {},
     "output_type": "execute_result"
    }
   ],
   "source": [
    "#Define your favorite plus, and times\n",
    "⊕(x,y) = max(x,y)       # Put your favoring semiring plus here\n",
    "⊗(x,y) = x+y            # Put your favorite semiring times here\n",
    "                        # Best if ⊗ distributes over ⊕"
   ]
  },
  {
   "cell_type": "code",
   "execution_count": 2,
   "metadata": {
    "collapsed": false
   },
   "outputs": [],
   "source": [
    "importall Base\n",
    "\n",
    "immutable TNum{T} <: Number\n",
    "    val::T\n",
    "end\n",
    "\n",
    "# immutable means if you execute this twice, it will warn you it's not cool"
   ]
  },
  {
   "cell_type": "code",
   "execution_count": 3,
   "metadata": {
    "collapsed": false
   },
   "outputs": [
    {
     "data": {
      "text/plain": [
       "TNum{Int64}(1)"
      ]
     },
     "execution_count": 3,
     "metadata": {},
     "output_type": "execute_result"
    }
   ],
   "source": [
    "TNum(1)"
   ]
  },
  {
   "cell_type": "code",
   "execution_count": 4,
   "metadata": {
    "collapsed": false
   },
   "outputs": [
    {
     "data": {
      "text/plain": [
       "TNum{Float64}(2.0)"
      ]
     },
     "execution_count": 4,
     "metadata": {},
     "output_type": "execute_result"
    }
   ],
   "source": [
    "TNum(2.0)"
   ]
  },
  {
   "cell_type": "code",
   "execution_count": 5,
   "metadata": {
    "collapsed": false
   },
   "outputs": [
    {
     "data": {
      "text/plain": [
       "TNum{Rational{Int64}}(1//2)"
      ]
     },
     "execution_count": 5,
     "metadata": {},
     "output_type": "execute_result"
    }
   ],
   "source": [
    "TNum(1//2)"
   ]
  },
  {
   "cell_type": "code",
   "execution_count": 6,
   "metadata": {
    "collapsed": false
   },
   "outputs": [
    {
     "data": {
      "text/plain": [
       "TNum{Array{Int64,2}}([1 2; 4 5])"
      ]
     },
     "execution_count": 6,
     "metadata": {},
     "output_type": "execute_result"
    }
   ],
   "source": [
    "TNum([1 2;4 5])"
   ]
  },
  {
   "cell_type": "code",
   "execution_count": 7,
   "metadata": {
    "collapsed": false
   },
   "outputs": [],
   "source": [
    "importall Base\n",
    "Base.zero{T}(::Type{TNum{T}}) = TNum(zero(T))\n",
    " Base.one{T}(::Type{TNum{T}}) = TNum(one(T))\n",
    "+(a::TNum, b::TNum) = TNum(a.val ⊕ b.val)\n",
    "*(a::TNum, b::TNum) = TNum(a.val ⊗ b.val)\n",
    "Base.show(io::IO, a::TNum) = print(io, a.val)"
   ]
  },
  {
   "cell_type": "code",
   "execution_count": 8,
   "metadata": {
    "collapsed": false
   },
   "outputs": [
    {
     "data": {
      "text/plain": [
       "TNum{Int64}(35)"
      ]
     },
     "execution_count": 8,
     "metadata": {},
     "output_type": "execute_result"
    }
   ],
   "source": [
    "x=TNum(5)\n",
    "y=TNum(6)\n",
    "\n",
    "x ^ 7"
   ]
  },
  {
   "cell_type": "code",
   "execution_count": 9,
   "metadata": {
    "collapsed": false
   },
   "outputs": [
    {
     "name": "stdout",
     "output_type": "stream",
     "text": [
      "\t.section\t__TEXT,__text,regular,pure_instructions\n",
      "Filename: In[7]\n",
      "\tpushq\t%rbp\n",
      "\tmovq\t%rsp, %rbp\n",
      "Source line: 4\n",
      "\tmovq\t(%rsi), %rcx\n",
      "\tmovq\t(%rdi), %rax\n",
      "\tcmpq\t%rax, %rcx\n",
      "\tcmovgeq\t%rcx, %rax\n",
      "\tpopq\t%rbp\n",
      "\tretq\n",
      "\tnopw\t%cs:(%rax,%rax)\n"
     ]
    }
   ],
   "source": [
    "@code_native(x +  y)"
   ]
  },
  {
   "cell_type": "code",
   "execution_count": 10,
   "metadata": {
    "collapsed": false
   },
   "outputs": [
    {
     "name": "stdout",
     "output_type": "stream",
     "text": [
      "\t.section\t__TEXT,__text,regular,pure_instructions\n",
      "Filename: In[7]\n",
      "\tpushq\t%rbp\n",
      "\tmovq\t%rsp, %rbp\n",
      "Source line: 5\n",
      "\tmovq\t(%rsi), %rax\n",
      "\taddq\t(%rdi), %rax\n",
      "\tpopq\t%rbp\n",
      "\tretq\n",
      "\tnopl\t(%rax)\n"
     ]
    }
   ],
   "source": [
    "@code_native(x*y)"
   ]
  },
  {
   "cell_type": "code",
   "execution_count": 11,
   "metadata": {
    "collapsed": false
   },
   "outputs": [
    {
     "data": {
      "text/plain": [
       "TNum{Float64}(NaN)"
      ]
     },
     "execution_count": 11,
     "metadata": {},
     "output_type": "execute_result"
    }
   ],
   "source": [
    "z=TNum(NaN)"
   ]
  },
  {
   "cell_type": "code",
   "execution_count": 12,
   "metadata": {
    "collapsed": false
   },
   "outputs": [
    {
     "data": {
      "text/plain": [
       "TNum{Float64}(NaN)"
      ]
     },
     "execution_count": 12,
     "metadata": {},
     "output_type": "execute_result"
    }
   ],
   "source": [
    "x*z"
   ]
  },
  {
   "cell_type": "code",
   "execution_count": 13,
   "metadata": {
    "collapsed": false
   },
   "outputs": [
    {
     "data": {
      "text/plain": [
       "TNum{Float64}(5.0)"
      ]
     },
     "execution_count": 13,
     "metadata": {},
     "output_type": "execute_result"
    }
   ],
   "source": [
    "x+z"
   ]
  },
  {
   "cell_type": "code",
   "execution_count": 14,
   "metadata": {
    "collapsed": false
   },
   "outputs": [
    {
     "data": {
      "text/plain": [
       "conj (generic function with 13 methods)"
      ]
     },
     "execution_count": 14,
     "metadata": {},
     "output_type": "execute_result"
    }
   ],
   "source": [
    "TNum(A::Array) = map(TNum, A)            # Let's have an array of tropicals, rather than a tropical array\n",
    "conj(a::TNum)=a                          # Transposes could just be like reals"
   ]
  },
  {
   "cell_type": "code",
   "execution_count": 15,
   "metadata": {
    "collapsed": false
   },
   "outputs": [
    {
     "data": {
      "text/plain": [
       "2×2 Array{TNum{Int64},2}:\n",
       " 101  7\n",
       " 103  9"
      ]
     },
     "execution_count": 15,
     "metadata": {},
     "output_type": "execute_result"
    }
   ],
   "source": [
    "A=[1 2;3 4]\n",
    "B=[100 2;43 5]\n",
    "TNum(A) * TNum(B)              # This did what we said, but not what we want.  "
   ]
  },
  {
   "cell_type": "code",
   "execution_count": 16,
   "metadata": {
    "collapsed": false
   },
   "outputs": [
    {
     "name": "stderr",
     "output_type": "stream",
     "text": [
      "WARNING: Method definition (::Type{Main.TNum})(Array) in module Main at In[14]:1 overwritten at In[16]:2.\n"
     ]
    },
    {
     "data": {
      "text/plain": [
       "TNum{T}"
      ]
     },
     "execution_count": 16,
     "metadata": {},
     "output_type": "execute_result"
    }
   ],
   "source": [
    "# What we really want TNum of an array to be is rather an array of TNums\n",
    "TNum(A::Array) = map(TNum, A)"
   ]
  },
  {
   "cell_type": "code",
   "execution_count": 17,
   "metadata": {
    "collapsed": false
   },
   "outputs": [
    {
     "data": {
      "text/html": [
       "3 methods for generic function <b>Type</b>:<ul><li> (::<b>Type{TNum}</b>)(A::<b>Array</b>) at In[16]:2</li> <li> (::<b>Type{TNum}</b>)<i>{T}</i>(val::<b>T</b>) at In[2]:4</li> <li> (::<b>Type{T}</b>)<i>{T}</i>(arg) at <a href=\"https://github.com/JuliaLang/julia/tree/e6f843b0737bdffddbe4cf5c2f8b06278103fe64/base/sysimg.jl#L53\" target=\"_blank\">sysimg.jl:53</a></li> </ul>"
      ],
      "text/plain": [
       "# 3 methods for generic function \"(::Type)\":\n",
       "(::Type{TNum})(A::Array) at In[16]:2\n",
       "(::Type{TNum}){T}(val::T) at In[2]:4\n",
       "(::Type{T}){T}(arg) at sysimg.jl:53"
      ]
     },
     "execution_count": 17,
     "metadata": {},
     "output_type": "execute_result"
    }
   ],
   "source": [
    "methods(TNum)"
   ]
  },
  {
   "cell_type": "code",
   "execution_count": 18,
   "metadata": {
    "collapsed": false
   },
   "outputs": [
    {
     "name": "stdout",
     "output_type": "stream",
     "text": [
      "A = TNum{Int64}[1 2; 3 4]\n",
      "B = TNum{Int64}[100 2; 43 5]\n"
     ]
    },
    {
     "data": {
      "text/plain": [
       "2×2 Array{TNum{Int64},2}:\n",
       " 100  2\n",
       "  43  5"
      ]
     },
     "execution_count": 18,
     "metadata": {},
     "output_type": "execute_result"
    }
   ],
   "source": [
    "A=TNum(A)\n",
    "B=TNum(B)\n",
    "@show A\n",
    "@show B"
   ]
  },
  {
   "cell_type": "code",
   "execution_count": 19,
   "metadata": {
    "collapsed": false
   },
   "outputs": [
    {
     "data": {
      "text/plain": [
       "2×2 Array{TNum{Int64},2}:\n",
       " 1  2\n",
       " 3  4"
      ]
     },
     "execution_count": 19,
     "metadata": {},
     "output_type": "execute_result"
    }
   ],
   "source": [
    "A"
   ]
  },
  {
   "cell_type": "code",
   "execution_count": 20,
   "metadata": {
    "collapsed": false
   },
   "outputs": [
    {
     "data": {
      "text/plain": [
       "2×2 Array{TNum{Int64},2}:\n",
       " 100  2\n",
       "  43  5"
      ]
     },
     "execution_count": 20,
     "metadata": {},
     "output_type": "execute_result"
    }
   ],
   "source": [
    "B"
   ]
  },
  {
   "cell_type": "code",
   "execution_count": 21,
   "metadata": {
    "collapsed": false
   },
   "outputs": [
    {
     "data": {
      "text/plain": [
       "2×2 Array{TNum{Int64},2}:\n",
       " 101  7\n",
       " 103  9"
      ]
     },
     "execution_count": 21,
     "metadata": {},
     "output_type": "execute_result"
    }
   ],
   "source": [
    "A*B"
   ]
  },
  {
   "cell_type": "code",
   "execution_count": 22,
   "metadata": {
    "collapsed": false
   },
   "outputs": [
    {
     "data": {
      "text/plain": [
       "2×2 Array{TNum{Int64},2}:\n",
       " 397  398\n",
       " 399  400"
      ]
     },
     "execution_count": 22,
     "metadata": {},
     "output_type": "execute_result"
    }
   ],
   "source": [
    "A^100"
   ]
  },
  {
   "cell_type": "code",
   "execution_count": 23,
   "metadata": {
    "collapsed": false
   },
   "outputs": [
    {
     "data": {
      "text/plain": [
       "2×2 Array{TNum{Int64},2}:\n",
       " 6  7\n",
       " 7  8"
      ]
     },
     "execution_count": 23,
     "metadata": {},
     "output_type": "execute_result"
    }
   ],
   "source": [
    "A'*A"
   ]
  },
  {
   "cell_type": "code",
   "execution_count": 24,
   "metadata": {
    "collapsed": false
   },
   "outputs": [
    {
     "data": {
      "text/plain": [
       "1×4 Array{TNum{Int64},2}:\n",
       " 1  2  3  5"
      ]
     },
     "execution_count": 24,
     "metadata": {},
     "output_type": "execute_result"
    }
   ],
   "source": [
    "A=TNum([1 2 3 5])\n",
    "#A'*A"
   ]
  },
  {
   "cell_type": "code",
   "execution_count": 25,
   "metadata": {
    "collapsed": false
   },
   "outputs": [
    {
     "data": {
      "text/plain": [
       "2×8 Array{TNum{Int64},2}:\n",
       " 101  3  102  4  103  5  105   7\n",
       "  44  6   45  7   46  8   48  10"
      ]
     },
     "execution_count": 25,
     "metadata": {},
     "output_type": "execute_result"
    }
   ],
   "source": [
    "kron(A,B)"
   ]
  },
  {
   "cell_type": "code",
   "execution_count": 26,
   "metadata": {
    "collapsed": false
   },
   "outputs": [
    {
     "ename": "LoadError",
     "evalue": "LoadError: no promotion exists for TNum{Complex{Float64}} and Complex{Float64}\nwhile loading In[26], in expression starting on line 2",
     "output_type": "error",
     "traceback": [
      "LoadError: no promotion exists for TNum{Complex{Float64}} and Complex{Float64}\nwhile loading In[26], in expression starting on line 2",
      "",
      " in promote(::TNum{Complex{Float64}}, ::Complex{Float64}) at ./promotion.jl:153",
      " in *(::TNum{Complex{Float64}}, ::Complex{Float64}) at ./promotion.jl:191"
     ]
    }
   ],
   "source": [
    "x=TNum(1.0im)\n",
    "x * complex(5.0,0)\n",
    "\n"
   ]
  },
  {
   "cell_type": "markdown",
   "metadata": {},
   "source": [
    "## Code Reuse\n",
    "\n",
    "Notice that we do not write separate tropical algebras for real, complex, float, and int.  \n",
    "We also do not write new matrix multiplies, nor integer powers.  This is the beauty of generic\n",
    "programming.  "
   ]
  },
  {
   "cell_type": "markdown",
   "metadata": {},
   "source": [
    "## Multiple Dispatch"
   ]
  },
  {
   "cell_type": "code",
   "execution_count": 27,
   "metadata": {
    "collapsed": false
   },
   "outputs": [
    {
     "data": {
      "text/plain": [
       "convert (generic function with 597 methods)"
      ]
     },
     "execution_count": 27,
     "metadata": {},
     "output_type": "execute_result"
    }
   ],
   "source": [
    "promote_rule{T,U}(::Type{TNum{T}},::Type{U})  =  TNum{promote_type(T,U)}\n",
    "convert{T}(::Type{TNum{T}}, x::TNum) = TNum(convert(T,x.val));\n",
    "convert{T,U}(::Type{TNum{T}}, x::U) = TNum(convert(T,x))"
   ]
  },
  {
   "cell_type": "code",
   "execution_count": 28,
   "metadata": {
    "collapsed": false
   },
   "outputs": [
    {
     "data": {
      "text/plain": [
       "5.0 + 1.0im"
      ]
     },
     "execution_count": 28,
     "metadata": {},
     "output_type": "execute_result"
    }
   ],
   "source": [
    "i = TNum(1.0*im)\n",
    "5 * i"
   ]
  },
  {
   "cell_type": "code",
   "execution_count": 29,
   "metadata": {
    "collapsed": false
   },
   "outputs": [
    {
     "data": {
      "text/plain": [
       "5.0 + 1.0im"
      ]
     },
     "execution_count": 29,
     "metadata": {},
     "output_type": "execute_result"
    }
   ],
   "source": [
    "5 * TNum(1.0*im)\n",
    "TNum(1.0*im) * 5"
   ]
  },
  {
   "cell_type": "code",
   "execution_count": 35,
   "metadata": {
    "collapsed": false
   },
   "outputs": [
    {
     "data": {
      "text/plain": [
       "13 + 10im"
      ]
     },
     "execution_count": 35,
     "metadata": {},
     "output_type": "execute_result"
    }
   ],
   "source": [
    "13 + 10*im"
   ]
  },
  {
   "cell_type": "code",
   "execution_count": 31,
   "metadata": {
    "collapsed": false
   },
   "outputs": [
    {
     "data": {
      "text/plain": [
       "isless (generic function with 49 methods)"
      ]
     },
     "execution_count": 31,
     "metadata": {},
     "output_type": "execute_result"
    }
   ],
   "source": [
    "isless(x::Complex{Float64}, y::Complex{Float64}) =\n",
    "real(x)<real(y) || real(x)==real(y) && imag(x)<imag(y)"
   ]
  },
  {
   "cell_type": "code",
   "execution_count": 36,
   "metadata": {
    "collapsed": false
   },
   "outputs": [
    {
     "data": {
      "text/plain": [
       "13 + 10im"
      ]
     },
     "execution_count": 36,
     "metadata": {},
     "output_type": "execute_result"
    }
   ],
   "source": [
    "13 + 10*im"
   ]
  },
  {
   "cell_type": "code",
   "execution_count": 33,
   "metadata": {
    "collapsed": false
   },
   "outputs": [
    {
     "name": "stdout",
     "output_type": "stream",
     "text": [
      "\t.section\t__TEXT,__text,regular,pure_instructions\n",
      "Filename: promotion.jl\n",
      "\tpushq\t%rbp\n",
      "\tmovq\t%rsp, %rbp\n",
      "Source line: 191\n",
      "\tcvtsi2sdq\t(%rdi), %xmm1\n",
      "\taddsd\t%xmm1, %xmm0\n",
      "\tpopq\t%rbp\n",
      "\tretq\n",
      "\tnop\n"
     ]
    }
   ],
   "source": [
    "@code_native( TNum(1) * 5.0 )"
   ]
  },
  {
   "cell_type": "code",
   "execution_count": 34,
   "metadata": {
    "collapsed": false
   },
   "outputs": [
    {
     "name": "stdout",
     "output_type": "stream",
     "text": [
      "\t.section\t__TEXT,__text,regular,pure_instructions\n",
      "Filename: promotion.jl\n",
      "\tpushq\t%rbp\n",
      "\tmovq\t%rsp, %rbp\n",
      "\tpushq\t%r15\n",
      "\tpushq\t%r14\n",
      "\tpushq\t%r13\n",
      "\tpushq\t%r12\n",
      "\tpushq\t%rbx\n",
      "\tsubq\t$104, %rsp\n",
      "\tmovq\t%rdx, %rbx\n",
      "\tmovq\t%rdi, %r15\n",
      "Source line: 2\n",
      "\tmovq\t(%rsi), %rdx\n",
      "\tmovq\t8(%rsi), %rcx\n",
      "\tmovabsq\t$Type, %r13\n",
      "\tleaq\t-56(%rbp), %rdi\n",
      "\tmovabsq\t$4474756048, %r14       ## imm = 0x10AB75BD0\n",
      "\tmovq\t%r14, %rsi\n",
      "\tcallq\t*%r13\n",
      "Source line: 153\n",
      "\tmovq\t-56(%rbp), %rdx\n",
      "\tmovq\t-48(%rbp), %rcx\n",
      "\tleaq\t-72(%rbp), %r12\n",
      "\tmovq\t%r12, %rdi\n",
      "\tmovq\t%r14, %rsi\n",
      "\tcallq\t*%r13\n",
      "Source line: 3\n",
      "\tmovq\t(%rbx), %rdx\n",
      "\tmovq\t8(%rbx), %rcx\n",
      "\tleaq\t-88(%rbp), %rdi\n",
      "\tmovq\t%r14, %rsi\n",
      "\tcallq\t*%r13\n",
      "Source line: 191\n",
      "\tmovq\t-88(%rbp), %rdx\n",
      "\tmovq\t-80(%rbp), %rcx\n",
      "\tleaq\t-104(%rbp), %rbx\n",
      "\tmovq\t%rbx, %rdi\n",
      "\tmovq\t%r14, %rsi\n",
      "\tcallq\t*%r13\n",
      "Source line: 5\n",
      "\tmovabsq\t$\"+\", %rax\n",
      "\tleaq\t-120(%rbp), %rdi\n",
      "\tmovq\t%r12, %rsi\n",
      "\tmovq\t%rbx, %rdx\n",
      "\tcallq\t*%rax\n",
      "Source line: 191\n",
      "\tmovq\t-120(%rbp), %rdx\n",
      "\tmovq\t-112(%rbp), %rcx\n",
      "\tleaq\t-136(%rbp), %rdi\n",
      "\tmovq\t%r14, %rsi\n",
      "\tcallq\t*%r13\n",
      "\tmovq\t-136(%rbp), %rax\n",
      "\tmovq\t-128(%rbp), %rcx\n",
      "\tmovq\t%rcx, 8(%r15)\n",
      "\tmovq\t%rax, (%r15)\n",
      "\tmovq\t%r15, %rax\n",
      "\taddq\t$104, %rsp\n",
      "\tpopq\t%rbx\n",
      "\tpopq\t%r12\n",
      "\tpopq\t%r13\n",
      "\tpopq\t%r14\n",
      "\tpopq\t%r15\n",
      "\tpopq\t%rbp\n",
      "\tretq\n",
      "\tnopw\t%cs:(%rax,%rax)\n"
     ]
    }
   ],
   "source": [
    "@code_native TNum(3//5) * 2//3"
   ]
  },
  {
   "cell_type": "markdown",
   "metadata": {
    "collapsed": true
   },
   "source": [
    "## Linear Algebra"
   ]
  },
  {
   "cell_type": "code",
   "execution_count": 113,
   "metadata": {
    "collapsed": false
   },
   "outputs": [
    {
     "data": {
      "text/plain": [
       "3x3 SymTridiagonal{Int64}:\n",
       " 1  4  0\n",
       " 4  2  5\n",
       " 0  5  3"
      ]
     },
     "execution_count": 113,
     "metadata": {},
     "output_type": "execute_result"
    }
   ],
   "source": [
    "A=SymTridiagonal([1, 2, 3],[4, 5])"
   ]
  },
  {
   "cell_type": "code",
   "execution_count": 114,
   "metadata": {
    "collapsed": false
   },
   "outputs": [
    {
     "data": {
      "text/plain": [
       "3x3 Array{Int64,2}:\n",
       " 3  3  4\n",
       " 1  5  3\n",
       " 1  3  4"
      ]
     },
     "execution_count": 114,
     "metadata": {},
     "output_type": "execute_result"
    }
   ],
   "source": [
    "B=rand(1:5,3,3)"
   ]
  },
  {
   "cell_type": "code",
   "execution_count": 115,
   "metadata": {
    "collapsed": false
   },
   "outputs": [
    {
     "data": {
      "text/plain": [
       "3x3 Array{Int64,2}:\n",
       " 4  7  4\n",
       " 5  7  8\n",
       " 1  8  7"
      ]
     },
     "execution_count": 115,
     "metadata": {},
     "output_type": "execute_result"
    }
   ],
   "source": [
    "A + B"
   ]
  },
  {
   "cell_type": "code",
   "execution_count": 116,
   "metadata": {
    "collapsed": false
   },
   "outputs": [
    {
     "data": {
      "text/html": [
       "+(A::<b>SymTridiagonal{T}</b>,B::<b>Array{T,2}</b>) at <a href=\"https://github.com/JuliaLang/julia/tree/483dbf5279efe29f94cf35d42de0ab0a673fb34e/base/linalg/special.jl#L98\" target=\"_blank\">linalg/special.jl:98</a>"
      ],
      "text/plain": [
       "+(A::SymTridiagonal{T},B::Array{T,2}) at linalg/special.jl:98"
      ]
     },
     "execution_count": 116,
     "metadata": {},
     "output_type": "execute_result"
    }
   ],
   "source": [
    "@which(A+B)   "
   ]
  },
  {
   "cell_type": "markdown",
   "metadata": {},
   "source": [
    "If you can see that this high level linear algebra mechansim is the same as the low level type mechanism then you start to appreciate the message of Julia"
   ]
  },
  {
   "cell_type": "code",
   "execution_count": 117,
   "metadata": {
    "collapsed": false
   },
   "outputs": [
    {
     "data": {
      "text/plain": [
       "4x3 Array{Int64,2}:\n",
       " 1  2   3\n",
       " 1  2   1\n",
       " 1  0   1\n",
       " 1  0  -1"
      ]
     },
     "execution_count": 117,
     "metadata": {},
     "output_type": "execute_result"
    }
   ],
   "source": [
    " A=[1 2 3\n",
    "1 2 1\n",
    "1 0 1\n",
    "1 0 -1]"
   ]
  },
  {
   "cell_type": "code",
   "execution_count": 118,
   "metadata": {
    "collapsed": false
   },
   "outputs": [
    {
     "data": {
      "text/plain": [
       "3x3 Array{Float64,2}:\n",
       " -2.0  -2.0  -2.0\n",
       "  0.0  -2.0  -2.0\n",
       "  0.0   0.0  -2.0"
      ]
     },
     "execution_count": 118,
     "metadata": {},
     "output_type": "execute_result"
    }
   ],
   "source": [
    "QR = qrfact(A)\n",
    "Q  = QR[:Q]\n",
    "R  = QR[:R]"
   ]
  },
  {
   "cell_type": "code",
   "execution_count": 119,
   "metadata": {
    "collapsed": false
   },
   "outputs": [
    {
     "data": {
      "text/plain": [
       "3-element Array{Float64,1}:\n",
       "  0.241801 \n",
       "  0.328527 \n",
       " -0.0728046"
      ]
     },
     "execution_count": 119,
     "metadata": {},
     "output_type": "execute_result"
    }
   ],
   "source": [
    "QR \\ rand(4)"
   ]
  },
  {
   "cell_type": "code",
   "execution_count": 120,
   "metadata": {
    "collapsed": false
   },
   "outputs": [
    {
     "data": {
      "text/plain": [
       "4-element Array{Float64,1}:\n",
       " -0.5\n",
       " -0.5\n",
       " -0.5\n",
       " -0.5"
      ]
     },
     "execution_count": 120,
     "metadata": {},
     "output_type": "execute_result"
    }
   ],
   "source": [
    "Q * [1,0,0,0]"
   ]
  },
  {
   "cell_type": "code",
   "execution_count": 121,
   "metadata": {
    "collapsed": false
   },
   "outputs": [
    {
     "data": {
      "text/plain": [
       "4-element Array{Float64,1}:\n",
       " -0.5\n",
       " -0.5\n",
       " -0.5\n",
       " -0.5"
      ]
     },
     "execution_count": 121,
     "metadata": {},
     "output_type": "execute_result"
    }
   ],
   "source": [
    "Q * [1,0,0]"
   ]
  },
  {
   "cell_type": "code",
   "execution_count": 122,
   "metadata": {
    "collapsed": false
   },
   "outputs": [
    {
     "ename": "LoadError",
     "evalue": "DimensionMismatch(\"\")\nwhile loading In[122], in expression starting on line 1",
     "output_type": "error",
     "traceback": [
      "DimensionMismatch(\"\")\nwhile loading In[122], in expression starting on line 1",
      "",
      " in * at linalg/factorization.jl:279"
     ]
    }
   ],
   "source": [
    "Q * [1,0,0,0,0]"
   ]
  },
  {
   "cell_type": "code",
   "execution_count": 153,
   "metadata": {
    "collapsed": false
   },
   "outputs": [
    {
     "data": {
      "text/plain": [
       "max (generic function with 10 methods)"
      ]
     },
     "execution_count": 153,
     "metadata": {},
     "output_type": "execute_result"
    }
   ],
   "source": [
    "Base.max(x,y) = 5*x-y"
   ]
  },
  {
   "cell_type": "code",
   "execution_count": 154,
   "metadata": {
    "collapsed": false
   },
   "outputs": [
    {
     "data": {
      "text/plain": [
       "200"
      ]
     },
     "execution_count": 154,
     "metadata": {},
     "output_type": "execute_result"
    }
   ],
   "source": [
    "max(200,5)"
   ]
  },
  {
   "cell_type": "code",
   "execution_count": 156,
   "metadata": {
    "collapsed": false
   },
   "outputs": [
    {
     "data": {
      "text/plain": [
       "foo (generic function with 1 method)"
      ]
     },
     "execution_count": 156,
     "metadata": {},
     "output_type": "execute_result"
    }
   ],
   "source": [
    "foo(x::Int,y::Float64) = x+y"
   ]
  },
  {
   "cell_type": "code",
   "execution_count": 157,
   "metadata": {
    "collapsed": false
   },
   "outputs": [
    {
     "data": {
      "text/plain": [
       "12.0"
      ]
     },
     "execution_count": 157,
     "metadata": {},
     "output_type": "execute_result"
    }
   ],
   "source": [
    "foo(5,7.0)"
   ]
  },
  {
   "cell_type": "code",
   "execution_count": 158,
   "metadata": {
    "collapsed": false
   },
   "outputs": [
    {
     "ename": "LoadError",
     "evalue": "`foo` has no method matching foo(::Int64, ::Int64)\nwhile loading In[158], in expression starting on line 1",
     "output_type": "error",
     "traceback": [
      "`foo` has no method matching foo(::Int64, ::Int64)\nwhile loading In[158], in expression starting on line 1",
      ""
     ]
    }
   ],
   "source": [
    "foo(4,5)"
   ]
  },
  {
   "cell_type": "code",
   "execution_count": null,
   "metadata": {
    "collapsed": true
   },
   "outputs": [],
   "source": [
    "foo"
   ]
  }
 ],
 "metadata": {
  "kernelspec": {
   "display_name": "Julia 0.5.0-rc3",
   "language": "julia",
   "name": "julia-0.5"
  },
  "language_info": {
   "file_extension": ".jl",
   "mimetype": "application/julia",
   "name": "julia",
   "version": "0.5.0"
  }
 },
 "nbformat": 4,
 "nbformat_minor": 0
}
