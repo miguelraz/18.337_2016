{
 "cells": [
  {
   "cell_type": "code",
   "execution_count": 4,
   "metadata": {
    "collapsed": false
   },
   "outputs": [
    {
     "name": "stderr",
     "output_type": "stream",
     "text": [
      "INFO: Updating METADATA...\n",
      "INFO: Updating cache of Gadfly...\n",
      "INFO: Updating cache of IJulia...\n",
      "INFO: Updating cache of DataFrames...\n",
      "INFO: Updating cache of Rmath...\n",
      "INFO: Updating cache of FixedPointNumbers...\n",
      "INFO: Updating cache of Compat...\n",
      "INFO: Updating cache of Homebrew...\n",
      "INFO: Updating cache of StatsFuns...\n",
      "INFO: Updating cache of Colors...\n",
      "INFO: Updating cache of DataStructures...\n",
      "INFO: Updating cache of PyCall...\n",
      "INFO: Updating cache of PDMats...\n",
      "INFO: Updating cache of DocStringExtensions...\n",
      "INFO: Updating EquilibriumMeasures master...\n",
      "INFO: Updating SingularIntegralEquations master...\n",
      "WARNING: Package ApproxFun: skipping update (dirty)...\n",
      "INFO: Updating DistributedArrays anj/map_localparts... 01b6cf5f → 02f0fc7e\n",
      "INFO: Updating PyCall master... 869db283 → 34a50296\n",
      "INFO: Computing changes...\n",
      "INFO: Upgrading Colors: v0.6.6 => v0.6.7\n",
      "INFO: Upgrading Compat: v0.9.0 => v0.9.2\n",
      "INFO: Upgrading DataFrames: v0.8.2 => v0.8.3\n",
      "INFO: Upgrading DataStructures: v0.4.5 => v0.4.6\n",
      "INFO: Upgrading DocStringExtensions: v0.2.0 => v0.2.1\n",
      "INFO: Upgrading FixedPointNumbers: v0.1.4 => v0.1.6\n",
      "INFO: Upgrading Gadfly: v0.4.3 => v0.4.4\n",
      "INFO: Upgrading Homebrew: v0.3.5 => v0.4.0\n",
      "INFO: Upgrading IJulia: v1.2.0 => v1.3.0\n",
      "INFO: Upgrading PlotlyJS: v0.4.1 => v0.4.2\n",
      "INFO: Upgrading PyPlot: v2.2.1 => v2.2.2\n",
      "INFO: Upgrading Rmath: v0.1.2 => v0.1.3\n",
      "INFO: Upgrading StatsFuns: v0.3.0 => v0.3.1\n",
      "INFO: Building Rmath\n",
      "INFO: Recompiling stale cache file /Users/alanedelman/.julia/lib/v0.5/Compat.ji for module Compat.\n",
      "INFO: Recompiling stale cache file /Users/alanedelman/.julia/lib/v0.5/SHA.ji for module SHA.\n",
      "INFO: Recompiling stale cache file /Users/alanedelman/.julia/lib/v0.5/BinDeps.ji for module BinDeps.\n",
      "INFO: Recompiling stale cache file /Users/alanedelman/.julia/lib/v0.5/URIParser.ji for module URIParser.\n",
      "INFO: Building Homebrew\n",
      "INFO: Recompiling stale cache file /Users/alanedelman/.julia/lib/v0.5/Homebrew.ji for module Homebrew.\n",
      "INFO: Recompiling stale cache file /Users/alanedelman/.julia/lib/v0.5/JSON.ji for module JSON.\n"
     ]
    },
    {
     "name": "stdout",
     "output_type": "stream",
     "text": [
      "Updated Homebrew from 984e80a to a148aa3.\n",
      "Updated 1 tap (homebrew/core).\n",
      "==> New Formulae\n",
      "elvish\n",
      "shyaml\n",
      "tldr\n",
      "zsh-git-prompt\n",
      "==> Updated Formulae\n",
      "afflib\n",
      "antigen\n",
      "appscale-tools\n",
      "apr\n",
      "artifactory\n",
      "aws-sdk-cpp\n",
      "awscli\n",
      "bitrise\n",
      "buku\n",
      "cattle\n",
      "chromedriver\n",
      "cli53\n",
      "collectd\n",
      "conan\n",
      "consul\n",
      "cryptopp\n",
      "curl\n",
      "darcs\n",
      "datetime-fortran\n",
      "dockutil\n",
      "dynamodb-local\n",
      "fabio\n",
      "fontconfig\n",
      "gitg\n",
      "gitlab-ci-multi-runner\n",
      "glide\n",
      "glm\n",
      "guile\n",
      "gx\n",
      "h2o\n",
      "hub\n",
      "ibex\n",
      "ios-deploy\n",
      "ios-webkit-debug-proxy\n",
      "jenkins\n",
      "kapacitor\n",
      "libstrophe\n",
      "libxslt\n",
      "logentries\n",
      "macvim\n",
      "mas\n",
      "minio\n",
      "mkvtoolnix\n",
      "mysql-sandbox\n",
      "pango\n",
      "pdnsrec\n",
      "planck\n",
      "ponyc\n",
      "pyenv-virtualenv\n",
      "redpen\n",
      "ruby-build\n",
      "scour\n",
      "serf\n",
      "shadowsocks-libev\n",
      "sqlite\n",
      "sqlite-analyzer\n",
      "vert.x\n",
      "vim\n",
      "wakatime-cli\n",
      "wireshark\n",
      "youtube-dl\n",
      "==> Deleted Formulae\n",
      "jing\n"
     ]
    },
    {
     "name": "stderr",
     "output_type": "stream",
     "text": [
      "INFO: Building Nettle\n",
      "INFO: Building ZMQ\n",
      "INFO: Building IJulia\n",
      "INFO: Recompiling stale cache file /Users/alanedelman/.julia/lib/v0.5/Conda.ji for module Conda.\n",
      "INFO: Installing Jupyter via the Conda package.\n"
     ]
    },
    {
     "name": "stdout",
     "output_type": "stream",
     "text": [
      "Fetching package metadata .......\n",
      "Solving package specifications: ..........\n",
      "\n",
      "Package plan for installation in environment /Users/alanedelman/.julia/v0.5/Conda/deps/usr:\n",
      "\n",
      "The following packages will be downloaded:\n",
      "\n",
      "    package                    |            build\n",
      "    ---------------------------|-----------------\n",
      "    conda-env-2.6.0            |                0          601 B\n",
      "    enum34-1.1.6               |           py27_0          54 KB\n",
      "    conda-4.2.6                |           py27_0         360 KB\n",
      "    ------------------------------------------------------------\n",
      "                                           Total:         415 KB\n",
      "\n",
      "The following NEW packages will be INSTALLED:\n",
      "\n",
      "    enum34:    1.1.6-py27_0 \n",
      "\n",
      "The following packages will be UPDATED:\n",
      "\n",
      "    conda:     4.1.11-py27_0 --> 4.2.6-py27_0\n",
      "    conda-env: 2.5.2-py27_0  --> 2.6.0-0     \n",
      "\n",
      "Fetching packages ...\n",
      "conda-env-2.6. 100% |###############################| Time: 0:00:00 409.68 kB/s\n",
      "enum34-1.1.6-p 100% |###############################| Time: 0:00:00   1.48 MB/s\n",
      "conda-4.2.6-py 100% |###############################| Time: 0:00:00   3.36 MB/s\n",
      "Extracting packages ...\n",
      "[      COMPLETE      ]|##################################################| 100%\n",
      "Unlinking packages ...\n",
      "[      COMPLETE      ]|##################################################| 100%\n",
      "Linking packages ...\n",
      "[      COMPLETE      ]|##################################################| 100%\n"
     ]
    },
    {
     "name": "stderr",
     "output_type": "stream",
     "text": [
      "INFO: Found Jupyter version 4.1.1: /Users/alanedelman/.julia/v0.5/Conda/deps/usr/bin/jupyter\n",
      "Writing IJulia kernelspec to /Users/alanedelman/.julia/v0.5/IJulia/deps/julia-0.5/kernel.json ...\n",
      "Installing julia kernelspec julia-0.5\n",
      "[InstallKernelSpec] Removing existing kernelspec in /Users/alanedelman/Library/Jupyter/kernels/julia-0.5\n",
      "[InstallKernelSpec] Installed kernelspec julia-0.5 in /Users/alanedelman/Library/Jupyter/kernels/julia-0.5\n",
      "INFO: Building HttpParser\n",
      "INFO: Building MbedTLS\n",
      "INFO: Building PyCall\n",
      "Traceback (most recent call last):\n",
      "  File \"/Users/alanedelman/.julia/v0.5/Conda/deps/usr/bin/conda\", line 4, in <module>\n",
      "    import conda.cli\n",
      "  File \"/Users/alanedelman/.julia/v0.5/Conda/deps/usr/lib/python2.7/site-packages/conda/cli/__init__.py\", line 8, in <module>\n",
      "    from .main import main  # NOQA\n",
      "  File \"/Users/alanedelman/.julia/v0.5/Conda/deps/usr/lib/python2.7/site-packages/conda/cli/main.py\", line 46, in <module>\n",
      "    from ..base.context import context\n",
      "  File \"/Users/alanedelman/.julia/v0.5/Conda/deps/usr/lib/python2.7/site-packages/conda/base/context.py\", line 251, in <module>\n",
      "    context = Context(SEARCH_PATH, conda, None)\n",
      "  File \"/Users/alanedelman/.julia/v0.5/Conda/deps/usr/lib/python2.7/site-packages/conda/common/configuration.py\", line 692, in __init__\n",
      "    self._add_search_path(search_path)\n",
      "  File \"/Users/alanedelman/.julia/v0.5/Conda/deps/usr/lib/python2.7/site-packages/conda/common/configuration.py\", line 699, in _add_search_path\n",
      "    return self._add_raw_data(load_file_configs(search_path))\n",
      "  File \"/Users/alanedelman/.julia/v0.5/Conda/deps/usr/lib/python2.7/site-packages/conda/common/configuration.py\", line 371, in load_file_configs\n",
      "    raw_data = odict(kv for kv in chain.from_iterable(load_paths))\n",
      "  File \"/Users/alanedelman/.julia/v0.5/Conda/deps/usr/lib/python2.7/collections.py\", line 69, in __init__\n",
      "    self.__update(*args, **kwds)\n",
      "  File \"/Users/alanedelman/.julia/v0.5/Conda/deps/usr/lib/python2.7/_abcoll.py\", line 571, in update\n",
      "    for key, value in other:\n",
      "  File \"/Users/alanedelman/.julia/v0.5/Conda/deps/usr/lib/python2.7/site-packages/conda/common/configuration.py\", line 371, in <genexpr>\n",
      "    raw_data = odict(kv for kv in chain.from_iterable(load_paths))\n",
      "  File \"/Users/alanedelman/.julia/v0.5/Conda/deps/usr/lib/python2.7/site-packages/conda/common/configuration.py\", line 346, in _file_yaml_loader\n",
      "    assert fullpath.endswith(\".yml\") or fullpath.endswith(\"condarc\"), fullpath\n",
      "AssertionError: /Users/alanedelman/.julia/v0.5/Conda/deps/usr/condarc-julia\n"
     ]
    }
   ],
   "source": [
    "Pkg.update()"
   ]
  },
  {
   "cell_type": "code",
   "execution_count": 6,
   "metadata": {
    "collapsed": false
   },
   "outputs": [],
   "source": [
    "Pkg.checkout(\"DistributedArrays\",\"anj/map_localparts\")"
   ]
  },
  {
   "cell_type": "code",
   "execution_count": 7,
   "metadata": {
    "collapsed": false
   },
   "outputs": [
    {
     "name": "stderr",
     "output_type": "stream",
     "text": [
      "INFO: Recompiling stale cache file /Users/alanedelman/.julia/lib/v0.5/DistributedArrays.ji for module DistributedArrays.\n"
     ]
    }
   ],
   "source": [
    "nprocs() == 1 && addprocs(4)\n",
    "using DistributedArrays"
   ]
  },
  {
   "cell_type": "code",
   "execution_count": 8,
   "metadata": {
    "collapsed": false
   },
   "outputs": [],
   "source": [
    "@everywhere function prefix!(op, v, v0 = 0)\n",
    "    v[1] += v0\n",
    "    for i = 2:length(v)\n",
    "        v[i] = op(v[i-1], v[i])\n",
    "    end\n",
    "    return v\n",
    "end\n",
    "\n",
    "@everywhere function prefixlag!(op, v, v0 = 0)\n",
    "    vi = v[1]\n",
    "    v[1] = v0\n",
    "    for i = 2:length(v)\n",
    "        tmp  = op(v[i - 1], vi)\n",
    "        vi   = v[i]\n",
    "        v[i] = tmp\n",
    "    end\n",
    "    v\n",
    "end"
   ]
  },
  {
   "cell_type": "code",
   "execution_count": 33,
   "metadata": {
    "collapsed": false
   },
   "outputs": [
    {
     "data": {
      "text/plain": [
       "8-element Array{Int64,1}:\n",
       "  0\n",
       "  1\n",
       "  3\n",
       "  6\n",
       " 10\n",
       " 15\n",
       " 21\n",
       " 28"
      ]
     },
     "execution_count": 33,
     "metadata": {},
     "output_type": "execute_result"
    }
   ],
   "source": [
    "prefixlag!(+,collect(1:8))"
   ]
  },
  {
   "cell_type": "code",
   "execution_count": 10,
   "metadata": {
    "collapsed": false
   },
   "outputs": [
    {
     "data": {
      "text/plain": [
       "10-element Array{Array{Int64,2},1}:\n",
       " [0 1; 1 1]    \n",
       " [1 1; 1 2]    \n",
       " [1 2; 2 3]    \n",
       " [2 3; 3 5]    \n",
       " [3 5; 5 8]    \n",
       " [5 8; 8 13]   \n",
       " [8 13; 13 21] \n",
       " [13 21; 21 34]\n",
       " [21 34; 34 55]\n",
       " [34 55; 55 89]"
      ]
     },
     "execution_count": 10,
     "metadata": {},
     "output_type": "execute_result"
    }
   ],
   "source": [
    "A = prefix!(*, [[0 1; 1 1] for i = 1:10])"
   ]
  },
  {
   "cell_type": "code",
   "execution_count": 11,
   "metadata": {
    "collapsed": false
   },
   "outputs": [
    {
     "data": {
      "text/plain": [
       "10-element BitArray{1}:\n",
       " false\n",
       "  true\n",
       " false\n",
       " false\n",
       "  true\n",
       "  true\n",
       "  true\n",
       "  true\n",
       "  true\n",
       " false"
      ]
     },
     "execution_count": 11,
     "metadata": {},
     "output_type": "execute_result"
    }
   ],
   "source": [
    "prefix!($, bitrand(10))"
   ]
  },
  {
   "cell_type": "code",
   "execution_count": 12,
   "metadata": {
    "collapsed": false
   },
   "outputs": [
    {
     "data": {
      "text/plain": [
       "(0:9,10:19,20:29,30:39)"
      ]
     },
     "execution_count": 12,
     "metadata": {},
     "output_type": "execute_result"
    }
   ],
   "source": [
    "x1, x2, x3, x4 = 0:9, 10:19, 20:29, 30:39"
   ]
  },
  {
   "cell_type": "code",
   "execution_count": 13,
   "metadata": {
    "collapsed": false
   },
   "outputs": [
    {
     "data": {
      "text/plain": [
       "4-element Array{Array{Int64,1},1}:\n",
       " [0,1,2,3,4,5,6,7,8,9]          \n",
       " [10,11,12,13,14,15,16,17,18,19]\n",
       " [20,21,22,23,24,25,26,27,28,29]\n",
       " [30,31,32,33,34,35,36,37,38,39]"
      ]
     },
     "execution_count": 13,
     "metadata": {},
     "output_type": "execute_result"
    }
   ],
   "source": [
    "x = Vector{Int}[x1, x2, x3, x4]\n",
    "\n",
    "# Simulating local parts of 0:39 on four processors"
   ]
  },
  {
   "cell_type": "code",
   "execution_count": 14,
   "metadata": {
    "collapsed": false
   },
   "outputs": [
    {
     "data": {
      "text/plain": [
       "4-element Array{Int64,1}:\n",
       "  45\n",
       " 145\n",
       " 245\n",
       " 345"
      ]
     },
     "execution_count": 14,
     "metadata": {},
     "output_type": "execute_result"
    }
   ],
   "source": [
    "y1 = map(sum, x)\n"
   ]
  },
  {
   "cell_type": "code",
   "execution_count": 15,
   "metadata": {
    "collapsed": false
   },
   "outputs": [
    {
     "data": {
      "text/plain": [
       "4-element Array{Int64,1}:\n",
       "   0\n",
       "  45\n",
       " 190\n",
       " 435"
      ]
     },
     "execution_count": 15,
     "metadata": {},
     "output_type": "execute_result"
    }
   ],
   "source": [
    "y2 = prefixlag!(+, y1)"
   ]
  },
  {
   "cell_type": "code",
   "execution_count": 16,
   "metadata": {
    "collapsed": false
   },
   "outputs": [
    {
     "data": {
      "text/plain": [
       "4-element Array{Array{Int64,1},1}:\n",
       " [0,1,3,6,10,15,21,28,36,45]              \n",
       " [55,66,78,91,105,120,136,153,171,190]    \n",
       " [210,231,253,276,300,325,351,378,406,435]\n",
       " [465,496,528,561,595,630,666,703,741,780]"
      ]
     },
     "execution_count": 16,
     "metadata": {},
     "output_type": "execute_result"
    }
   ],
   "source": [
    "y3 = map((t,s) -> prefix!(+, t, s), x, y2)"
   ]
  },
  {
   "cell_type": "code",
   "execution_count": 17,
   "metadata": {
    "collapsed": false
   },
   "outputs": [
    {
     "data": {
      "text/plain": [
       "1×40 Array{Int64,2}:\n",
       " 0  1  3  6  10  15  21  28  36  45  55  66  78  91  105  120  136  153  171  190  210  231  253  276  300  325  351  378  406  435  465  496  528  561  595  630  666  703  741  780"
      ]
     },
     "execution_count": 17,
     "metadata": {},
     "output_type": "execute_result"
    }
   ],
   "source": [
    "cumsum(0:39)'"
   ]
  },
  {
   "cell_type": "markdown",
   "metadata": {},
   "source": [
    "## Distributed version (requires some changes to DArrays)\n",
    "Notice similarity to and differences from the sequential version"
   ]
  },
  {
   "cell_type": "code",
   "execution_count": 29,
   "metadata": {
    "collapsed": false
   },
   "outputs": [
    {
     "data": {
      "text/plain": [
       "40-element DistributedArrays.DArray{Int64,1,Array{Int64,1}}:\n",
       "  0\n",
       "  1\n",
       "  2\n",
       "  3\n",
       "  4\n",
       "  5\n",
       "  6\n",
       "  7\n",
       "  8\n",
       "  9\n",
       " 10\n",
       " 11\n",
       " 12\n",
       " 13\n",
       " 14\n",
       " 15\n",
       " 16\n",
       " 17\n",
       " 18\n",
       " 19\n",
       " 20\n",
       " 21\n",
       " 22\n",
       " 23\n",
       " 24\n",
       " 25\n",
       " 26\n",
       " 27\n",
       " 28\n",
       " 29\n",
       " 30\n",
       " 31\n",
       " 32\n",
       " 33\n",
       " 34\n",
       " 35\n",
       " 36\n",
       " 37\n",
       " 38\n",
       " 39"
      ]
     },
     "execution_count": 29,
     "metadata": {},
     "output_type": "execute_result"
    }
   ],
   "source": [
    "xd = @DArray [i for i = 0:39]"
   ]
  },
  {
   "cell_type": "code",
   "execution_count": 30,
   "metadata": {
    "collapsed": false
   },
   "outputs": [
    {
     "data": {
      "text/plain": [
       "4-element Array{Array{Int64,1},1}:\n",
       " [0,1,2,3,4,5,6,7,8,9]          \n",
       " [10,11,12,13,14,15,16,17,18,19]\n",
       " [20,21,22,23,24,25,26,27,28,29]\n",
       " [30,31,32,33,34,35,36,37,38,39]"
      ]
     },
     "execution_count": 30,
     "metadata": {},
     "output_type": "execute_result"
    }
   ],
   "source": [
    "[DistributedArrays.chunk(xd, i) for i = 1:4]"
   ]
  },
  {
   "cell_type": "code",
   "execution_count": 48,
   "metadata": {
    "collapsed": false
   },
   "outputs": [
    {
     "data": {
      "text/plain": [
       "4-element DistributedArrays.DArray{Int64,1,Int64}:\n",
       "  45\n",
       " 145\n",
       " 245\n",
       " 345"
      ]
     },
     "execution_count": 48,
     "metadata": {},
     "output_type": "execute_result"
    }
   ],
   "source": [
    "#yd1 = DistributedArrays.map_localparts(sum, xd)\n",
    "yd1 = map_localparts(sum,xd) \n"
   ]
  },
  {
   "cell_type": "code",
   "execution_count": 32,
   "metadata": {
    "collapsed": false
   },
   "outputs": [
    {
     "data": {
      "text/plain": [
       "4-element Array{Int64,1}:\n",
       "   0\n",
       "  45\n",
       " 190\n",
       " 435"
      ]
     },
     "execution_count": 32,
     "metadata": {},
     "output_type": "execute_result"
    }
   ],
   "source": [
    "yd2 = prefixlag!(+, Array(yd1))"
   ]
  },
  {
   "cell_type": "code",
   "execution_count": 27,
   "metadata": {
    "collapsed": false
   },
   "outputs": [
    {
     "data": {
      "text/plain": [
       "40-element DistributedArrays.DArray{Int64,1,Array{Int64,1}}:\n",
       "     0\n",
       "     1\n",
       "     4\n",
       "    10\n",
       "    20\n",
       "    35\n",
       "    56\n",
       "    84\n",
       "   120\n",
       "   165\n",
       "   220\n",
       "   286\n",
       "   364\n",
       "   455\n",
       "   560\n",
       "   680\n",
       "   816\n",
       "   969\n",
       "  1140\n",
       "  1330\n",
       "  1540\n",
       "  1771\n",
       "  2024\n",
       "  2300\n",
       "  2600\n",
       "  2925\n",
       "  3276\n",
       "  3654\n",
       "  4060\n",
       "  4495\n",
       "  4960\n",
       "  5456\n",
       "  5984\n",
       "  6545\n",
       "  7140\n",
       "  7770\n",
       "  8436\n",
       "  9139\n",
       "  9880\n",
       " 10660"
      ]
     },
     "execution_count": 27,
     "metadata": {},
     "output_type": "execute_result"
    }
   ],
   "source": [
    "# Notice that we'll have to index into the offset of the prefix\n",
    "# because `map_localpart` interprets each element as an Array\n",
    "yd3 = map_localparts((t,s) -> prefix!(+, t, s[1]), xd, distribute(yd2))\n"
   ]
  },
  {
   "cell_type": "code",
   "execution_count": 23,
   "metadata": {
    "collapsed": false
   },
   "outputs": [
    {
     "data": {
      "text/plain": [
       "0"
      ]
     },
     "execution_count": 23,
     "metadata": {},
     "output_type": "execute_result"
    }
   ],
   "source": [
    "sum(vcat(x...) - yd3)"
   ]
  },
  {
   "cell_type": "code",
   "execution_count": 44,
   "metadata": {
    "collapsed": false
   },
   "outputs": [
    {
     "data": {
      "text/html": [
       "5 methods for generic function <b>map_localparts</b>:<ul><li> map_localparts(f::<b>Union{DataType,Function}</b>, d::<b>DistributedArrays.DArray</b>) at <a href=\"https://github.com/JuliaParallel/DistributedArrays.jl/tree/02f0fc7e7768cf8010cf9e4b96116b8c2488ce3a/src/mapreduce.jl#L160\" target=\"_blank\">/Users/alanedelman/.julia/v0.5/DistributedArrays/src/mapreduce.jl:160</a></li> <li> map_localparts(f::<b>Union{DataType,Function}</b>, d1::<b>DistributedArrays.DArray</b>, d2::<b>DistributedArrays.DArray</b>) at <a href=\"https://github.com/JuliaParallel/DistributedArrays.jl/tree/02f0fc7e7768cf8010cf9e4b96116b8c2488ce3a/src/mapreduce.jl#L169\" target=\"_blank\">/Users/alanedelman/.julia/v0.5/DistributedArrays/src/mapreduce.jl:169</a></li> <li> map_localparts(f::<b>Union{DataType,Function}</b>, DA::<b>DistributedArrays.DArray</b>, A::<b>Array</b>) at <a href=\"https://github.com/JuliaParallel/DistributedArrays.jl/tree/02f0fc7e7768cf8010cf9e4b96116b8c2488ce3a/src/mapreduce.jl#L178\" target=\"_blank\">/Users/alanedelman/.julia/v0.5/DistributedArrays/src/mapreduce.jl:178</a></li> <li> map_localparts(f::<b>Union{DataType,Function}</b>, A::<b>Array</b>, DA::<b>DistributedArrays.DArray</b>) at <a href=\"https://github.com/JuliaParallel/DistributedArrays.jl/tree/02f0fc7e7768cf8010cf9e4b96116b8c2488ce3a/src/mapreduce.jl#L190\" target=\"_blank\">/Users/alanedelman/.julia/v0.5/DistributedArrays/src/mapreduce.jl:190</a></li> <li> map_localparts(f::<b>Union{DataType,Function}</b>, As::<b>DistributedArrays.DArray...</b>) at <a href=\"https://github.com/JuliaParallel/DistributedArrays.jl/tree/02f0fc7e7768cf8010cf9e4b96116b8c2488ce3a/src/mapreduce.jl#L209\" target=\"_blank\">/Users/alanedelman/.julia/v0.5/DistributedArrays/src/mapreduce.jl:209</a></li> </ul>"
      ],
      "text/plain": [
       "# 5 methods for generic function \"map_localparts\":\n",
       "map_localparts(f::Union{DataType,Function}, d::DistributedArrays.DArray) at /Users/alanedelman/.julia/v0.5/DistributedArrays/src/mapreduce.jl:160\n",
       "map_localparts(f::Union{DataType,Function}, d1::DistributedArrays.DArray, d2::DistributedArrays.DArray) at /Users/alanedelman/.julia/v0.5/DistributedArrays/src/mapreduce.jl:169\n",
       "map_localparts(f::Union{DataType,Function}, DA::DistributedArrays.DArray, A::Array) at /Users/alanedelman/.julia/v0.5/DistributedArrays/src/mapreduce.jl:178\n",
       "map_localparts(f::Union{DataType,Function}, A::Array, DA::DistributedArrays.DArray) at /Users/alanedelman/.julia/v0.5/DistributedArrays/src/mapreduce.jl:190\n",
       "map_localparts(f::Union{DataType,Function}, As::DistributedArrays.DArray...) at /Users/alanedelman/.julia/v0.5/DistributedArrays/src/mapreduce.jl:209"
      ]
     },
     "execution_count": 44,
     "metadata": {},
     "output_type": "execute_result"
    }
   ],
   "source": [
    "methods(map_localparts)"
   ]
  },
  {
   "cell_type": "code",
   "execution_count": 45,
   "metadata": {
    "collapsed": false
   },
   "outputs": [
    {
     "data": {
      "text/plain": [
       "-0.8257855101654086"
      ]
     },
     "execution_count": 45,
     "metadata": {},
     "output_type": "execute_result"
    }
   ],
   "source": [
    "sin(cos(tan(5)))"
   ]
  },
  {
   "cell_type": "code",
   "execution_count": 46,
   "metadata": {
    "collapsed": false
   },
   "outputs": [
    {
     "data": {
      "text/plain": [
       "-0.8257855101654086"
      ]
     },
     "execution_count": 46,
     "metadata": {},
     "output_type": "execute_result"
    }
   ],
   "source": [
    "tan(5) |> cos |> sin"
   ]
  },
  {
   "cell_type": "code",
   "execution_count": null,
   "metadata": {
    "collapsed": true
   },
   "outputs": [],
   "source": [
    "&2, &1"
   ]
  }
 ],
 "metadata": {
  "anaconda-cloud": {},
  "kernelspec": {
   "display_name": "Julia 0.5.0-rc3",
   "language": "julia",
   "name": "julia-0.5"
  },
  "language_info": {
   "file_extension": ".jl",
   "mimetype": "application/julia",
   "name": "julia",
   "version": "0.5.0"
  }
 },
 "nbformat": 4,
 "nbformat_minor": 0
}
