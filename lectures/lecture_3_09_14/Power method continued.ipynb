{
 "cells": [
  {
   "cell_type": "markdown",
   "metadata": {},
   "source": [
    "# More power method (continuation of lecture 2)"
   ]
  },
  {
   "cell_type": "markdown",
   "metadata": {},
   "source": [
    "In this continuation of lecture 2, we will see that having a good abstraction of hardware resources allows us to run the **same code** in parallel.\n",
    "\n",
    "\"Parallel computing will have made it when we never have to know any of the internal details.\" Alan Edelman"
   ]
  },
  {
   "cell_type": "markdown",
   "metadata": {},
   "source": [
    "## Using parallel hardware"
   ]
  },
  {
   "cell_type": "code",
   "execution_count": 2,
   "metadata": {
    "collapsed": false
   },
   "outputs": [
    {
     "name": "stderr",
     "output_type": "stream",
     "text": [
      "WARNING: Method definition power_method(Any, Any) in module Main at In[1]:2 overwritten at In[2]:2.\n"
     ]
    },
    {
     "data": {
      "text/plain": [
       "power_method (generic function with 1 method)"
      ]
     },
     "execution_count": 2,
     "metadata": {},
     "output_type": "execute_result"
    }
   ],
   "source": [
    "function power_method(M, v)\n",
    "    T = eltype(v)\n",
    "    for i in 1:100\n",
    "        v = M*v        # repeatedly creates a new vector and destroys the old v\n",
    "        v /= T(norm(v))\n",
    "    end\n",
    "    \n",
    "    return v, T(norm(M*v)) / T(norm(v))  # or  (M*v) ./ v\n",
    "end"
   ]
  },
  {
   "cell_type": "markdown",
   "metadata": {},
   "source": [
    "### ArrayFire for calculations on the GPU"
   ]
  },
  {
   "cell_type": "markdown",
   "metadata": {},
   "source": [
    "ArrayFire is a Julia package that wraps the [`arrayfire`](http://arrayfire.com/) library for doing efficient array calculations on the GPU (graphics card). \n",
    "\n",
    "The [ArrayFire.jl](https://github.com/JuliaComputing/ArrayFire.jl) package provides a Julia wrapper for the `arrayfire` library. Note that **you must separately install the `arrayfire` library on your computer, before using this package**."
   ]
  },
  {
   "cell_type": "code",
   "execution_count": 2,
   "metadata": {
    "collapsed": true
   },
   "outputs": [],
   "source": [
    "# First install the arrayfire library from the arrayfire homepage.\n",
    "# On Mac you can use [Homebrew](http://brew.sh/), which you must first install and then execute\n",
    "# brew install arrayfire"
   ]
  },
  {
   "cell_type": "code",
   "execution_count": 3,
   "metadata": {
    "collapsed": false
   },
   "outputs": [
    {
     "name": "stderr",
     "output_type": "stream",
     "text": [
      "INFO: Nothing to be done\n",
      "INFO: METADATA is out-of-date — you may not have the latest version of ArrayFire\n",
      "INFO: Use `Pkg.update()` to get the latest versions of your packages\n"
     ]
    }
   ],
   "source": [
    "Pkg.add(\"ArrayFire\")"
   ]
  },
  {
   "cell_type": "code",
   "execution_count": 6,
   "metadata": {
    "collapsed": true
   },
   "outputs": [],
   "source": [
    "using ArrayFire"
   ]
  },
  {
   "cell_type": "markdown",
   "metadata": {},
   "source": [
    "`ArrayFire.jl` provides an easy way to create and manipulate arrays on the GPU. \n",
    "It is easy (although may be expensive!) to pass arrays backwards and forwards from the CPU to the GPU:"
   ]
  },
  {
   "cell_type": "markdown",
   "metadata": {},
   "source": [
    "First we create a standard Julia matrix (on the CPU):"
   ]
  },
  {
   "cell_type": "code",
   "execution_count": 6,
   "metadata": {
    "collapsed": false
   },
   "outputs": [
    {
     "data": {
      "text/plain": [
       "2×2 Array{Float64,2}:\n",
       " 2.0  1.0\n",
       " 1.0  1.0"
      ]
     },
     "execution_count": 6,
     "metadata": {},
     "output_type": "execute_result"
    }
   ],
   "source": [
    "M = [2 1; 1 1.]"
   ]
  },
  {
   "cell_type": "markdown",
   "metadata": {},
   "source": [
    "We can copy this into an array on the GPU with "
   ]
  },
  {
   "cell_type": "code",
   "execution_count": 7,
   "metadata": {
    "collapsed": false
   },
   "outputs": [
    {
     "data": {
      "text/plain": [
       "2×2 ArrayFire.AFArray{Float64,2}:\n",
       " 2.0  1.0\n",
       " 1.0  1.0"
      ]
     },
     "execution_count": 7,
     "metadata": {},
     "output_type": "execute_result"
    }
   ],
   "source": [
    "MM = AFArray(M);   # can't print out these objects unless use master branch of ArrayFire"
   ]
  },
  {
   "cell_type": "markdown",
   "metadata": {},
   "source": [
    "[Note that in order to print out these objects on Julia v0.5, you require (on 15 September 2016) the master (i.e. development) branch of the package, which may be obtained by executing\n",
    "\n",
    "    Pkg.checkout(\"ArrayFire\")\n",
    "]"
   ]
  },
  {
   "cell_type": "markdown",
   "metadata": {},
   "source": [
    "This calls a **constructor** of the `AFArray` object, that constructs an array on the GPU by copying the data provided."
   ]
  },
  {
   "cell_type": "markdown",
   "metadata": {},
   "source": [
    "We do the same for a vector:"
   ]
  },
  {
   "cell_type": "code",
   "execution_count": 10,
   "metadata": {
    "collapsed": false
   },
   "outputs": [
    {
     "data": {
      "text/plain": [
       "2-element ArrayFire.AFArray{Float64,1}:\n",
       " 1.0\n",
       " 1.0"
      ]
     },
     "execution_count": 10,
     "metadata": {},
     "output_type": "execute_result"
    }
   ],
   "source": [
    "v = [1., 1]\n",
    "vv = AFArray(v)"
   ]
  },
  {
   "cell_type": "markdown",
   "metadata": {},
   "source": [
    "and then multiply the matrix and vector **on the GPU**:"
   ]
  },
  {
   "cell_type": "code",
   "execution_count": 12,
   "metadata": {
    "collapsed": false
   },
   "outputs": [
    {
     "data": {
      "text/plain": [
       "2-element ArrayFire.AFArray{Float64,2}:\n",
       " 3.0\n",
       " 2.0"
      ]
     },
     "execution_count": 12,
     "metadata": {},
     "output_type": "execute_result"
    }
   ],
   "source": [
    "MM * vv"
   ]
  },
  {
   "cell_type": "markdown",
   "metadata": {},
   "source": [
    "We see that the `*` operation indeed has a method defined to perform the matrix-vector multiplication and create the result as a new object (in fact, a $2 \\times 1$ matrix) on the GPU.\n",
    "\n",
    "We are thus now able to call `power_method` directly:"
   ]
  },
  {
   "cell_type": "code",
   "execution_count": 14,
   "metadata": {
    "collapsed": false
   },
   "outputs": [
    {
     "data": {
      "text/plain": [
       "([0.850651,0.525731],2.618033988749895)"
      ]
     },
     "execution_count": 14,
     "metadata": {},
     "output_type": "execute_result"
    }
   ],
   "source": [
    "vec, val = power_method(MM, vv)"
   ]
  },
  {
   "cell_type": "code",
   "execution_count": 15,
   "metadata": {
    "collapsed": false
   },
   "outputs": [
    {
     "data": {
      "text/plain": [
       "2-element ArrayFire.AFArray{Float64,1}:\n",
       " 0.850651\n",
       " 0.525731"
      ]
     },
     "execution_count": 15,
     "metadata": {},
     "output_type": "execute_result"
    }
   ],
   "source": [
    "vec"
   ]
  },
  {
   "cell_type": "markdown",
   "metadata": {},
   "source": [
    "We see that the result of the calculation is indeed still an object on the GPU."
   ]
  },
  {
   "cell_type": "markdown",
   "metadata": {},
   "source": [
    "**Exercise**: Compare the time on GPU and CPU. Since execution on the GPU is asynchronous, it is necessary to synchronise:"
   ]
  },
  {
   "cell_type": "code",
   "execution_count": 7,
   "metadata": {
    "collapsed": false
   },
   "outputs": [
    {
     "data": {
      "text/plain": [
       "runGPU (generic function with 1 method)"
      ]
     },
     "execution_count": 7,
     "metadata": {},
     "output_type": "execute_result"
    }
   ],
   "source": [
    "function runGPU(MM, vv)\n",
    "    power_method(MM, vv)\n",
    "    sync()   # wait for the GPU to finish\n",
    "end"
   ]
  },
  {
   "cell_type": "code",
   "execution_count": 8,
   "metadata": {
    "collapsed": false
   },
   "outputs": [
    {
     "ename": "LoadError",
     "evalue": "LoadError: UndefVarError: MM not defined\nwhile loading In[8], in expression starting on line 184",
     "output_type": "error",
     "traceback": [
      "LoadError: UndefVarError: MM not defined\nwhile loading In[8], in expression starting on line 184",
      ""
     ]
    }
   ],
   "source": [
    "@time runGPU(MM, vv)"
   ]
  },
  {
   "cell_type": "code",
   "execution_count": 21,
   "metadata": {
    "collapsed": false
   },
   "outputs": [
    {
     "name": "stdout",
     "output_type": "stream",
     "text": [
      "  0.000026 seconds (307 allocations: 20.609 KB)\n"
     ]
    },
    {
     "data": {
      "text/plain": [
       "([0.850651,0.525731],2.618033988749895)"
      ]
     },
     "execution_count": 21,
     "metadata": {},
     "output_type": "execute_result"
    }
   ],
   "source": [
    "@time power_method(M, v)"
   ]
  },
  {
   "cell_type": "code",
   "execution_count": 12,
   "metadata": {
    "collapsed": true
   },
   "outputs": [],
   "source": [
    "\n",
    "n = 10000\n",
    "M = rand(Float32, n, n)  # GPUs are much more efficient with Float32s\n",
    "M = (M + M')/2\n",
    "v = rand(Float32, n, 1);"
   ]
  },
  {
   "cell_type": "code",
   "execution_count": 17,
   "metadata": {
    "collapsed": false
   },
   "outputs": [
    {
     "data": {
      "text/plain": [
       "(ArrayFire.AFArray{Float32,2},ArrayFire.AFArray{Float32,2})"
      ]
     },
     "execution_count": 17,
     "metadata": {},
     "output_type": "execute_result"
    }
   ],
   "source": [
    "typeof(MM),typeof(vv)"
   ]
  },
  {
   "cell_type": "code",
   "execution_count": 13,
   "metadata": {
    "collapsed": false
   },
   "outputs": [
    {
     "name": "stdout",
     "output_type": "stream",
     "text": [
      "  8.195866 seconds (508 allocations: 7.686 MB)\n"
     ]
    },
    {
     "data": {
      "text/plain": [
       "(\n",
       "Float32[0.00996414; 0.00998084; … ; 0.0100507; 0.0100459],\n",
       "\n",
       "4999.5728f0)"
      ]
     },
     "execution_count": 13,
     "metadata": {},
     "output_type": "execute_result"
    }
   ],
   "source": [
    "@time power_method(M, v)"
   ]
  },
  {
   "cell_type": "code",
   "execution_count": 14,
   "metadata": {
    "collapsed": false
   },
   "outputs": [
    {
     "name": "stdout",
     "output_type": "stream",
     "text": [
      "  0.803818 seconds (3.02 k allocations: 62.891 KB)\n"
     ]
    }
   ],
   "source": [
    "MM = AFArray(M)\n",
    "vv = AFArray(v)\n",
    "\n",
    "#@time power_method(M, v);\n",
    "@time runGPU(MM, vv);\n"
   ]
  },
  {
   "cell_type": "code",
   "execution_count": 23,
   "metadata": {
    "collapsed": false
   },
   "outputs": [
    {
     "data": {
      "text/plain": [
       "Float64"
      ]
     },
     "execution_count": 23,
     "metadata": {},
     "output_type": "execute_result"
    }
   ],
   "source": [
    "typeof(norm(MM*vv))"
   ]
  },
  {
   "cell_type": "markdown",
   "metadata": {},
   "source": [
    "On my machine, the CPU version is much faster for small arrays, while the GPU version is 3 times faster for matrices of linear size $n=10000$."
   ]
  },
  {
   "cell_type": "markdown",
   "metadata": {},
   "source": [
    "### DistributedArrays for large arrays spread across different processors"
   ]
  },
  {
   "cell_type": "markdown",
   "metadata": {},
   "source": [
    "The Julia package [DistributedArrays.jl](https://github.com/JuliaParallel/DistributedArrays.jl) defines a `DArray` (\"distributed array\") type, which provides an abstraction that looks like a standard Julia array, but is spread across several different processors.\n",
    "\n",
    "Since modern desktops and laptops often have multiple cores, we can use this.\n",
    "\n",
    "First we allow Julia access to more processes:"
   ]
  },
  {
   "cell_type": "code",
   "execution_count": 36,
   "metadata": {
    "collapsed": false
   },
   "outputs": [
    {
     "data": {
      "text/plain": [
       "4-element Array{Int64,1}:\n",
       " 2\n",
       " 3\n",
       " 4\n",
       " 5"
      ]
     },
     "execution_count": 36,
     "metadata": {},
     "output_type": "execute_result"
    }
   ],
   "source": [
    "addprocs(4)   # add cores to your Julia process"
   ]
  },
  {
   "cell_type": "code",
   "execution_count": 37,
   "metadata": {
    "collapsed": true
   },
   "outputs": [],
   "source": [
    "using DistributedArrays"
   ]
  },
  {
   "cell_type": "markdown",
   "metadata": {},
   "source": [
    "There are several ways to create `DArray`s:"
   ]
  },
  {
   "cell_type": "code",
   "execution_count": 38,
   "metadata": {
    "collapsed": false
   },
   "outputs": [
    {
     "data": {
      "text/plain": [
       "10×10 DistributedArrays.DArray{Float64,2,Array{Float64,2}}:\n",
       " 0.248988  0.153889   0.664526  0.661067   …  0.971092  0.824504   0.830846\n",
       " 0.641347  0.374573   0.59397   0.557687      0.19684   0.532591   0.159857\n",
       " 0.803745  0.0318901  0.61925   0.0707356     0.893829  0.738849   0.83417 \n",
       " 0.237734  0.0881233  0.405531  0.25496       0.709861  0.0876057  0.115356\n",
       " 0.651232  0.816379   0.314216  0.490344      0.584675  0.521554   0.382791\n",
       " 0.706556  0.758815   0.955861  0.0387312  …  0.260452  0.154861   0.609741\n",
       " 0.838201  0.124591   0.846526  0.840725      0.759394  0.983453   0.338123\n",
       " 0.435181  0.296503   0.697961  0.763113      0.228731  0.306705   0.807473\n",
       " 0.203791  0.589002   0.394243  0.69337       0.676374  0.467022   0.841446\n",
       " 0.382667  0.92903    0.432306  0.331317      0.832022  0.640685   0.948066"
      ]
     },
     "execution_count": 38,
     "metadata": {},
     "output_type": "execute_result"
    }
   ],
   "source": [
    "M = drand(10, 10)"
   ]
  },
  {
   "cell_type": "markdown",
   "metadata": {},
   "source": [
    "If we really need to, we can find out where Julia is storing each piece of the array:"
   ]
  },
  {
   "cell_type": "code",
   "execution_count": 39,
   "metadata": {
    "collapsed": false
   },
   "outputs": [
    {
     "data": {
      "text/plain": [
       "2×2 Array{Tuple{UnitRange{Int64},UnitRange{Int64}},2}:\n",
       " (1:5,1:5)   (1:5,6:10) \n",
       " (6:10,1:5)  (6:10,6:10)"
      ]
     },
     "execution_count": 39,
     "metadata": {},
     "output_type": "execute_result"
    }
   ],
   "source": [
    "M.indexes"
   ]
  },
  {
   "cell_type": "markdown",
   "metadata": {},
   "source": [
    "This shows that the array was divided up into equal pieces on each of the four processors."
   ]
  },
  {
   "cell_type": "code",
   "execution_count": 43,
   "metadata": {
    "collapsed": false
   },
   "outputs": [
    {
     "data": {
      "text/plain": [
       "10-element DistributedArrays.DArray{Float64,1,Array{Float64,1}}:\n",
       " 0.0217203\n",
       " 0.42808  \n",
       " 0.360108 \n",
       " 0.210527 \n",
       " 0.118268 \n",
       " 0.773549 \n",
       " 0.863915 \n",
       " 0.811474 \n",
       " 0.884174 \n",
       " 0.0721028"
      ]
     },
     "execution_count": 43,
     "metadata": {},
     "output_type": "execute_result"
    }
   ],
   "source": [
    "v = drand(10)"
   ]
  },
  {
   "cell_type": "code",
   "execution_count": 44,
   "metadata": {
    "collapsed": false
   },
   "outputs": [
    {
     "data": {
      "text/plain": [
       "10-element DistributedArrays.DArray{Float64,1,Array{Float64,1}}:\n",
       " 3.07848\n",
       " 2.0511 \n",
       " 3.03843\n",
       " 1.58895\n",
       " 2.80143\n",
       " 2.38656\n",
       " 2.85551\n",
       " 2.28942\n",
       " 2.67886\n",
       " 3.0865 "
      ]
     },
     "execution_count": 44,
     "metadata": {},
     "output_type": "execute_result"
    }
   ],
   "source": [
    "M * v"
   ]
  },
  {
   "cell_type": "markdown",
   "metadata": {},
   "source": [
    "Again, we see that `*` has been defined for these objects, so once again we can just run"
   ]
  },
  {
   "cell_type": "code",
   "execution_count": 45,
   "metadata": {
    "collapsed": false
   },
   "outputs": [
    {
     "data": {
      "text/plain": [
       "([0.362065,0.265624,0.353252,0.207619,0.330826,0.309607,0.334392,0.317482,0.296875,0.352718],5.471962252198712)"
      ]
     },
     "execution_count": 45,
     "metadata": {},
     "output_type": "execute_result"
    }
   ],
   "source": [
    "power_method(M, v)"
   ]
  },
  {
   "cell_type": "markdown",
   "metadata": {},
   "source": [
    "## Operators"
   ]
  },
  {
   "cell_type": "markdown",
   "metadata": {},
   "source": [
    "Consider the following averaging operator that we could call a random walk or averaging operator:"
   ]
  },
  {
   "cell_type": "code",
   "execution_count": 47,
   "metadata": {
    "collapsed": false
   },
   "outputs": [
    {
     "data": {
      "text/plain": [
       "averaging (generic function with 1 method)"
      ]
     },
     "execution_count": 47,
     "metadata": {},
     "output_type": "execute_result"
    }
   ],
   "source": [
    "averaging(n) = 0.5 * SymTridiagonal(zeros(n), ones(n-1))"
   ]
  },
  {
   "cell_type": "code",
   "execution_count": 48,
   "metadata": {
    "collapsed": false
   },
   "outputs": [
    {
     "data": {
      "text/plain": [
       "7×7 SymTridiagonal{Float64}:\n",
       " 0.0  0.5   ⋅    ⋅    ⋅    ⋅    ⋅ \n",
       " 0.5  0.0  0.5   ⋅    ⋅    ⋅    ⋅ \n",
       "  ⋅   0.5  0.0  0.5   ⋅    ⋅    ⋅ \n",
       "  ⋅    ⋅   0.5  0.0  0.5   ⋅    ⋅ \n",
       "  ⋅    ⋅    ⋅   0.5  0.0  0.5   ⋅ \n",
       "  ⋅    ⋅    ⋅    ⋅   0.5  0.0  0.5\n",
       "  ⋅    ⋅    ⋅    ⋅    ⋅   0.5  0.0"
      ]
     },
     "execution_count": 48,
     "metadata": {},
     "output_type": "execute_result"
    }
   ],
   "source": [
    "averaging(7)"
   ]
  },
  {
   "cell_type": "code",
   "execution_count": 51,
   "metadata": {
    "collapsed": false
   },
   "outputs": [
    {
     "data": {
      "text/plain": [
       "7-element Array{Float64,1}:\n",
       "  1.5\n",
       "  3.0\n",
       "  5.0\n",
       "  7.0\n",
       "  9.0\n",
       " 11.0\n",
       "  5.5"
      ]
     },
     "execution_count": 51,
     "metadata": {},
     "output_type": "execute_result"
    }
   ],
   "source": [
    "v = 1:2:13\n",
    "averaging(7) * v"
   ]
  },
  {
   "cell_type": "code",
   "execution_count": 52,
   "metadata": {
    "collapsed": false
   },
   "outputs": [
    {
     "data": {
      "text/plain": [
       "([0.198757,0.339299,0.479841,0.479841,0.479841,0.339299,0.198757],0.9238795325112868)"
      ]
     },
     "execution_count": 52,
     "metadata": {},
     "output_type": "execute_result"
    }
   ],
   "source": [
    "power_method(averaging(7), v)"
   ]
  },
  {
   "cell_type": "markdown",
   "metadata": {},
   "source": [
    "Although we have saved some memory by using a `SymTridiagonal` structure, we clearly are still storing far more information than we need to, since this is just \"0 on the diagonal and 0.5 on the super- and sub-diagonal\".\n",
    "\n",
    "We can define a new type in Julia to reflect this. We realise that we do **not actually need to store any information inside the \"matrix\"**. In fact, we will rather define a **linear operator**, just as we would really like to do in mathematics:"
   ]
  },
  {
   "cell_type": "code",
   "execution_count": 53,
   "metadata": {
    "collapsed": false
   },
   "outputs": [],
   "source": [
    "type AveragingOp\n",
    "    # contains *no* information\n",
    "end"
   ]
  },
  {
   "cell_type": "markdown",
   "metadata": {},
   "source": [
    "We have a \"dummy type\" that contains no information. It will be interesting because of \"what it can do\", i.e. the operations that we define that involve objects of this type."
   ]
  },
  {
   "cell_type": "markdown",
   "metadata": {},
   "source": [
    "We create an object of this type, called `A`, with"
   ]
  },
  {
   "cell_type": "code",
   "execution_count": 55,
   "metadata": {
    "collapsed": false
   },
   "outputs": [
    {
     "data": {
      "text/plain": [
       "AveragingOp()"
      ]
     },
     "execution_count": 55,
     "metadata": {},
     "output_type": "execute_result"
    }
   ],
   "source": [
    "A = AveragingOp()  # default constructor"
   ]
  },
  {
   "cell_type": "code",
   "execution_count": 56,
   "metadata": {
    "collapsed": false
   },
   "outputs": [
    {
     "data": {
      "text/plain": [
       "AveragingOp()"
      ]
     },
     "execution_count": 56,
     "metadata": {},
     "output_type": "execute_result"
    }
   ],
   "source": [
    "A"
   ]
  },
  {
   "cell_type": "markdown",
   "metadata": {},
   "source": [
    "We will define what it means to multiply an object of this type by a vector. The simplest case would be"
   ]
  },
  {
   "cell_type": "code",
   "execution_count": 57,
   "metadata": {
    "collapsed": false
   },
   "outputs": [
    {
     "data": {
      "text/plain": [
       "* (generic function with 161 methods)"
      ]
     },
     "execution_count": 57,
     "metadata": {},
     "output_type": "execute_result"
    }
   ],
   "source": [
    "import Base.*  # necessary to overload *\n",
    "\n",
    "function *(A::AveragingOp, v::AbstractVector)\n",
    "    v  # just the identity operator\n",
    "end"
   ]
  },
  {
   "cell_type": "markdown",
   "metadata": {},
   "source": [
    "which gives an identity operator:"
   ]
  },
  {
   "cell_type": "code",
   "execution_count": 60,
   "metadata": {
    "collapsed": false
   },
   "outputs": [
    {
     "data": {
      "text/plain": [
       "3-element Array{Int64,1}:\n",
       "  1\n",
       "  2\n",
       " 43"
      ]
     },
     "execution_count": 60,
     "metadata": {},
     "output_type": "execute_result"
    }
   ],
   "source": [
    "v = [1, 2, 43]\n",
    "A*v"
   ]
  },
  {
   "cell_type": "code",
   "execution_count": 61,
   "metadata": {
    "collapsed": false
   },
   "outputs": [
    {
     "data": {
      "text/plain": [
       "([0.0232244,0.0464489,0.998651],1.0)"
      ]
     },
     "execution_count": 61,
     "metadata": {},
     "output_type": "execute_result"
    }
   ],
   "source": [
    "power_method(A, v)"
   ]
  },
  {
   "cell_type": "markdown",
   "metadata": {},
   "source": [
    "We now define the actual averaging operation. It takes a vector and returns a new vector:"
   ]
  },
  {
   "cell_type": "code",
   "execution_count": 62,
   "metadata": {
    "collapsed": false
   },
   "outputs": [
    {
     "name": "stderr",
     "output_type": "stream",
     "text": [
      "WARNING: Method definition *(Main.AveragingOp, AbstractArray{T<:Any, 1}) in module Main at In[57]:4 overwritten at In[62]:2.\n"
     ]
    },
    {
     "data": {
      "text/plain": [
       "* (generic function with 161 methods)"
      ]
     },
     "execution_count": 62,
     "metadata": {},
     "output_type": "execute_result"
    }
   ],
   "source": [
    "function *(A::AveragingOp, v::AbstractVector)\n",
    "    [ v[1];    # ; concatenates\n",
    "      [(v[i-1] + v[i+1])/2  for i in 2:length(v)-1];    # array comprehension\n",
    "      v[end] \n",
    "    ]\n",
    "end"
   ]
  },
  {
   "cell_type": "code",
   "execution_count": 66,
   "metadata": {
    "collapsed": false
   },
   "outputs": [
    {
     "name": "stdout",
     "output_type": "stream",
     "text": [
      "v = [1,4,9,16,25,36,49]\n"
     ]
    },
    {
     "data": {
      "text/plain": [
       "7-element Array{Float64,1}:\n",
       "  1.0\n",
       "  5.0\n",
       " 10.0\n",
       " 17.0\n",
       " 26.0\n",
       " 37.0\n",
       " 49.0"
      ]
     },
     "execution_count": 66,
     "metadata": {},
     "output_type": "execute_result"
    }
   ],
   "source": [
    "v = (1:7).^2\n",
    "@show v\n",
    "A*v"
   ]
  },
  {
   "cell_type": "markdown",
   "metadata": {},
   "source": [
    "Since `*` now works, we can again just reuse our some generic `power_method` implementation:"
   ]
  },
  {
   "cell_type": "code",
   "execution_count": 68,
   "metadata": {
    "collapsed": false
   },
   "outputs": [
    {
     "data": {
      "text/plain": [
       "([0.0146239,0.0584955,0.131615,0.233982,0.365597,0.52646,0.71657],1.0)"
      ]
     },
     "execution_count": 68,
     "metadata": {},
     "output_type": "execute_result"
    }
   ],
   "source": [
    "power_method(A, v)"
   ]
  },
  {
   "cell_type": "markdown",
   "metadata": {},
   "source": [
    "You could worry that `*` is not the correct notation. Mathematically, for an operator $\\mathcal{L}$ operating on a vector $\\mathbf{v}$, we might write $\\mathcal{L} \\mathbf{v}$, just using juxtaposition. Unfortunately, we are unable to use this notation in Julia.\n",
    "\n",
    "We could instead use a `⋅` for juxtaposition. Now that we have defined `*`, we can just do"
   ]
  },
  {
   "cell_type": "code",
   "execution_count": 70,
   "metadata": {
    "collapsed": false
   },
   "outputs": [
    {
     "data": {
      "text/plain": [
       "dot (generic function with 16 methods)"
      ]
     },
     "execution_count": 70,
     "metadata": {},
     "output_type": "execute_result"
    }
   ],
   "source": [
    "import Base.⋅\n",
    "A::AveragingOp ⋅ v = A * v"
   ]
  },
  {
   "cell_type": "code",
   "execution_count": 71,
   "metadata": {
    "collapsed": false
   },
   "outputs": [
    {
     "data": {
      "text/plain": [
       "7-element Array{Float64,1}:\n",
       "  1.0\n",
       "  5.0\n",
       " 10.0\n",
       " 17.0\n",
       " 26.0\n",
       " 37.0\n",
       " 49.0"
      ]
     },
     "execution_count": 71,
     "metadata": {},
     "output_type": "execute_result"
    }
   ],
   "source": [
    "A ⋅ v"
   ]
  },
  {
   "cell_type": "markdown",
   "metadata": {},
   "source": [
    "We can even define $\\mathcal{L}(\\mathbf{v})$:"
   ]
  },
  {
   "cell_type": "code",
   "execution_count": 72,
   "metadata": {
    "collapsed": true
   },
   "outputs": [],
   "source": [
    "(A::AveragingOp)(v) = A*v"
   ]
  },
  {
   "cell_type": "code",
   "execution_count": 73,
   "metadata": {
    "collapsed": false
   },
   "outputs": [
    {
     "data": {
      "text/plain": [
       "7-element Array{Float64,1}:\n",
       "  1.0\n",
       "  5.0\n",
       " 10.0\n",
       " 17.0\n",
       " 26.0\n",
       " 37.0\n",
       " 49.0"
      ]
     },
     "execution_count": 73,
     "metadata": {},
     "output_type": "execute_result"
    }
   ],
   "source": [
    "A(v)"
   ]
  },
  {
   "cell_type": "code",
   "execution_count": 27,
   "metadata": {
    "collapsed": false
   },
   "outputs": [
    {
     "data": {
      "text/html": [
       "norm(a::<b>ArrayFire.AFArray</b>) at <a href=\"https://github.com/JuliaComputing/ArrayFire.jl/tree/5fd0896b9562925c25372a2392cff83fd9e553b8/src/linalg.jl#L142\" target=\"_blank\">/Users/dpsanders/.julia/v0.5/ArrayFire/src/linalg.jl:142</a>"
      ],
      "text/plain": [
       "norm(a::ArrayFire.AFArray) at /Users/dpsanders/.julia/v0.5/ArrayFire/src/linalg.jl:142"
      ]
     },
     "execution_count": 27,
     "metadata": {},
     "output_type": "execute_result"
    }
   ],
   "source": [
    "@which norm(vv)"
   ]
  },
  {
   "cell_type": "code",
   "execution_count": 28,
   "metadata": {
    "collapsed": false
   },
   "outputs": [
    {
     "data": {
      "text/markdown": [
       "No documentation found.\n",
       "\n",
       "`ArrayFire.af_norm` is a `Function`.\n",
       "\n",
       "```\n",
       "# 1 method for generic function \"af_norm\":\n",
       "af_norm(out::Ref, _in::ArrayFire.AFArray, _type::Int64, p::Real, q::Real) at /Users/dpsanders/.julia/v0.5/ArrayFire/src/wrap.jl:1758\n",
       "```\n"
      ],
      "text/plain": [
       "No documentation found.\n",
       "\n",
       "`ArrayFire.af_norm` is a `Function`.\n",
       "\n",
       "```\n",
       "# 1 method for generic function \"af_norm\":\n",
       "af_norm(out::Ref, _in::ArrayFire.AFArray, _type::Int64, p::Real, q::Real) at /Users/dpsanders/.julia/v0.5/ArrayFire/src/wrap.jl:1758\n",
       "```\n"
      ]
     },
     "execution_count": 28,
     "metadata": {},
     "output_type": "execute_result"
    }
   ],
   "source": [
    "?ArrayFire.af_norm"
   ]
  },
  {
   "cell_type": "code",
   "execution_count": null,
   "metadata": {
    "collapsed": true
   },
   "outputs": [],
   "source": []
  }
 ],
 "metadata": {
  "kernelspec": {
   "display_name": "Julia 0.5.0-rc3",
   "language": "julia",
   "name": "julia-0.5"
  },
  "language_info": {
   "file_extension": ".jl",
   "mimetype": "application/julia",
   "name": "julia",
   "version": "0.5.0"
  }
 },
 "nbformat": 4,
 "nbformat_minor": 1
}
