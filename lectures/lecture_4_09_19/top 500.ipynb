{
 "cells": [
  {
   "cell_type": "code",
   "execution_count": 1,
   "metadata": {
    "collapsed": false
   },
   "outputs": [
    {
     "name": "stdout",
     "output_type": "stream",
     "text": [
      "search: readcsv readchomp @threadcall\n",
      "\n"
     ]
    },
    {
     "data": {
      "text/markdown": [
       "```\n",
       "readcsv(source, [T::Type]; options...)\n",
       "```\n",
       "\n",
       "Equivalent to `readdlm` with `delim` set to comma.\n"
      ],
      "text/plain": [
       "```\n",
       "readcsv(source, [T::Type]; options...)\n",
       "```\n",
       "\n",
       "Equivalent to `readdlm` with `delim` set to comma.\n"
      ]
     },
     "execution_count": 1,
     "metadata": {},
     "output_type": "execute_result"
    }
   ],
   "source": [
    "? readcsv"
   ]
  },
  {
   "cell_type": "code",
   "execution_count": 1,
   "metadata": {
    "collapsed": false
   },
   "outputs": [],
   "source": [
    "#Pkg.add(\"DataFrames\")\n",
    "using DataFrames"
   ]
  },
  {
   "cell_type": "code",
   "execution_count": 2,
   "metadata": {
    "collapsed": false
   },
   "outputs": [
    {
     "data": {
      "text/html": [
       "<table class=\"data-frame\"><tr><th></th><th>Rank</th><th>Previous_Rank</th><th>First_Appearance</th><th>First_Rank</th><th>Name</th><th>Computer</th><th>Site</th><th>Manufacturer</th><th>Country</th><th>Year</th><th>Segment</th><th>Total_Cores</th><th>Accelerator_Co_Processor_Cores</th><th>Rmax</th><th>Rpeak</th><th>Nmax</th><th>Nhalf</th><th>Power</th><th>Mflops_Watt</th><th>Architecture</th><th>Processor</th><th>Processor_Technology</th><th>Processor_Speed_MHz_</th><th>Operating_System</th><th>OS_Family</th><th>Accelerator_Co_Processor</th><th>Cores_per_Socket</th><th>Processor_Generation</th><th>System_Model</th><th>System_Family</th><th>Interconnect_Family</th><th>Interconnect</th><th>Region</th><th>Continent</th></tr><tr><th>1</th><td>1</td><td>NA</td><td>47</td><td>1</td><td>Sunway TaihuLight</td><td>Sunway MPP, Sunway SW26010 260C 1.45GHz, Sunway</td><td>National Supercomputing Center in Wuxi</td><td>NRCPC</td><td>China</td><td>2016</td><td>Research</td><td>10649600</td><td>0</td><td>9.301459388e7</td><td>1.25435904e8</td><td>12288000</td><td>0</td><td>15371.0</td><td>6051.3</td><td>MPP</td><td>Sunway SW26010 260C 1.45GHz</td><td>Others</td><td>1450</td><td>Sunway RaiseOS 2.0.5</td><td>Linux</td><td>None</td><td>260</td><td>Sunway</td><td>Sunway MPP</td><td>Sunway Cluster</td><td>Custom Interconnect</td><td>Sunway</td><td>Eastern Asia</td><td>Asia</td></tr><tr><th>2</th><td>2</td><td>1</td><td>41</td><td>1</td><td>Tianhe-2 (MilkyWay-2)</td><td>TH-IVB-FEP Cluster, Intel Xeon E5-2692 12C 2.200GHz, TH Express-2, Intel Xeon Phi 31S1P</td><td>National Super Computer Center in Guangzhou</td><td>NUDT</td><td>China</td><td>2013</td><td>Research</td><td>3120000</td><td>2736000</td><td>3.38627e7</td><td>5.49024e7</td><td>9960000</td><td>0</td><td>17808.0</td><td>1901.54</td><td>Cluster</td><td>Intel Xeon E5-2692v2 12C 2.2GHz</td><td>Intel IvyBridge</td><td>2200</td><td>Kylin Linux</td><td>Linux</td><td>Intel Xeon Phi 31S1P</td><td>12</td><td>Intel Xeon E5 (IvyBridge)</td><td>TH-IVB-FEP Cluster</td><td>TH-IVB Cluster</td><td>Custom Interconnect</td><td>TH Express-2</td><td>Eastern Asia</td><td>Asia</td></tr><tr><th>3</th><td>3</td><td>2</td><td>40</td><td>1</td><td>Titan</td><td>Cray XK7 , Opteron 6274 16C 2.200GHz, Cray Gemini interconnect, NVIDIA K20x</td><td>DOE/SC/Oak Ridge National Laboratory</td><td>Cray Inc.</td><td>United States</td><td>2012</td><td>Research</td><td>560640</td><td>261632</td><td>1.759e7</td><td>2.711255e7</td><td>0</td><td>0</td><td>8209.0</td><td>2142.77</td><td>MPP</td><td>Opteron 6274 16C 2.2GHz</td><td>AMD x86_64</td><td>2200</td><td>Cray Linux Environment</td><td>Linux</td><td>NVIDIA Tesla K20x</td><td>16</td><td>Opteron 6200 Series \"Interlagos\"</td><td>Cray XK7</td><td>Cray XK</td><td>Custom Interconnect</td><td>Cray Gemini interconnect</td><td>North America</td><td>Americas</td></tr><tr><th>4</th><td>4</td><td>3</td><td>38</td><td>17</td><td>Sequoia</td><td>BlueGene/Q, Power BQC 16C 1.60 GHz, Custom</td><td>DOE/NNSA/LLNL</td><td>IBM</td><td>United States</td><td>2011</td><td>Research</td><td>1572864</td><td>0</td><td>1.7173224e7</td><td>2.01326592e7</td><td>0</td><td>0</td><td>7890.0</td><td>2176.58</td><td>MPP</td><td>Power BQC 16C 1.6GHz</td><td>PowerPC</td><td>1600</td><td>Linux</td><td>Linux</td><td>None</td><td>16</td><td>Power BQC</td><td>BlueGene/Q</td><td>IBM BlueGene</td><td>Custom Interconnect</td><td>Custom Interconnect</td><td>North America</td><td>Americas</td></tr><tr><th>5</th><td>5</td><td>4</td><td>37</td><td>1</td><td>NA</td><td>K computer, SPARC64 VIIIfx 2.0GHz, Tofu interconnect</td><td>RIKEN Advanced Institute for Computational Science (AICS)</td><td>Fujitsu</td><td>Japan</td><td>2011</td><td>Research</td><td>705024</td><td>0</td><td>1.051e7</td><td>1.1280384e7</td><td>11870208</td><td>0</td><td>12659.89</td><td>830.18</td><td>Cluster</td><td>SPARC64 VIIIfx 8C 2GHz</td><td>Sparc</td><td>2000</td><td>Linux</td><td>Linux</td><td>None</td><td>8</td><td>SPARC64 VIIIfx</td><td>K computer</td><td>Fujitsu Cluster</td><td>Custom Interconnect</td><td>Custom Interconnect</td><td>Eastern Asia</td><td>Asia</td></tr><tr><th>6</th><td>6</td><td>5</td><td>39</td><td>3</td><td>Mira</td><td>BlueGene/Q, Power BQC 16C 1.60GHz, Custom</td><td>DOE/SC/Argonne National Laboratory</td><td>IBM</td><td>United States</td><td>2012</td><td>Research</td><td>786432</td><td>0</td><td>8.586612e6</td><td>1.006633e7</td><td>0</td><td>0</td><td>3945.0</td><td>2176.58</td><td>MPP</td><td>Power BQC 16C 1.6GHz</td><td>PowerPC</td><td>1600</td><td>Linux</td><td>Linux</td><td>None</td><td>16</td><td>Power BQC</td><td>BlueGene/Q</td><td>IBM BlueGene</td><td>Custom Interconnect</td><td>Custom Interconnect</td><td>North America</td><td>Americas</td></tr><tr><th>7</th><td>7</td><td>6</td><td>46</td><td>6</td><td>Trinity</td><td>Cray XC40, Xeon E5-2698v3 16C 2.3GHz, Aries interconnect </td><td>DOE/NNSA/LANL/SNL</td><td>Cray Inc.</td><td>United States</td><td>2015</td><td>Research</td><td>301056</td><td>0</td><td>8.1009e6</td><td>1.1078861e7</td><td>8847936</td><td>0</td><td>NA</td><td>NA</td><td>MPP</td><td>Xeon E5-2698v3 16C 2.3GHz</td><td>Intel Haswell</td><td>2300</td><td>Cray Linux Environment</td><td>Linux</td><td>None</td><td>16</td><td>Intel Xeon E5 (Haswell)</td><td>Cray XC40</td><td>Cray XC</td><td>Custom Interconnect</td><td>Aries interconnect</td><td>North America</td><td>Americas</td></tr><tr><th>8</th><td>8</td><td>7</td><td>40</td><td>114</td><td>Piz Daint</td><td>Cray XC30, Xeon E5-2670 8C 2.600GHz, Aries interconnect , NVIDIA K20x</td><td>Swiss National Supercomputing Centre (CSCS)</td><td>Cray Inc.</td><td>Switzerland</td><td>2012</td><td>Research</td><td>115984</td><td>73808</td><td>6.271e6</td><td>7.7888528e6</td><td>4128768</td><td>0</td><td>2325.0</td><td>2697.2</td><td>MPP</td><td>Xeon E5-2670 8C 2.6GHz</td><td>Intel SandyBridge</td><td>2600</td><td>Cray Linux Environment</td><td>Linux</td><td>NVIDIA Tesla K20x</td><td>8</td><td>Intel Xeon E5 (SandyBridge)</td><td>Cray XC30</td><td>Cray XC</td><td>Custom Interconnect</td><td>Aries interconnect</td><td>Western Europe</td><td>Europe</td></tr><tr><th>9</th><td>9</td><td>8</td><td>44</td><td>16</td><td>Hazel Hen</td><td>Cray XC40, Xeon E5-2680v3 12C 2.5GHz, Aries interconnect </td><td>HLRS - H_chstleistungsrechenzentrum Stuttgart</td><td>Cray Inc.</td><td>Germany</td><td>2015</td><td>Research</td><td>185088</td><td>0</td><td>5.64017e6</td><td>7.40352e6</td><td>4973760</td><td>0</td><td>NA</td><td>NA</td><td>MPP</td><td>Xeon E5-2680v3 12C 2.5GHz</td><td>Intel Haswell</td><td>2500</td><td>Cray Linux Environment</td><td>Linux</td><td>None</td><td>12</td><td>Intel Xeon E5 (Haswell)</td><td>Cray XC40</td><td>Cray XC</td><td>Custom Interconnect</td><td>Aries interconnect</td><td>Western Europe</td><td>Europe</td></tr><tr><th>10</th><td>10</td><td>9</td><td>45</td><td>7</td><td>Shaheen II</td><td>Cray XC40, Xeon E5-2698v3 16C 2.3GHz, Aries interconnect </td><td>King Abdullah University of Science and Technology</td><td>Cray Inc.</td><td>Saudi Arabia</td><td>2015</td><td>Academic</td><td>196608</td><td>0</td><td>5.53699e6</td><td>7.235174e6</td><td>9738048</td><td>0</td><td>2834.0</td><td>1953.77</td><td>MPP</td><td>Xeon E5-2698v3 16C 2.3GHz</td><td>Intel Haswell</td><td>2300</td><td>Cray Linux Environment</td><td>Linux</td><td>None</td><td>16</td><td>Intel Xeon E5 (Haswell)</td><td>Cray XC40</td><td>Cray XC</td><td>Custom Interconnect</td><td>Aries interconnect</td><td>Western Asia</td><td>Asia</td></tr><tr><th>11</th><td>11</td><td>32</td><td>41</td><td>11</td><td>Pangea</td><td>SGI ICE X, Xeon Xeon E5-2670/ E5-2680v3 12C 2.5GHz, Infiniband FDR</td><td>Total Exploration Production</td><td>SGI</td><td>France</td><td>2013</td><td>Industry</td><td>220800</td><td>0</td><td>5.28311e6</td><td>6.71232e6</td><td>4919040</td><td>0</td><td>4150.0</td><td>1273.04</td><td>Cluster</td><td>Xeon E5-2680v3 12C 2.5GHz</td><td>Intel Haswell</td><td>2500</td><td>SUSE Linux Enterprise Server 11</td><td>Linux</td><td>None</td><td>12</td><td>Intel Xeon E5 (Haswell)</td><td>SGI ICE X</td><td>SGI ICE</td><td>Infiniband</td><td>Infiniband FDR</td><td>Western Europe</td><td>Europe</td></tr><tr><th>12</th><td>12</td><td>10</td><td>40</td><td>7</td><td>Stampede</td><td>PowerEdge C8220, Xeon E5-2680 8C 2.700GHz, Infiniband FDR, Intel Xeon Phi SE10P</td><td>Texas Advanced Computing Center/Univ. of Texas</td><td>Dell</td><td>United States</td><td>2012</td><td>Academic</td><td>462462</td><td>366366</td><td>5.16811e6</td><td>8.5201116e6</td><td>3875000</td><td>0</td><td>4510.0</td><td>1145.92</td><td>Cluster</td><td>Xeon E5-2680 8C 2.7GHz</td><td>Intel SandyBridge</td><td>2700</td><td>Linux</td><td>Linux</td><td>Intel Xeon Phi SE10P</td><td>8</td><td>Intel Xeon E5 (SandyBridge)</td><td>PowerEdge C8220</td><td>Dell PowerEdge Cluster</td><td>Infiniband</td><td>Infiniband FDR</td><td>North America</td><td>Americas</td></tr><tr><th>13</th><td>13</td><td>11</td><td>39</td><td>8</td><td>JUQUEEN</td><td>BlueGene/Q, Power BQC 16C 1.600GHz, Custom Interconnect</td><td>Forschungszentrum Juelich (FZJ)</td><td>IBM</td><td>Germany</td><td>2012</td><td>Research</td><td>458752</td><td>0</td><td>5.008857e6</td><td>5.8720256e6</td><td>0</td><td>0</td><td>2301.0</td><td>2176.82</td><td>MPP</td><td>Power BQC 16C 1.6GHz</td><td>PowerPC</td><td>1600</td><td>Linux</td><td>Linux</td><td>None</td><td>16</td><td>Power BQC</td><td>BlueGene/Q</td><td>IBM BlueGene</td><td>Custom Interconnect</td><td>Custom Interconnect</td><td>Western Europe</td><td>Europe</td></tr><tr><th>14</th><td>14</td><td>12</td><td>39</td><td>48</td><td>Vulcan</td><td>BlueGene/Q, Power BQC 16C 1.600GHz, Custom Interconnect</td><td>DOE/NNSA/LLNL</td><td>IBM</td><td>United States</td><td>2012</td><td>Research</td><td>393216</td><td>0</td><td>4.293306e6</td><td>5.033165e6</td><td>0</td><td>0</td><td>1972.0</td><td>2177.13</td><td>MPP</td><td>Power BQC 16C 1.6GHz</td><td>PowerPC</td><td>1600</td><td>Linux</td><td>Linux</td><td>None</td><td>16</td><td>Power BQC</td><td>BlueGene/Q</td><td>IBM BlueGene</td><td>Custom Interconnect</td><td>Custom Interconnect</td><td>North America</td><td>Americas</td></tr><tr><th>15</th><td>15</td><td>13</td><td>37</td><td>7</td><td>Pleiades</td><td>SGI ICE X, Intel Xeon E5-2670/E5-2680v2/E5-2680v3  2.6/2.8/2.5 GHz, Infiniband FDR</td><td>NASA/Ames Research Center/NAS</td><td>SGI</td><td>United States</td><td>2011</td><td>Research</td><td>185344</td><td>0</td><td>4.08943e6</td><td>4.97091e6</td><td>5459520</td><td>0</td><td>3380.0</td><td>1209.89</td><td>Cluster</td><td>Intel Xeon E5-2680v2  10C 2.8GHz</td><td>Intel IvyBridge</td><td>2800</td><td>SUSE Linux Enterprise Server 11</td><td>Linux</td><td>None</td><td>10</td><td>Intel Xeon E5 (IvyBridge)</td><td>SGI ICE X</td><td>SGI ICE</td><td>Infiniband</td><td>Infiniband FDR</td><td>North America</td><td>Americas</td></tr><tr><th>16</th><td>16</td><td>14</td><td>45</td><td>12</td><td>Abel</td><td>Cray XC30, Xeon E5-2698v3 16C 2.3GHz, Aries interconnect </td><td>Petroleum Geo-Services</td><td>Cray Inc.</td><td>United States</td><td>2015</td><td>Industry</td><td>145920</td><td>0</td><td>4.04246e6</td><td>5.369856e6</td><td>8338176</td><td>0</td><td>1800.0</td><td>2245.81</td><td>MPP</td><td>Xeon E5-2698v3 16C 2.3GHz</td><td>Intel Haswell</td><td>2300</td><td>Cray Linux Environment</td><td>Linux</td><td>None</td><td>16</td><td>Intel Xeon E5 (Haswell)</td><td>Cray XC30</td><td>Cray XC</td><td>Custom Interconnect</td><td>Aries interconnect</td><td>North America</td><td>Americas</td></tr><tr><th>17</th><td>17</td><td>45</td><td>43</td><td>19</td><td>NA</td><td>Cray XC40, Xeon E5-2695v4 18C 2.1GHz, Aries interconnect </td><td>ECMWF</td><td>Cray Inc.</td><td>United Kingdom</td><td>2014</td><td>Research</td><td>126468</td><td>0</td><td>3.94468e6</td><td>4.249325e6</td><td>7171008</td><td>0</td><td>NA</td><td>NA</td><td>MPP</td><td>Xeon E5-2695v4 18C 2.1GHz</td><td>Intel Broadwell</td><td>2100</td><td>Cray Linux Environment</td><td>Linux</td><td>None</td><td>18</td><td>Intel Xeon E5 (Broadwell)</td><td>Cray XC40</td><td>Cray XC</td><td>Custom Interconnect</td><td>Aries interconnect</td><td>Northern Europe</td><td>Europe</td></tr><tr><th>18</th><td>18</td><td>NA</td><td>47</td><td>18</td><td>NA</td><td>Cray XC40, Xeon E5-2695v4 18C 2.1GHz, Aries interconnect </td><td>ECMWF</td><td>Cray Inc.</td><td>United Kingdom</td><td>2016</td><td>Research</td><td>126468</td><td>0</td><td>3.94468e6</td><td>4.249325e6</td><td>7171008</td><td>0</td><td>NA</td><td>NA</td><td>MPP</td><td>Xeon E5-2695v4 18C 2.1GHz</td><td>Intel Broadwell</td><td>2100</td><td>Cray Linux Environment</td><td>Linux</td><td>None</td><td>18</td><td>Intel Xeon E5 (Broadwell)</td><td>Cray XC40</td><td>Cray XC</td><td>Custom Interconnect</td><td>Aries interconnect</td><td>Northern Europe</td><td>Europe</td></tr><tr><th>19</th><td>19</td><td>16</td><td>44</td><td>10</td><td>NA</td><td>Cray CS-Storm, Intel Xeon E5-2660v2 10C 2.2GHz, Infiniband FDR, Nvidia K40</td><td>Government</td><td>Cray Inc.</td><td>United States</td><td>2014</td><td>Government</td><td>72800</td><td>62400</td><td>3.577e6</td><td>6.13184e6</td><td>2336000</td><td>0</td><td>1498.9</td><td>2386.42</td><td>Cluster</td><td>Intel Xeon E5-2660v2 10C 2.2GHz</td><td>Intel IvyBridge</td><td>2200</td><td>Linux</td><td>Linux</td><td>NVIDIA Tesla K40</td><td>10</td><td>Intel Xeon E5 (IvyBridge)</td><td>Cray CS-Storm</td><td>Cray CS-Storm</td><td>Infiniband</td><td>Infiniband FDR</td><td>North America</td><td>Americas</td></tr><tr><th>20</th><td>20</td><td>15</td><td>45</td><td>13</td><td>NA</td><td>Cray CS-Storm, Intel Xeon E5-2660v2 10C 2.2GHz, Infiniband FDR, Nvidia K40</td><td>Government</td><td>Cray Inc.</td><td>United States</td><td>2015</td><td>Government</td><td>72800</td><td>62400</td><td>3.577e6</td><td>6.13184e6</td><td>2336000</td><td>0</td><td>1498.9</td><td>2386.42</td><td>Cluster</td><td>Intel Xeon E5-2660v2 10C 2.2GHz</td><td>Intel IvyBridge</td><td>2200</td><td>Linux</td><td>Linux</td><td>NVIDIA Tesla K40</td><td>10</td><td>Intel Xeon E5 (IvyBridge)</td><td>Cray CS-Storm</td><td>Cray CS-Storm</td><td>Infiniband</td><td>Infiniband FDR</td><td>North America</td><td>Americas</td></tr><tr><th>21</th><td>21</td><td>17</td><td>45</td><td>16</td><td>Topaz</td><td>SGI ICE X, Xeon E5-2699v3 18C 2.3GHz, Infiniband FDR</td><td>ERDC DSRC</td><td>SGI</td><td>United States</td><td>2015</td><td>Research</td><td>124200</td><td>0</td><td>3.31895e6</td><td>4.57056e6</td><td>5779200</td><td>0</td><td>NA</td><td>NA</td><td>Cluster</td><td>Xeon E5-2699v3 18C 2.3GHz</td><td>Intel Haswell</td><td>2300</td><td>SUSE Linux Enterprise Server 11</td><td>Linux</td><td>None</td><td>18</td><td>Intel Xeon E5 (Haswell)</td><td>SGI ICE X</td><td>SGI ICE</td><td>Infiniband</td><td>Infiniband FDR</td><td>North America</td><td>Americas</td></tr><tr><th>22</th><td>22</td><td>18</td><td>43</td><td>11</td><td>HPC2</td><td>iDataPlex DX360M4, Intel Xeon E5-2680v2  10C 2.8GHz, Infiniband FDR, NVIDIA K20x</td><td>Exploration &amp; Production - Eni S.p.A.</td><td>IBM</td><td>Italy</td><td>2014</td><td>Industry</td><td>72000</td><td>42000</td><td>3.188e6</td><td>4.605e6</td><td>3978240</td><td>0</td><td>1227.0</td><td>2598.21</td><td>Cluster</td><td>Intel Xeon E5-2680v2  10C 2.8GHz</td><td>Intel IvyBridge</td><td>2800</td><td>Linux</td><td>Linux</td><td>NVIDIA Tesla K20x</td><td>10</td><td>Intel Xeon E5 (IvyBridge)</td><td>iDataPlex DX360M4</td><td>IBM iDataPlex</td><td>Infiniband</td><td>Infiniband FDR</td><td>Southern Europe</td><td>Europe</td></tr><tr><th>23</th><td>23</td><td>60</td><td>45</td><td>53</td><td>SORA-MA</td><td>Fujitsu PRIMEHPC FX100, SPARC64 XIfx  32C 1.98GHz, Tofu interconnect 2</td><td>Japan Aerospace eXploration Agency</td><td>Fujitsu</td><td>Japan</td><td>2015</td><td>Research</td><td>110160</td><td>0</td><td>3.157e6</td><td>3.481056e6</td><td>3350880</td><td>0</td><td>NA</td><td>NA</td><td>Cluster</td><td>SPARC64 XIfx  32C 1.98GHz</td><td>Sparc</td><td>1975</td><td>Linux</td><td>Linux</td><td>None</td><td>32</td><td>SPARC64 XIfx</td><td>Fujitsu PRIMEHPC FX100</td><td>Fujitsu PRIMEHPC</td><td>Proprietary Network</td><td>Tofu interconnect 2</td><td>Eastern Asia</td><td>Asia</td></tr><tr><th>24</th><td>24</td><td>19</td><td>43</td><td>10</td><td>NA</td><td>Cray XC30, Intel Xeon E5-2697v2 12C 2.7GHz, Aries interconnect </td><td>Government</td><td>Cray Inc.</td><td>United States</td><td>2014</td><td>Government</td><td>225984</td><td>0</td><td>3.14352e6</td><td>4.8812544e6</td><td>2541684</td><td>0</td><td>NA</td><td>NA</td><td>MPP</td><td>Intel Xeon E5-2697v2 12C 2.7GHz</td><td>Intel IvyBridge</td><td>2700</td><td>Cray Linux Environment</td><td>Linux</td><td>None</td><td>12</td><td>Intel Xeon E5 (IvyBridge)</td><td>Cray XC30</td><td>Cray XC</td><td>Custom Interconnect</td><td>Aries interconnect</td><td>North America</td><td>Americas</td></tr><tr><th>25</th><td>25</td><td>20</td><td>45</td><td>19</td><td>Thunder</td><td>SGI ICE X, Xeon E5-2699v3/E5-2697 v3, Infiniband FDR, NVIDIA Tesla K40, Intel Xeon Phi 7120P</td><td>Air Force Research Laboratory</td><td>SGI</td><td>United States</td><td>2015</td><td>Government</td><td>152692</td><td>27056</td><td>3.12624e6</td><td>5.610481e6</td><td>5572800</td><td>0</td><td>NA</td><td>NA</td><td>Cluster</td><td>Xeon E5-2699v3 18C 2.3GHz</td><td>Intel Haswell</td><td>2300</td><td>SUSE Linux Enterprise Server 11</td><td>Linux</td><td>NVIDIA Tesla K40/Intel Xeon Phi 7120P</td><td>18</td><td>Intel Xeon E5 (Haswell)</td><td>SGI ICE X</td><td>SGI ICE</td><td>Infiniband</td><td>Infiniband FDR</td><td>North America</td><td>Americas</td></tr><tr><th>26</th><td>26</td><td>21</td><td>46</td><td>21</td><td>NA</td><td>Fujitsu PRIMEHPC FX100, SPARC64 XIfx 32C 2.2GHz, Tofu interconnect 2</td><td>Information Technology Center, Nagoya University</td><td>Fujitsu</td><td>Japan</td><td>2015</td><td>Academic</td><td>92160</td><td>0</td><td>2.91e6</td><td>3.244032e6</td><td>3061760</td><td>0</td><td>NA</td><td>NA</td><td>Cluster</td><td>SPARC64 XIfx 32C 2.2GHz</td><td>Sparc</td><td>2200</td><td>Linux</td><td>Linux</td><td>None</td><td>32</td><td>SPARC64 XIfx</td><td>Fujitsu PRIMEHPC FX100</td><td>Fujitsu PRIMEHPC</td><td>Proprietary Network</td><td>Tofu interconnect 2</td><td>Eastern Asia</td><td>Asia</td></tr><tr><th>27</th><td>27</td><td>22</td><td>39</td><td>4</td><td>SuperMUC</td><td>iDataPlex DX360M4, Xeon E5-2680 8C 2.70GHz, Infiniband FDR</td><td>Leibniz Rechenzentrum</td><td>IBM/Lenovo</td><td>Germany</td><td>2012</td><td>Academic</td><td>147456</td><td>0</td><td>2.897e6</td><td>3.18505e6</td><td>5201920</td><td>0</td><td>3422.67</td><td>846.42</td><td>Cluster</td><td>Xeon E5-2680 8C 2.7GHz</td><td>Intel SandyBridge</td><td>2700</td><td>Linux</td><td>Linux</td><td>None</td><td>8</td><td>Intel Xeon E5 (SandyBridge)</td><td>iDataPlex DX360M4</td><td>IBM iDataPlex</td><td>Infiniband</td><td>Infiniband FDR</td><td>Western Europe</td><td>Europe</td></tr><tr><th>28</th><td>28</td><td>23</td><td>45</td><td>21</td><td>SuperMUC Phase 2</td><td>NeXtScale nx360M5, Xeon E5-2697v3 14C 2.6GHz, Infiniband FDR14</td><td>Leibniz Rechenzentrum</td><td>Lenovo/IBM</td><td>Germany</td><td>2015</td><td>Academic</td><td>86016</td><td>0</td><td>2.81362e6</td><td>3.578266e6</td><td>4423680</td><td>0</td><td>1480.83</td><td>1900.03</td><td>Cluster</td><td>Xeon E5-2697v3 14C 2.6GHz</td><td>Intel Haswell</td><td>2600</td><td>Linux</td><td>Linux</td><td>None</td><td>14</td><td>Intel Xeon E5 (Haswell)</td><td>IBM NeXtScale nx360M5</td><td>NeXtScale</td><td>Infiniband</td><td>Infiniband FDR14</td><td>Western Europe</td><td>Europe</td></tr><tr><th>29</th><td>29</td><td>NA</td><td>47</td><td>29</td><td>NA</td><td>Cray XC40, Xeon E5-2695v4 18C 2.1GHz, Aries interconnect </td><td>United Kingdom Meteorological Office</td><td>Cray Inc.</td><td>United Kingdom</td><td>2016</td><td>Research</td><td>89856</td><td>0</td><td>2.801782e6</td><td>3.019162e6</td><td>0</td><td>0</td><td>NA</td><td>NA</td><td>MPP</td><td>Xeon E5-2695v4 18C 2.1GHz</td><td>Intel Broadwell</td><td>2100</td><td>Cray Linux Environment</td><td>Linux</td><td>None</td><td>18</td><td>Intel Xeon E5 (Broadwell)</td><td>Cray XC40</td><td>Cray XC</td><td>Custom Interconnect</td><td>Aries interconnect</td><td>Northern Europe</td><td>Europe</td></tr><tr><th>30</th><td>30</td><td>NA</td><td>47</td><td>30</td><td>NA</td><td>Cray XC40, Xeon E5-2695v4 18C 2.1GHz, Aries interconnect </td><td>United Kingdom Meteorological Office</td><td>Cray Inc.</td><td>United Kingdom</td><td>2016</td><td>Research</td><td>89856</td><td>0</td><td>2.801782e6</td><td>3.019162e6</td><td>0</td><td>0</td><td>NA</td><td>NA</td><td>MPP</td><td>Xeon E5-2695v4 18C 2.1GHz</td><td>Intel Broadwell</td><td>2100</td><td>Cray Linux Environment</td><td>Linux</td><td>None</td><td>18</td><td>Intel Xeon E5 (Broadwell)</td><td>Cray XC40</td><td>Cray XC</td><td>Custom Interconnect</td><td>Aries interconnect</td><td>Northern Europe</td><td>Europe</td></tr><tr><th>&vellip;</th><td>&vellip;</td><td>&vellip;</td><td>&vellip;</td><td>&vellip;</td><td>&vellip;</td><td>&vellip;</td><td>&vellip;</td><td>&vellip;</td><td>&vellip;</td><td>&vellip;</td><td>&vellip;</td><td>&vellip;</td><td>&vellip;</td><td>&vellip;</td><td>&vellip;</td><td>&vellip;</td><td>&vellip;</td><td>&vellip;</td><td>&vellip;</td><td>&vellip;</td><td>&vellip;</td><td>&vellip;</td><td>&vellip;</td><td>&vellip;</td><td>&vellip;</td><td>&vellip;</td><td>&vellip;</td><td>&vellip;</td><td>&vellip;</td><td>&vellip;</td><td>&vellip;</td><td>&vellip;</td><td>&vellip;</td><td>&vellip;</td></tr></table>"
      ],
      "text/plain": [
       "500×34 DataFrames.DataFrame\n",
       "│ Row │ Rank │ Previous_Rank │ First_Appearance │ First_Rank │\n",
       "├─────┼──────┼───────────────┼──────────────────┼────────────┤\n",
       "│ 1   │ 1    │ NA            │ 47               │ 1          │\n",
       "│ 2   │ 2    │ 1             │ 41               │ 1          │\n",
       "│ 3   │ 3    │ 2             │ 40               │ 1          │\n",
       "│ 4   │ 4    │ 3             │ 38               │ 17         │\n",
       "│ 5   │ 5    │ 4             │ 37               │ 1          │\n",
       "│ 6   │ 6    │ 5             │ 39               │ 3          │\n",
       "│ 7   │ 7    │ 6             │ 46               │ 6          │\n",
       "│ 8   │ 8    │ 7             │ 40               │ 114        │\n",
       "│ 9   │ 9    │ 8             │ 44               │ 16         │\n",
       "│ 10  │ 10   │ 9             │ 45               │ 7          │\n",
       "│ 11  │ 11   │ 32            │ 41               │ 11         │\n",
       "⋮\n",
       "│ 489 │ 489  │ 346           │ 44               │ 189        │\n",
       "│ 490 │ 490  │ 347           │ 45               │ 242        │\n",
       "│ 491 │ 491  │ NA            │ 47               │ 491        │\n",
       "│ 492 │ 492  │ NA            │ 47               │ 492        │\n",
       "│ 493 │ 493  │ NA            │ 47               │ 493        │\n",
       "│ 494 │ 494  │ NA            │ 47               │ 494        │\n",
       "│ 495 │ 495  │ NA            │ 47               │ 495        │\n",
       "│ 496 │ 496  │ NA            │ 47               │ 496        │\n",
       "│ 497 │ 497  │ NA            │ 47               │ 497        │\n",
       "│ 498 │ 498  │ 348           │ 40               │ 170        │\n",
       "│ 499 │ 499  │ 349           │ 41               │ 286        │\n",
       "│ 500 │ 500  │ NA            │ 47               │ 500        │\n",
       "\n",
       "│ Row │ Name                    │\n",
       "├─────┼─────────────────────────┤\n",
       "│ 1   │ \"Sunway TaihuLight\"     │\n",
       "│ 2   │ \"Tianhe-2 (MilkyWay-2)\" │\n",
       "│ 3   │ \"Titan\"                 │\n",
       "│ 4   │ \"Sequoia\"               │\n",
       "│ 5   │ NA                      │\n",
       "│ 6   │ \"Mira\"                  │\n",
       "│ 7   │ \"Trinity\"               │\n",
       "│ 8   │ \"Piz Daint\"             │\n",
       "│ 9   │ \"Hazel Hen\"             │\n",
       "│ 10  │ \"Shaheen II\"            │\n",
       "│ 11  │ \"Pangea\"                │\n",
       "⋮\n",
       "│ 489 │ \"Lobachevsky\"           │\n",
       "│ 490 │ NA                      │\n",
       "│ 491 │ NA                      │\n",
       "│ 492 │ NA                      │\n",
       "│ 493 │ NA                      │\n",
       "│ 494 │ NA                      │\n",
       "│ 495 │ NA                      │\n",
       "│ 496 │ NA                      │\n",
       "│ 497 │ NA                      │\n",
       "│ 498 │ \"RSC Tornado SUSU\"      │\n",
       "│ 499 │ NA                      │\n",
       "│ 500 │ NA                      │\n",
       "\n",
       "│ Row │ Computer                                                                                  │\n",
       "├─────┼───────────────────────────────────────────────────────────────────────────────────────────┤\n",
       "│ 1   │ \"Sunway MPP, Sunway SW26010 260C 1.45GHz, Sunway\"                                         │\n",
       "│ 2   │ \"TH-IVB-FEP Cluster, Intel Xeon E5-2692 12C 2.200GHz, TH Express-2, Intel Xeon Phi 31S1P\" │\n",
       "│ 3   │ \"Cray XK7 , Opteron 6274 16C 2.200GHz, Cray Gemini interconnect, NVIDIA K20x\"             │\n",
       "│ 4   │ \"BlueGene/Q, Power BQC 16C 1.60 GHz, Custom\"                                              │\n",
       "│ 5   │ \"K computer, SPARC64 VIIIfx 2.0GHz, Tofu interconnect\"                                    │\n",
       "│ 6   │ \"BlueGene/Q, Power BQC 16C 1.60GHz, Custom\"                                               │\n",
       "│ 7   │ \"Cray XC40, Xeon E5-2698v3 16C 2.3GHz, Aries interconnect \"                               │\n",
       "│ 8   │ \"Cray XC30, Xeon E5-2670 8C 2.600GHz, Aries interconnect , NVIDIA K20x\"                   │\n",
       "│ 9   │ \"Cray XC40, Xeon E5-2680v3 12C 2.5GHz, Aries interconnect \"                               │\n",
       "│ 10  │ \"Cray XC40, Xeon E5-2698v3 16C 2.3GHz, Aries interconnect \"                               │\n",
       "│ 11  │ \"SGI ICE X, Xeon Xeon E5-2670/ E5-2680v3 12C 2.5GHz, Infiniband FDR\"                      │\n",
       "⋮\n",
       "│ 489 │ \"GPU Blade Cluster, Intel Xeon E5-2660v2 10C 2.2GHz, Infiniband FDR, NVIDIA K20\"          │\n",
       "│ 490 │ \"Cluster Platform DL360p Gen8, Xeon E5-2650Lv2 10C 1.7GHz, 10G Ethernet\"                  │\n",
       "│ 491 │ \"Apollo 6000 XL2x0a, Xeon E5-2690v3 12C 2.6GHz, 10G Ethernet\"                             │\n",
       "│ 492 │ \"Apollo 6000 XL2x0a, Xeon E5-2690v3 12C 2.6GHz, 10G Ethernet\"                             │\n",
       "│ 493 │ \"Apollo 6000 XL2x0a, Xeon E5-2690v3 12C 2.6GHz, 10G Ethernet\"                             │\n",
       "│ 494 │ \"Apollo 6000 XL2x0a, Xeon E5-2690v3 12C 2.6GHz, 10G Ethernet\"                             │\n",
       "│ 495 │ \"Apollo 6000 XL2x0a, Xeon E5-2690v3 12C 2.6GHz, 10G Ethernet\"                             │\n",
       "│ 496 │ \"Apollo 6000 XL2x0a, Xeon E5-2690v3 12C 2.6GHz, 10G Ethernet\"                             │\n",
       "│ 497 │ \"Lenovo x3550, Xeon E5-2620v3 6C 2.4GHz, 10G Ethernet\"                                    │\n",
       "│ 498 │ \"RSC Tornado, Xeon X5680 6C 3.330GHz, Infiniband QDR, Intel Xeon Phi SE10X\"               │\n",
       "│ 499 │ \"Cluster Platform DL360p Gen8, Xeon E5-2640 6C 2.500GHz, Gigabit Ethernet\"                │\n",
       "│ 500 │ \"Inspur TS10000, Intel Xeon E5-2650v2  8C 2.6GHz, 40G Ethernet, NVIDIA Tesla K20\"         │\n",
       "\n",
       "│ Row │ Site                                                        │\n",
       "├─────┼─────────────────────────────────────────────────────────────┤\n",
       "│ 1   │ \"National Supercomputing Center in Wuxi\"                    │\n",
       "│ 2   │ \"National Super Computer Center in Guangzhou\"               │\n",
       "│ 3   │ \"DOE/SC/Oak Ridge National Laboratory\"                      │\n",
       "│ 4   │ \"DOE/NNSA/LLNL\"                                             │\n",
       "│ 5   │ \"RIKEN Advanced Institute for Computational Science (AICS)\" │\n",
       "│ 6   │ \"DOE/SC/Argonne National Laboratory\"                        │\n",
       "│ 7   │ \"DOE/NNSA/LANL/SNL\"                                         │\n",
       "│ 8   │ \"Swiss National Supercomputing Centre (CSCS)\"               │\n",
       "│ 9   │ \"HLRS - H_chstleistungsrechenzentrum Stuttgart\"             │\n",
       "│ 10  │ \"King Abdullah University of Science and Technology\"        │\n",
       "│ 11  │ \"Total Exploration Production\"                              │\n",
       "⋮\n",
       "│ 489 │ \"Lobachevsky State University of Nizhni Novgorod\"           │\n",
       "│ 490 │ \"Hosting Services\"                                          │\n",
       "│ 491 │ \"Energy Company (D)\"                                        │\n",
       "│ 492 │ \"Energy Company (D)\"                                        │\n",
       "│ 493 │ \"Energy Company (D)\"                                        │\n",
       "│ 494 │ \"Energy Company (D)\"                                        │\n",
       "│ 495 │ \"Energy Company (D)\"                                        │\n",
       "│ 496 │ \"Energy Company (D)\"                                        │\n",
       "│ 497 │ \"Internet Service (U)\"                                      │\n",
       "│ 498 │ \"South Ural State University\"                               │\n",
       "│ 499 │ \"Logistic Services (E)\"                                     │\n",
       "│ 500 │ \"Internet Company\"                                          │\n",
       "\n",
       "│ Row │ Manufacturer                    │ Country         │ Year │ Segment    │\n",
       "├─────┼─────────────────────────────────┼─────────────────┼──────┼────────────┤\n",
       "│ 1   │ \"NRCPC\"                         │ \"China\"         │ 2016 │ \"Research\" │\n",
       "│ 2   │ \"NUDT\"                          │ \"China\"         │ 2013 │ \"Research\" │\n",
       "│ 3   │ \"Cray Inc.\"                     │ \"United States\" │ 2012 │ \"Research\" │\n",
       "│ 4   │ \"IBM\"                           │ \"United States\" │ 2011 │ \"Research\" │\n",
       "│ 5   │ \"Fujitsu\"                       │ \"Japan\"         │ 2011 │ \"Research\" │\n",
       "│ 6   │ \"IBM\"                           │ \"United States\" │ 2012 │ \"Research\" │\n",
       "│ 7   │ \"Cray Inc.\"                     │ \"United States\" │ 2015 │ \"Research\" │\n",
       "│ 8   │ \"Cray Inc.\"                     │ \"Switzerland\"   │ 2012 │ \"Research\" │\n",
       "│ 9   │ \"Cray Inc.\"                     │ \"Germany\"       │ 2015 │ \"Research\" │\n",
       "│ 10  │ \"Cray Inc.\"                     │ \"Saudi Arabia\"  │ 2015 │ \"Academic\" │\n",
       "│ 11  │ \"SGI\"                           │ \"France\"        │ 2013 │ \"Industry\" │\n",
       "⋮\n",
       "│ 489 │ \"Niagara Computers, Supermicro\" │ \"Russia\"        │ 2014 │ \"Academic\" │\n",
       "│ 490 │ \"Hewlett-Packard\"               │ \"United States\" │ 2015 │ \"Industry\" │\n",
       "│ 491 │ \"Hewlett-Packard\"               │ \"United States\" │ 2016 │ \"Industry\" │\n",
       "│ 492 │ \"Hewlett-Packard\"               │ \"United States\" │ 2016 │ \"Industry\" │\n",
       "│ 493 │ \"Hewlett-Packard\"               │ \"United States\" │ 2016 │ \"Industry\" │\n",
       "│ 494 │ \"Hewlett-Packard\"               │ \"United States\" │ 2016 │ \"Industry\" │\n",
       "│ 495 │ \"Hewlett-Packard\"               │ \"United States\" │ 2016 │ \"Industry\" │\n",
       "│ 496 │ \"Hewlett-Packard\"               │ \"United States\" │ 2016 │ \"Industry\" │\n",
       "│ 497 │ \"Lenovo\"                        │ \"China\"         │ 2016 │ \"Industry\" │\n",
       "│ 498 │ \"RSC Group\"                     │ \"Russia\"        │ 2012 │ \"Academic\" │\n",
       "│ 499 │ \"Hewlett-Packard\"               │ \"United States\" │ 2013 │ \"Industry\" │\n",
       "│ 500 │ \"Inspur\"                        │ \"China\"         │ 2016 │ \"Industry\" │\n",
       "\n",
       "│ Row │ Total_Cores │ Accelerator_Co_Processor_Cores │ Rmax      │ Rpeak     │\n",
       "├─────┼─────────────┼────────────────────────────────┼───────────┼───────────┤\n",
       "│ 1   │ 10649600    │ 0                              │ 9.30146e7 │ 1.25436e8 │\n",
       "│ 2   │ 3120000     │ 2736000                        │ 3.38627e7 │ 5.49024e7 │\n",
       "│ 3   │ 560640      │ 261632                         │ 1.759e7   │ 2.71126e7 │\n",
       "│ 4   │ 1572864     │ 0                              │ 1.71732e7 │ 2.01327e7 │\n",
       "│ 5   │ 705024      │ 0                              │ 1.051e7   │ 1.12804e7 │\n",
       "│ 6   │ 786432      │ 0                              │ 8.58661e6 │ 1.00663e7 │\n",
       "│ 7   │ 301056      │ 0                              │ 8.1009e6  │ 1.10789e7 │\n",
       "│ 8   │ 115984      │ 73808                          │ 6.271e6   │ 7.78885e6 │\n",
       "│ 9   │ 185088      │ 0                              │ 5.64017e6 │ 7.40352e6 │\n",
       "│ 10  │ 196608      │ 0                              │ 5.53699e6 │ 7.23517e6 │\n",
       "│ 11  │ 220800      │ 0                              │ 5.28311e6 │ 6.71232e6 │\n",
       "⋮\n",
       "│ 489 │ 5310        │ 3510                           │ 289500.0  │ 348660.0  │\n",
       "│ 490 │ 33120       │ 0                              │ 2.89018e5 │ 450432.0  │\n",
       "│ 491 │ 9600        │ 0                              │ 289017.0  │ 399360.0  │\n",
       "│ 492 │ 9600        │ 0                              │ 289017.0  │ 399360.0  │\n",
       "│ 493 │ 9600        │ 0                              │ 289017.0  │ 399360.0  │\n",
       "│ 494 │ 9600        │ 0                              │ 289017.0  │ 399360.0  │\n",
       "│ 495 │ 9600        │ 0                              │ 289017.0  │ 399360.0  │\n",
       "│ 496 │ 9600        │ 0                              │ 289017.0  │ 399360.0  │\n",
       "│ 497 │ 12540       │ 0                              │ 288922.0  │ 481536.0  │\n",
       "│ 498 │ 28032       │ 23424                          │ 288200.0  │ 473641.0  │\n",
       "│ 499 │ 29580       │ 0                              │ 2.8624e5  │ 591600.0  │\n",
       "│ 500 │ 5440        │ 4160                           │ 286100.0  │ 402304.0  │\n",
       "\n",
       "│ Row │ Nmax     │ Nhalf  │ Power   │ Mflops_Watt │ Architecture │\n",
       "├─────┼──────────┼────────┼─────────┼─────────────┼──────────────┤\n",
       "│ 1   │ 12288000 │ 0      │ 15371.0 │ 6051.3      │ \"MPP\"        │\n",
       "│ 2   │ 9960000  │ 0      │ 17808.0 │ 1901.54     │ \"Cluster\"    │\n",
       "│ 3   │ 0        │ 0      │ 8209.0  │ 2142.77     │ \"MPP\"        │\n",
       "│ 4   │ 0        │ 0      │ 7890.0  │ 2176.58     │ \"MPP\"        │\n",
       "│ 5   │ 11870208 │ 0      │ 12659.9 │ 830.18      │ \"Cluster\"    │\n",
       "│ 6   │ 0        │ 0      │ 3945.0  │ 2176.58     │ \"MPP\"        │\n",
       "│ 7   │ 8847936  │ 0      │ NA      │ NA          │ \"MPP\"        │\n",
       "│ 8   │ 4128768  │ 0      │ 2325.0  │ 2697.2      │ \"MPP\"        │\n",
       "│ 9   │ 4973760  │ 0      │ NA      │ NA          │ \"MPP\"        │\n",
       "│ 10  │ 9738048  │ 0      │ 2834.0  │ 1953.77     │ \"MPP\"        │\n",
       "│ 11  │ 4919040  │ 0      │ 4150.0  │ 1273.04     │ \"Cluster\"    │\n",
       "⋮\n",
       "│ 489 │ 806400   │ 564480 │ NA      │ NA          │ \"Cluster\"    │\n",
       "│ 490 │ 0        │ 0      │ NA      │ NA          │ \"Cluster\"    │\n",
       "│ 491 │ 2344512  │ 0      │ NA      │ NA          │ \"Cluster\"    │\n",
       "│ 492 │ 2344512  │ 0      │ NA      │ NA          │ \"Cluster\"    │\n",
       "│ 493 │ 2344512  │ 0      │ NA      │ NA          │ \"Cluster\"    │\n",
       "│ 494 │ 2344512  │ 0      │ NA      │ NA          │ \"Cluster\"    │\n",
       "│ 495 │ 2344512  │ 0      │ NA      │ NA          │ \"Cluster\"    │\n",
       "│ 496 │ 2344512  │ 0      │ NA      │ NA          │ \"Cluster\"    │\n",
       "│ 497 │ 2047488  │ 0      │ NA      │ NA          │ \"Cluster\"    │\n",
       "│ 498 │ 980992   │ 0      │ 294.0   │ 980.27      │ \"Cluster\"    │\n",
       "│ 499 │ 0        │ 0      │ NA      │ NA          │ \"Cluster\"    │\n",
       "│ 500 │ 740455   │ 0      │ 95.2    │ 3005.25     │ \"Cluster\"    │\n",
       "\n",
       "│ Row │ Processor                          │ Processor_Technology │\n",
       "├─────┼────────────────────────────────────┼──────────────────────┤\n",
       "│ 1   │ \"Sunway SW26010 260C 1.45GHz\"      │ \"Others\"             │\n",
       "│ 2   │ \"Intel Xeon E5-2692v2 12C 2.2GHz\"  │ \"Intel IvyBridge\"    │\n",
       "│ 3   │ \"Opteron 6274 16C 2.2GHz\"          │ \"AMD x86_64\"         │\n",
       "│ 4   │ \"Power BQC 16C 1.6GHz\"             │ \"PowerPC\"            │\n",
       "│ 5   │ \"SPARC64 VIIIfx 8C 2GHz\"           │ \"Sparc\"              │\n",
       "│ 6   │ \"Power BQC 16C 1.6GHz\"             │ \"PowerPC\"            │\n",
       "│ 7   │ \"Xeon E5-2698v3 16C 2.3GHz\"        │ \"Intel Haswell\"      │\n",
       "│ 8   │ \"Xeon E5-2670 8C 2.6GHz\"           │ \"Intel SandyBridge\"  │\n",
       "│ 9   │ \"Xeon E5-2680v3 12C 2.5GHz\"        │ \"Intel Haswell\"      │\n",
       "│ 10  │ \"Xeon E5-2698v3 16C 2.3GHz\"        │ \"Intel Haswell\"      │\n",
       "│ 11  │ \"Xeon E5-2680v3 12C 2.5GHz\"        │ \"Intel Haswell\"      │\n",
       "⋮\n",
       "│ 489 │ \"Intel Xeon E5-2660v2 10C 2.2GHz\"  │ \"Intel IvyBridge\"    │\n",
       "│ 490 │ \"Intel Xeon E5-2650Lv2 10C 1.7GHz\" │ \"Intel IvyBridge\"    │\n",
       "│ 491 │ \"Xeon E5-2690v3 12C 2.6GHz\"        │ \"Intel Haswell\"      │\n",
       "│ 492 │ \"Xeon E5-2690v3 12C 2.6GHz\"        │ \"Intel Haswell\"      │\n",
       "│ 493 │ \"Xeon E5-2690v3 12C 2.6GHz\"        │ \"Intel Haswell\"      │\n",
       "│ 494 │ \"Xeon E5-2690v3 12C 2.6GHz\"        │ \"Intel Haswell\"      │\n",
       "│ 495 │ \"Xeon E5-2690v3 12C 2.6GHz\"        │ \"Intel Haswell\"      │\n",
       "│ 496 │ \"Xeon E5-2690v3 12C 2.6GHz\"        │ \"Intel Haswell\"      │\n",
       "│ 497 │ \"Xeon E5-2620v3 6C 2.4GHz\"         │ \"Intel Haswell\"      │\n",
       "│ 498 │ \"Xeon X5680 6C 3.33GHz\"            │ \"Intel Nehalem\"      │\n",
       "│ 499 │ \"Xeon E5-2640 6C 2.5GHz\"           │ \"Intel SandyBridge\"  │\n",
       "│ 500 │ \"Intel Xeon E5-2650v2  8C 2.6GHz\"  │ \"Intel IvyBridge\"    │\n",
       "\n",
       "│ Row │ Processor_Speed_MHz_ │ Operating_System                  │ OS_Family │\n",
       "├─────┼──────────────────────┼───────────────────────────────────┼───────────┤\n",
       "│ 1   │ 1450                 │ \"Sunway RaiseOS 2.0.5\"            │ \"Linux\"   │\n",
       "│ 2   │ 2200                 │ \"Kylin Linux\"                     │ \"Linux\"   │\n",
       "│ 3   │ 2200                 │ \"Cray Linux Environment\"          │ \"Linux\"   │\n",
       "│ 4   │ 1600                 │ \"Linux\"                           │ \"Linux\"   │\n",
       "│ 5   │ 2000                 │ \"Linux\"                           │ \"Linux\"   │\n",
       "│ 6   │ 1600                 │ \"Linux\"                           │ \"Linux\"   │\n",
       "│ 7   │ 2300                 │ \"Cray Linux Environment\"          │ \"Linux\"   │\n",
       "│ 8   │ 2600                 │ \"Cray Linux Environment\"          │ \"Linux\"   │\n",
       "│ 9   │ 2500                 │ \"Cray Linux Environment\"          │ \"Linux\"   │\n",
       "│ 10  │ 2300                 │ \"Cray Linux Environment\"          │ \"Linux\"   │\n",
       "│ 11  │ 2500                 │ \"SUSE Linux Enterprise Server 11\" │ \"Linux\"   │\n",
       "⋮\n",
       "│ 489 │ 2200                 │ \"CentOS\"                          │ \"Linux\"   │\n",
       "│ 490 │ 1700                 │ \"Linux\"                           │ \"Linux\"   │\n",
       "│ 491 │ 2600                 │ \"Linux\"                           │ \"Linux\"   │\n",
       "│ 492 │ 2600                 │ \"Linux\"                           │ \"Linux\"   │\n",
       "│ 493 │ 2600                 │ \"Linux\"                           │ \"Linux\"   │\n",
       "│ 494 │ 2600                 │ \"Linux\"                           │ \"Linux\"   │\n",
       "│ 495 │ 2600                 │ \"Linux\"                           │ \"Linux\"   │\n",
       "│ 496 │ 2600                 │ \"Linux\"                           │ \"Linux\"   │\n",
       "│ 497 │ 2400                 │ \"Linux\"                           │ \"Linux\"   │\n",
       "│ 498 │ 3330                 │ \"CentOS\"                          │ \"Linux\"   │\n",
       "│ 499 │ 2500                 │ \"Linux\"                           │ \"Linux\"   │\n",
       "│ 500 │ 2600                 │ \"CentOS\"                          │ \"Linux\"   │\n",
       "\n",
       "│ Row │ Accelerator_Co_Processor │ Cores_per_Socket │\n",
       "├─────┼──────────────────────────┼──────────────────┤\n",
       "│ 1   │ \"None\"                   │ 260              │\n",
       "│ 2   │ \"Intel Xeon Phi 31S1P\"   │ 12               │\n",
       "│ 3   │ \"NVIDIA Tesla K20x\"      │ 16               │\n",
       "│ 4   │ \"None\"                   │ 16               │\n",
       "│ 5   │ \"None\"                   │ 8                │\n",
       "│ 6   │ \"None\"                   │ 16               │\n",
       "│ 7   │ \"None\"                   │ 16               │\n",
       "│ 8   │ \"NVIDIA Tesla K20x\"      │ 8                │\n",
       "│ 9   │ \"None\"                   │ 12               │\n",
       "│ 10  │ \"None\"                   │ 16               │\n",
       "│ 11  │ \"None\"                   │ 12               │\n",
       "⋮\n",
       "│ 489 │ \"NVIDIA Tesla K20\"       │ 10               │\n",
       "│ 490 │ \"None\"                   │ 10               │\n",
       "│ 491 │ \"None\"                   │ 12               │\n",
       "│ 492 │ \"None\"                   │ 12               │\n",
       "│ 493 │ \"None\"                   │ 12               │\n",
       "│ 494 │ \"None\"                   │ 12               │\n",
       "│ 495 │ \"None\"                   │ 12               │\n",
       "│ 496 │ \"None\"                   │ 12               │\n",
       "│ 497 │ \"None\"                   │ 6                │\n",
       "│ 498 │ \"Intel Xeon Phi SE10X\"   │ 6                │\n",
       "│ 499 │ \"None\"                   │ 6                │\n",
       "│ 500 │ \"NVIDIA Tesla K20\"       │ 8                │\n",
       "\n",
       "│ Row │ Processor_Generation               │ System_Model              │\n",
       "├─────┼────────────────────────────────────┼───────────────────────────┤\n",
       "│ 1   │ \"Sunway\"                           │ \"Sunway MPP\"              │\n",
       "│ 2   │ \"Intel Xeon E5 (IvyBridge)\"        │ \"TH-IVB-FEP Cluster\"      │\n",
       "│ 3   │ \"Opteron 6200 Series \\\"Interlagos\\\"\" │ \"Cray XK7\"                │\n",
       "│ 4   │ \"Power BQC\"                        │ \"BlueGene/Q\"              │\n",
       "│ 5   │ \"SPARC64 VIIIfx\"                   │ \"K computer\"              │\n",
       "│ 6   │ \"Power BQC\"                        │ \"BlueGene/Q\"              │\n",
       "│ 7   │ \"Intel Xeon E5 (Haswell)\"          │ \"Cray XC40\"               │\n",
       "│ 8   │ \"Intel Xeon E5 (SandyBridge)\"      │ \"Cray XC30\"               │\n",
       "│ 9   │ \"Intel Xeon E5 (Haswell)\"          │ \"Cray XC40\"               │\n",
       "│ 10  │ \"Intel Xeon E5 (Haswell)\"          │ \"Cray XC40\"               │\n",
       "│ 11  │ \"Intel Xeon E5 (Haswell)\"          │ \"SGI ICE X\"               │\n",
       "⋮\n",
       "│ 489 │ \"Intel Xeon E5 (IvyBridge)\"        │ \"GPU Blade Cluster\"       │\n",
       "│ 490 │ \"Intel Xeon E5 (IvyBridge)\"        │ \"Cluster Platform DL360p\" │\n",
       "│ 491 │ \"Intel Xeon E5 (Haswell)\"          │ \"Apollo 6000 XL2x0a\"      │\n",
       "│ 492 │ \"Intel Xeon E5 (Haswell)\"          │ \"Apollo 6000 XL2x0a\"      │\n",
       "│ 493 │ \"Intel Xeon E5 (Haswell)\"          │ \"Apollo 6000 XL2x0a\"      │\n",
       "│ 494 │ \"Intel Xeon E5 (Haswell)\"          │ \"Apollo 6000 XL2x0a\"      │\n",
       "│ 495 │ \"Intel Xeon E5 (Haswell)\"          │ \"Apollo 6000 XL2x0a\"      │\n",
       "│ 496 │ \"Intel Xeon E5 (Haswell)\"          │ \"Apollo 6000 XL2x0a\"      │\n",
       "│ 497 │ \"Intel Xeon E5 (Haswell)\"          │ \"Lenovo x3550\"            │\n",
       "│ 498 │ \"Xeon 5600-series (Westmere-EP)\"   │ \"RSC Tornado\"             │\n",
       "│ 499 │ \"Intel Xeon E5 (SandyBridge)\"      │ \"Cluster Platform DL360p\" │\n",
       "│ 500 │ \"Intel Xeon E5 (IvyBridge)\"        │ \"Inspur TS10000\"          │\n",
       "\n",
       "│ Row │ System_Family              │ Interconnect_Family   │\n",
       "├─────┼────────────────────────────┼───────────────────────┤\n",
       "│ 1   │ \"Sunway Cluster\"           │ \"Custom Interconnect\" │\n",
       "│ 2   │ \"TH-IVB Cluster\"           │ \"Custom Interconnect\" │\n",
       "│ 3   │ \"Cray XK\"                  │ \"Custom Interconnect\" │\n",
       "│ 4   │ \"IBM BlueGene\"             │ \"Custom Interconnect\" │\n",
       "│ 5   │ \"Fujitsu Cluster\"          │ \"Custom Interconnect\" │\n",
       "│ 6   │ \"IBM BlueGene\"             │ \"Custom Interconnect\" │\n",
       "│ 7   │ \"Cray XC\"                  │ \"Custom Interconnect\" │\n",
       "│ 8   │ \"Cray XC\"                  │ \"Custom Interconnect\" │\n",
       "│ 9   │ \"Cray XC\"                  │ \"Custom Interconnect\" │\n",
       "│ 10  │ \"Cray XC\"                  │ \"Custom Interconnect\" │\n",
       "│ 11  │ \"SGI ICE\"                  │ \"Infiniband\"          │\n",
       "⋮\n",
       "│ 489 │ \"GPU Blade Cluster\"        │ \"Infiniband\"          │\n",
       "│ 490 │ \"HP Cluster Platform 3000\" │ \"10G\"                 │\n",
       "│ 491 │ \"HP Apollo\"                │ \"10G\"                 │\n",
       "│ 492 │ \"HP Apollo\"                │ \"10G\"                 │\n",
       "│ 493 │ \"HP Apollo\"                │ \"10G\"                 │\n",
       "│ 494 │ \"HP Apollo\"                │ \"10G\"                 │\n",
       "│ 495 │ \"HP Apollo\"                │ \"10G\"                 │\n",
       "│ 496 │ \"HP Apollo\"                │ \"10G\"                 │\n",
       "│ 497 │ \"Lenovo Cluster\"           │ \"10G\"                 │\n",
       "│ 498 │ \"RSC Cluster\"              │ \"Infiniband\"          │\n",
       "│ 499 │ \"HP Cluster Platform 3000\" │ \"Gigabit Ethernet\"    │\n",
       "│ 500 │ \"Inspur Cluster\"           │ \"Gigabit Ethernet\"    │\n",
       "\n",
       "│ Row │ Interconnect               │ Region           │ Continent  │\n",
       "├─────┼────────────────────────────┼──────────────────┼────────────┤\n",
       "│ 1   │ \"Sunway\"                   │ \"Eastern Asia\"   │ \"Asia\"     │\n",
       "│ 2   │ \"TH Express-2\"             │ \"Eastern Asia\"   │ \"Asia\"     │\n",
       "│ 3   │ \"Cray Gemini interconnect\" │ \"North America\"  │ \"Americas\" │\n",
       "│ 4   │ \"Custom Interconnect\"      │ \"North America\"  │ \"Americas\" │\n",
       "│ 5   │ \"Custom Interconnect\"      │ \"Eastern Asia\"   │ \"Asia\"     │\n",
       "│ 6   │ \"Custom Interconnect\"      │ \"North America\"  │ \"Americas\" │\n",
       "│ 7   │ \"Aries interconnect\"       │ \"North America\"  │ \"Americas\" │\n",
       "│ 8   │ \"Aries interconnect\"       │ \"Western Europe\" │ \"Europe\"   │\n",
       "│ 9   │ \"Aries interconnect\"       │ \"Western Europe\" │ \"Europe\"   │\n",
       "│ 10  │ \"Aries interconnect\"       │ \"Western Asia\"   │ \"Asia\"     │\n",
       "│ 11  │ \"Infiniband FDR\"           │ \"Western Europe\" │ \"Europe\"   │\n",
       "⋮\n",
       "│ 489 │ \"Infiniband FDR\"           │ \"Eastern Europe\" │ \"Europe\"   │\n",
       "│ 490 │ \"10G Ethernet\"             │ \"North America\"  │ \"Americas\" │\n",
       "│ 491 │ \"10G Ethernet\"             │ \"North America\"  │ \"Americas\" │\n",
       "│ 492 │ \"10G Ethernet\"             │ \"North America\"  │ \"Americas\" │\n",
       "│ 493 │ \"10G Ethernet\"             │ \"North America\"  │ \"Americas\" │\n",
       "│ 494 │ \"10G Ethernet\"             │ \"North America\"  │ \"Americas\" │\n",
       "│ 495 │ \"10G Ethernet\"             │ \"North America\"  │ \"Americas\" │\n",
       "│ 496 │ \"10G Ethernet\"             │ \"North America\"  │ \"Americas\" │\n",
       "│ 497 │ \"10G Ethernet\"             │ \"Eastern Asia\"   │ \"Asia\"     │\n",
       "│ 498 │ \"Infiniband QDR\"           │ \"Eastern Europe\" │ \"Europe\"   │\n",
       "│ 499 │ \"Gigabit Ethernet\"         │ \"North America\"  │ \"Americas\" │\n",
       "│ 500 │ \"40G Ethernet\"             │ \"Eastern Asia\"   │ \"Asia\"     │"
      ]
     },
     "execution_count": 2,
     "metadata": {},
     "output_type": "execute_result"
    }
   ],
   "source": [
    "t = readtable(\"TOP500_201606.csv\")"
   ]
  },
  {
   "cell_type": "code",
   "execution_count": 3,
   "metadata": {
    "collapsed": false
   },
   "outputs": [
    {
     "data": {
      "text/plain": [
       "29-element DataArrays.DataArray{String,1}:\n",
       " \"China\"         \n",
       " \"United States\" \n",
       " \"Japan\"         \n",
       " \"Switzerland\"   \n",
       " \"Germany\"       \n",
       " \"Saudi Arabia\"  \n",
       " \"France\"        \n",
       " \"United Kingdom\"\n",
       " \"Italy\"         \n",
       " \"Korea, South\"  \n",
       " \"Russia\"        \n",
       " \"Poland\"        \n",
       " \"Czech Republic\"\n",
       " \"Sweden\"        \n",
       " \"Finland\"       \n",
       " \"Australia\"     \n",
       " \"Netherlands\"   \n",
       " \"Singapore\"     \n",
       " \"Spain\"         \n",
       " \"India\"         \n",
       " \"South Africa\"  \n",
       " \"Canada\"        \n",
       " \"Austria\"       \n",
       " \"Belgium\"       \n",
       " \"New Zealand\"   \n",
       " \"Denmark\"       \n",
       " \"Brazil\"        \n",
       " \"Norway\"        \n",
       " \"Ireland\"       "
      ]
     },
     "execution_count": 3,
     "metadata": {},
     "output_type": "execute_result"
    }
   ],
   "source": [
    "unique(t[:,:Country])"
   ]
  },
  {
   "cell_type": "code",
   "execution_count": 7,
   "metadata": {
    "collapsed": false
   },
   "outputs": [
    {
     "data": {
      "text/plain": [
       "12288000"
      ]
     },
     "execution_count": 7,
     "metadata": {},
     "output_type": "execute_result"
    }
   ],
   "source": [
    "maximum(convert( Array, t[[:Nmax]]))\n"
   ]
  },
  {
   "cell_type": "code",
   "execution_count": 5,
   "metadata": {
    "collapsed": false
   },
   "outputs": [
    {
     "data": {
      "text/html": [
       "<table class=\"data-frame\"><tr><th></th><th>Country</th><th>Rmax</th></tr><tr><th>1</th><td>China</td><td>9.301459388e7</td></tr><tr><th>2</th><td>China</td><td>3.38627e7</td></tr><tr><th>3</th><td>United States</td><td>1.759e7</td></tr><tr><th>4</th><td>United States</td><td>1.7173224e7</td></tr><tr><th>5</th><td>Japan</td><td>1.051e7</td></tr><tr><th>6</th><td>United States</td><td>8.586612e6</td></tr><tr><th>7</th><td>United States</td><td>8.1009e6</td></tr><tr><th>8</th><td>Switzerland</td><td>6.271e6</td></tr><tr><th>9</th><td>Germany</td><td>5.64017e6</td></tr><tr><th>10</th><td>Saudi Arabia</td><td>5.53699e6</td></tr><tr><th>11</th><td>France</td><td>5.28311e6</td></tr><tr><th>12</th><td>United States</td><td>5.16811e6</td></tr><tr><th>13</th><td>Germany</td><td>5.008857e6</td></tr><tr><th>14</th><td>United States</td><td>4.293306e6</td></tr><tr><th>15</th><td>United States</td><td>4.08943e6</td></tr><tr><th>16</th><td>United States</td><td>4.04246e6</td></tr><tr><th>17</th><td>United Kingdom</td><td>3.94468e6</td></tr><tr><th>18</th><td>United Kingdom</td><td>3.94468e6</td></tr><tr><th>19</th><td>United States</td><td>3.577e6</td></tr><tr><th>20</th><td>United States</td><td>3.577e6</td></tr><tr><th>21</th><td>United States</td><td>3.31895e6</td></tr><tr><th>22</th><td>Italy</td><td>3.188e6</td></tr><tr><th>23</th><td>Japan</td><td>3.157e6</td></tr><tr><th>24</th><td>United States</td><td>3.14352e6</td></tr><tr><th>25</th><td>United States</td><td>3.12624e6</td></tr><tr><th>26</th><td>Japan</td><td>2.91e6</td></tr><tr><th>27</th><td>Germany</td><td>2.897e6</td></tr><tr><th>28</th><td>Germany</td><td>2.81362e6</td></tr><tr><th>29</th><td>United Kingdom</td><td>2.801782e6</td></tr><tr><th>30</th><td>United Kingdom</td><td>2.801782e6</td></tr><tr><th>&vellip;</th><td>&vellip;</td><td>&vellip;</td></tr></table>"
      ],
      "text/plain": [
       "500×2 DataFrames.DataFrame\n",
       "│ Row │ Country         │ Rmax      │\n",
       "├─────┼─────────────────┼───────────┤\n",
       "│ 1   │ \"China\"         │ 9.30146e7 │\n",
       "│ 2   │ \"China\"         │ 3.38627e7 │\n",
       "│ 3   │ \"United States\" │ 1.759e7   │\n",
       "│ 4   │ \"United States\" │ 1.71732e7 │\n",
       "│ 5   │ \"Japan\"         │ 1.051e7   │\n",
       "│ 6   │ \"United States\" │ 8.58661e6 │\n",
       "│ 7   │ \"United States\" │ 8.1009e6  │\n",
       "│ 8   │ \"Switzerland\"   │ 6.271e6   │\n",
       "│ 9   │ \"Germany\"       │ 5.64017e6 │\n",
       "│ 10  │ \"Saudi Arabia\"  │ 5.53699e6 │\n",
       "│ 11  │ \"France\"        │ 5.28311e6 │\n",
       "⋮\n",
       "│ 489 │ \"Russia\"        │ 289500.0  │\n",
       "│ 490 │ \"United States\" │ 2.89018e5 │\n",
       "│ 491 │ \"United States\" │ 289017.0  │\n",
       "│ 492 │ \"United States\" │ 289017.0  │\n",
       "│ 493 │ \"United States\" │ 289017.0  │\n",
       "│ 494 │ \"United States\" │ 289017.0  │\n",
       "│ 495 │ \"United States\" │ 289017.0  │\n",
       "│ 496 │ \"United States\" │ 289017.0  │\n",
       "│ 497 │ \"China\"         │ 288922.0  │\n",
       "│ 498 │ \"Russia\"        │ 288200.0  │\n",
       "│ 499 │ \"United States\" │ 2.8624e5  │\n",
       "│ 500 │ \"China\"         │ 286100.0  │"
      ]
     },
     "execution_count": 5,
     "metadata": {},
     "output_type": "execute_result"
    }
   ],
   "source": [
    "t[[ :Country, :Rmax]]\n"
   ]
  },
  {
   "cell_type": "code",
   "execution_count": 9,
   "metadata": {
    "collapsed": false
   },
   "outputs": [
    {
     "data": {
      "text/html": [
       "<table class=\"data-frame\"><tr><th></th><th>Country</th><th>x1</th></tr><tr><th>1</th><td>China</td><td>168</td></tr><tr><th>2</th><td>United States</td><td>165</td></tr><tr><th>3</th><td>Japan</td><td>29</td></tr><tr><th>4</th><td>Germany</td><td>26</td></tr><tr><th>5</th><td>France</td><td>18</td></tr><tr><th>6</th><td>United Kingdom</td><td>11</td></tr><tr><th>7</th><td>India</td><td>9</td></tr><tr><th>8</th><td>Korea, South</td><td>7</td></tr><tr><th>9</th><td>Russia</td><td>7</td></tr><tr><th>10</th><td>Poland</td><td>6</td></tr><tr><th>11</th><td>Australia</td><td>5</td></tr><tr><th>12</th><td>Austria</td><td>5</td></tr><tr><th>13</th><td>Finland</td><td>5</td></tr><tr><th>14</th><td>Italy</td><td>5</td></tr><tr><th>15</th><td>Saudi Arabia</td><td>5</td></tr><tr><th>16</th><td>Sweden</td><td>5</td></tr><tr><th>17</th><td>Brazil</td><td>4</td></tr><tr><th>18</th><td>Ireland</td><td>3</td></tr><tr><th>19</th><td>Netherlands</td><td>3</td></tr><tr><th>20</th><td>Switzerland</td><td>3</td></tr><tr><th>21</th><td>Belgium</td><td>2</td></tr><tr><th>22</th><td>Denmark</td><td>2</td></tr><tr><th>23</th><td>Canada</td><td>1</td></tr><tr><th>24</th><td>Czech Republic</td><td>1</td></tr><tr><th>25</th><td>New Zealand</td><td>1</td></tr><tr><th>26</th><td>Norway</td><td>1</td></tr><tr><th>27</th><td>Singapore</td><td>1</td></tr><tr><th>28</th><td>South Africa</td><td>1</td></tr><tr><th>29</th><td>Spain</td><td>1</td></tr></table>"
      ],
      "text/plain": [
       "29×2 DataFrames.DataFrame\n",
       "│ Row │ Country          │ x1  │\n",
       "├─────┼──────────────────┼─────┤\n",
       "│ 1   │ \"China\"          │ 168 │\n",
       "│ 2   │ \"United States\"  │ 165 │\n",
       "│ 3   │ \"Japan\"          │ 29  │\n",
       "│ 4   │ \"Germany\"        │ 26  │\n",
       "│ 5   │ \"France\"         │ 18  │\n",
       "│ 6   │ \"United Kingdom\" │ 11  │\n",
       "│ 7   │ \"India\"          │ 9   │\n",
       "│ 8   │ \"Korea, South\"   │ 7   │\n",
       "│ 9   │ \"Russia\"         │ 7   │\n",
       "│ 10  │ \"Poland\"         │ 6   │\n",
       "│ 11  │ \"Australia\"      │ 5   │\n",
       "⋮\n",
       "│ 18  │ \"Ireland\"        │ 3   │\n",
       "│ 19  │ \"Netherlands\"    │ 3   │\n",
       "│ 20  │ \"Switzerland\"    │ 3   │\n",
       "│ 21  │ \"Belgium\"        │ 2   │\n",
       "│ 22  │ \"Denmark\"        │ 2   │\n",
       "│ 23  │ \"Canada\"         │ 1   │\n",
       "│ 24  │ \"Czech Republic\" │ 1   │\n",
       "│ 25  │ \"New Zealand\"    │ 1   │\n",
       "│ 26  │ \"Norway\"         │ 1   │\n",
       "│ 27  │ \"Singapore\"      │ 1   │\n",
       "│ 28  │ \"South Africa\"   │ 1   │\n",
       "│ 29  │ \"Spain\"          │ 1   │"
      ]
     },
     "execution_count": 9,
     "metadata": {},
     "output_type": "execute_result"
    }
   ],
   "source": [
    "sort!( by(t,:Country,d->length(d[:Rmax])),cols=[:x1],rev=true)\n"
   ]
  },
  {
   "cell_type": "code",
   "execution_count": 34,
   "metadata": {
    "collapsed": false
   },
   "outputs": [
    {
     "name": "stdout",
     "output_type": "stream",
     "text": [
      "search: by bytes2hex bytestring readbytes hex2bytes readbytes! groupby subtypes\n",
      "\n"
     ]
    },
    {
     "data": {
      "text/markdown": [
       "Split-apply-combine in one step; apply `f` to each grouping in `d` based on columns `col`\n",
       "\n",
       "```julia\n",
       "by(d::AbstractDataFrame, cols, f::Function)\n",
       "by(f::Function, d::AbstractDataFrame, cols)\n",
       "```\n",
       "\n",
       "### Arguments\n",
       "\n",
       "  * `d` : an AbstractDataFrame\n",
       "  * `cols` : a column indicator (Symbol, Int, Vector{Symbol}, etc.)\n",
       "  * `f` : a function to be applied to groups; expects each argument to be an AbstractDataFrame\n",
       "\n",
       "`f` can return a value, a vector, or a DataFrame. For a value or vector, these are merged into a column along with the `cols` keys. For a DataFrame, `cols` are combined along columns with the resulting DataFrame. Returning a DataFrame is the clearest because it allows column labeling.\n",
       "\n",
       "A method is defined with `f` as the first argument, so do-block notation can be used.\n",
       "\n",
       "`by(d, cols, f)` is equivalent to `combine(map(f, groupby(d, cols)))`.\n",
       "\n",
       "### Returns\n",
       "\n",
       "  * `::DataFrame`\n",
       "\n",
       "### Examples\n",
       "\n",
       "```julia\n",
       "df = DataFrame(a = repeat([1, 2, 3, 4], outer=[2]),\n",
       "               b = repeat([2, 1], outer=[4]),\n",
       "               c = randn(8))\n",
       "by(df, :a, d -> sum(d[:c]))\n",
       "by(df, :a, d -> 2 * d[:c])\n",
       "by(df, :a, d -> DataFrame(c_sum = sum(d[:c]), c_mean = mean(d[:c])))\n",
       "by(df, :a, d -> DataFrame(c = d[:c], c_mean = mean(d[:c])))\n",
       "by(df, [:a, :b]) do d\n",
       "    DataFrame(m = mean(d[:c]), v = var(d[:c]))\n",
       "end\n",
       "```\n"
      ],
      "text/plain": [
       "Split-apply-combine in one step; apply `f` to each grouping in `d` based on columns `col`\n",
       "\n",
       "```julia\n",
       "by(d::AbstractDataFrame, cols, f::Function)\n",
       "by(f::Function, d::AbstractDataFrame, cols)\n",
       "```\n",
       "\n",
       "### Arguments\n",
       "\n",
       "  * `d` : an AbstractDataFrame\n",
       "  * `cols` : a column indicator (Symbol, Int, Vector{Symbol}, etc.)\n",
       "  * `f` : a function to be applied to groups; expects each argument to be an AbstractDataFrame\n",
       "\n",
       "`f` can return a value, a vector, or a DataFrame. For a value or vector, these are merged into a column along with the `cols` keys. For a DataFrame, `cols` are combined along columns with the resulting DataFrame. Returning a DataFrame is the clearest because it allows column labeling.\n",
       "\n",
       "A method is defined with `f` as the first argument, so do-block notation can be used.\n",
       "\n",
       "`by(d, cols, f)` is equivalent to `combine(map(f, groupby(d, cols)))`.\n",
       "\n",
       "### Returns\n",
       "\n",
       "  * `::DataFrame`\n",
       "\n",
       "### Examples\n",
       "\n",
       "```julia\n",
       "df = DataFrame(a = repeat([1, 2, 3, 4], outer=[2]),\n",
       "               b = repeat([2, 1], outer=[4]),\n",
       "               c = randn(8))\n",
       "by(df, :a, d -> sum(d[:c]))\n",
       "by(df, :a, d -> 2 * d[:c])\n",
       "by(df, :a, d -> DataFrame(c_sum = sum(d[:c]), c_mean = mean(d[:c])))\n",
       "by(df, :a, d -> DataFrame(c = d[:c], c_mean = mean(d[:c])))\n",
       "by(df, [:a, :b]) do d\n",
       "    DataFrame(m = mean(d[:c]), v = var(d[:c]))\n",
       "end\n",
       "```\n"
      ]
     },
     "execution_count": 34,
     "metadata": {},
     "output_type": "execute_result"
    }
   ],
   "source": [
    "? by"
   ]
  },
  {
   "cell_type": "code",
   "execution_count": 8,
   "metadata": {
    "collapsed": false
   },
   "outputs": [
    {
     "data": {
      "text/plain": [
       "10649600"
      ]
     },
     "execution_count": 8,
     "metadata": {},
     "output_type": "execute_result"
    }
   ],
   "source": [
    "maximum(t[:Total_Cores])"
   ]
  },
  {
   "cell_type": "code",
   "execution_count": 10,
   "metadata": {
    "collapsed": false
   },
   "outputs": [
    {
     "name": "stdout",
     "output_type": "stream",
     "text": [
      "/Users/alanedelman/git/18.337_2016/lectures/lecture_4_09_19\n"
     ]
    }
   ],
   "source": [
    ";pwd"
   ]
  },
  {
   "cell_type": "code",
   "execution_count": null,
   "metadata": {
    "collapsed": true
   },
   "outputs": [],
   "source": []
  }
 ],
 "metadata": {
  "kernelspec": {
   "display_name": "Julia 0.5.0-rc3",
   "language": "julia",
   "name": "julia-0.5"
  },
  "language_info": {
   "file_extension": ".jl",
   "mimetype": "application/julia",
   "name": "julia",
   "version": "0.5.0"
  }
 },
 "nbformat": 4,
 "nbformat_minor": 0
}
